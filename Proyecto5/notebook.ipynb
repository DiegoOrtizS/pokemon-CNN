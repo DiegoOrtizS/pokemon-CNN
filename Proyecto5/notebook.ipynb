{
 "cells": [
  {
   "cell_type": "markdown",
   "metadata": {
    "cell_id": "4ae14676daf9464d8ce41c00f7067385",
    "deepnote_cell_height": 82,
    "deepnote_cell_type": "markdown",
    "tags": []
   },
   "source": [
    "# Librerías"
   ]
  },
  {
   "cell_type": "code",
   "execution_count": 1,
   "metadata": {
    "cell_id": "dca0b91c68df4f6ba8f4ae66fd2d4638",
    "deepnote_cell_height": 495,
    "deepnote_cell_type": "code",
    "deepnote_to_be_reexecuted": false,
    "execution_millis": 6,
    "execution_start": 1656113514131,
    "source_hash": "c29ad971",
    "tags": []
   },
   "outputs": [],
   "source": [
    "import torch\n",
    "import torch.nn as nn\n",
    "import torch.optim as optim\n",
    "import torchvision\n",
    "import torchvision.transforms as transform\n",
    "import torch.nn.functional as F\n",
    "import seaborn as sns\n",
    "\n",
    "import matplotlib.pyplot as plt\n",
    "import numpy as np\n",
    "import math\n",
    "import pandas as pd\n",
    "import sys\n",
    "import json\n",
    "import os\n",
    "import random\n",
    "import time\n",
    "\n",
    "from urllib.request import Request, urlopen, urlretrieve\n",
    "from typing import List\n",
    "from pprint import pprint\n",
    "from PIL import Image\n",
    "from typing_extensions import Required\n",
    "from torchvision import transforms\n",
    "from sklearn.model_selection import train_test_split\n",
    "from torch.utils.data import TensorDataset, DataLoader, Dataset\n",
    "from torch.utils.data.dataset import random_split\n",
    "from sklearn import preprocessing\n",
    "from sklearn.metrics import confusion_matrix, accuracy_score, f1_score, recall_score, precision_score\n",
    "from svglib.svglib import svg2rlg\n",
    "from reportlab.graphics import renderPM"
   ]
  },
  {
   "cell_type": "markdown",
   "metadata": {
    "cell_id": "c371cb3d7f6048e1a5dfe620c157b225",
    "deepnote_cell_height": 134,
    "deepnote_cell_type": "markdown",
    "tags": []
   },
   "source": [
    "# Extracción de datos con web scrapping\n"
   ]
  },
  {
   "cell_type": "code",
   "execution_count": 2,
   "metadata": {
    "cell_id": "81c208ada4864ecc85c464e87885a67d",
    "deepnote_cell_height": 99,
    "deepnote_cell_type": "code",
    "deepnote_to_be_reexecuted": false,
    "execution_millis": 5,
    "execution_start": 1656112784191,
    "source_hash": "f913a6e2",
    "tags": []
   },
   "outputs": [],
   "source": [
    "# son 905, pero los últimos no tienen data\n",
    "max_pokemon: int = 898"
   ]
  },
  {
   "cell_type": "code",
   "execution_count": 3,
   "metadata": {},
   "outputs": [],
   "source": [
    "types = [\"grass\", \"fire\", \"water\", \"electric\"]"
   ]
  },
  {
   "cell_type": "code",
   "execution_count": 4,
   "metadata": {
    "cell_id": "1faf299810584c6a8b5973511feceff5",
    "deepnote_cell_height": 117,
    "deepnote_cell_type": "code",
    "deepnote_to_be_reexecuted": false,
    "execution_millis": 2,
    "execution_start": 1656112784205,
    "source_hash": "5c166d96",
    "tags": []
   },
   "outputs": [],
   "source": [
    "dir1: str = \"official-artwork\"\n",
    "if os.path.exists(dir1) == False:\n",
    "    os.mkdir(dir1)"
   ]
  },
  {
   "cell_type": "code",
   "execution_count": 5,
   "metadata": {},
   "outputs": [],
   "source": [
    "dir2: str = \"all\"\n",
    "if os.path.exists(dir2) == False:\n",
    "    os.mkdir(dir2)"
   ]
  },
  {
   "cell_type": "code",
   "execution_count": null,
   "metadata": {
    "cell_id": "409ad1cd53bd41938e258722df74999e",
    "deepnote_cell_height": 333,
    "deepnote_cell_type": "code",
    "deepnote_to_be_reexecuted": false,
    "execution_millis": 38558,
    "execution_start": 1656112784214,
    "source_hash": "3b6ed317",
    "tags": []
   },
   "outputs": [],
   "source": [
    "\"\"\" \n",
    "SOLO PARA DESCARGAR DATOS\n",
    "\"\"\"\n",
    "# for pokemon_id in range(max_pokemon):\n",
    "#     req: Request = Request(\"https://pokeapi.co/api/v2/pokemon/\"+str(pokemon_id+1), \n",
    "#                     headers={'User-Agent': 'Mozilla/5.0'})\n",
    "#     webpage: bytes = urlopen(req).read()\n",
    "#     json_obj: dict = json.loads(webpage)\n",
    "#     img_url: str = json_obj[\"sprites\"][\"other\"][\"official-artwork\"][\"front_default\"]\n",
    "    \n",
    "#     name: str = json_obj[\"species\"][\"name\"]\n",
    "#     type: str = json_obj[\"types\"][0][\"type\"][\"name\"]\n",
    "\n",
    "#     if os.path.exists(dir1+\"/\"+type) == False:\n",
    "#         os.mkdir(dir1+\"/\"+type)\n",
    "    \n",
    "#     img: str = img_url.split(\"/\")[-1]\n",
    "#     urlretrieve(img_url, dir1+\"/\"+type+\"/\"+name+\".png\")"
   ]
  },
  {
   "cell_type": "code",
   "execution_count": 6,
   "metadata": {},
   "outputs": [],
   "source": [
    "imgs_category: list = [\"official-artwork\", \"home\", \"dream_world\"]"
   ]
  },
  {
   "cell_type": "code",
   "execution_count": 7,
   "metadata": {},
   "outputs": [],
   "source": [
    "for type in types:\n",
    "    if os.path.exists(dir2+\"/\"+type) == False:\n",
    "        os.mkdir(dir2+\"/\"+type)\n",
    "    # if os.path.exists(\"svg/\"+type) == False:\n",
    "    #     os.mkdir(\"svg/\"+type)"
   ]
  },
  {
   "cell_type": "code",
   "execution_count": null,
   "metadata": {},
   "outputs": [],
   "source": [
    "\"\"\" \n",
    "SOLO PARA DESCARGAR DATOS\n",
    "\"\"\"\n",
    "# for pokemon_id in range(max_pokemon):\n",
    "#     print(pokemon_id+1)\n",
    "#     req: Request = Request(\"https://pokeapi.co/api/v2/pokemon/\"+str(pokemon_id+1), \n",
    "#                     headers={'User-Agent': 'Mozilla/5.0'})\n",
    "#     webpage: bytes = urlopen(req).read()\n",
    "#     json_obj: dict = json.loads(webpage)\n",
    "#     type: str = json_obj[\"types\"][0][\"type\"][\"name\"]\n",
    "#     if type not in types:\n",
    "#         continue\n",
    "#     name: str = json_obj[\"species\"][\"name\"]\n",
    "\n",
    "#     for img_category in imgs_category:\n",
    "#         img_url: str = json_obj[\"sprites\"][\"other\"][img_category][\"front_default\"]\n",
    "#         if img_url == None:\n",
    "#             continue\n",
    "#         save_route: str = \"/\"+type+\"/\"+name+\"_\"+img_category+\".\"\n",
    "#         format: str = img_url[-3:]\n",
    "#         if format == \"svg\":\n",
    "#             urlretrieve(img_url, \"svg\"+save_route+format)\n",
    "#             drawing = svg2rlg(\"svg\"+save_route+format)\n",
    "#             renderPM.drawToFile(drawing, dir2+save_route+\"png\", fmt=\"PNG\")\n",
    "#         else:\n",
    "#             urlretrieve(img_url, dir2+save_route+format)"
   ]
  },
  {
   "cell_type": "code",
   "execution_count": 8,
   "metadata": {},
   "outputs": [
    {
     "name": "stdout",
     "output_type": "stream",
     "text": [
      "grass 86\n",
      "fire 58\n",
      "water 123\n",
      "electric 49\n",
      "['grass', 'fire', 'water', 'electric']\n"
     ]
    }
   ],
   "source": [
    "# Distribución de los datos\n",
    "for type in types:\n",
    "    print(type, len(os.listdir(dir1+\"/\"+type)))\n",
    "# types.remove(\"flying\")\n",
    "print(types)\n"
   ]
  },
  {
   "cell_type": "code",
   "execution_count": 9,
   "metadata": {},
   "outputs": [
    {
     "name": "stdout",
     "output_type": "stream",
     "text": [
      "grass 233\n",
      "fire 155\n",
      "water 346\n",
      "electric 131\n",
      "865\n"
     ]
    }
   ],
   "source": [
    "# Distribución de los datos\n",
    "sum: int = 0\n",
    "for type in types:\n",
    "    freq: int = len(os.listdir(dir2+\"/\"+type))\n",
    "    sum += freq\n",
    "    print(type, freq)\n",
    "# types.remove(\"flying\")\n",
    "print(sum)"
   ]
  },
  {
   "cell_type": "markdown",
   "metadata": {
    "cell_id": "896da40b711a4f8888ab27620132e8d7",
    "deepnote_cell_height": 82,
    "deepnote_cell_type": "markdown",
    "tags": []
   },
   "source": [
    "# CNN"
   ]
  },
  {
   "cell_type": "markdown",
   "metadata": {
    "cell_id": "5c307bb8ebb544d2bc70ddd752aba283",
    "deepnote_cell_height": 70,
    "deepnote_cell_type": "markdown",
    "tags": []
   },
   "source": [
    "## Alexnet"
   ]
  },
  {
   "cell_type": "code",
   "execution_count": null,
   "metadata": {
    "cell_id": "c159bd33463a49e687f206ca20f7e0ae",
    "deepnote_cell_height": 538.203125,
    "deepnote_cell_type": "code",
    "deepnote_to_be_reexecuted": false,
    "execution_millis": 728,
    "execution_start": 1656112822774,
    "owner_user_id": "32a19c20-c19c-4be0-b488-d37ed4f5b741",
    "source_hash": "7195c826",
    "tags": []
   },
   "outputs": [],
   "source": [
    "model = torchvision.models.alexnet(pretrained=True)\n",
    "for e in model.parameters():\n",
    "   e.requires_grad = False\n",
    "model.classifier[4] = nn.Linear(4096, 1024)\n",
    "model.classifier[6] = nn.Linear(1024, len(types))\n",
    "# model.classifier[6] = nn.Linear(4096, len(types))\n",
    "device = torch.device('cuda:0' if torch.cuda.is_available() else 'cpu')\n",
    "model.to(device)\n",
    "print(model)"
   ]
  },
  {
   "cell_type": "code",
   "execution_count": 33,
   "metadata": {},
   "outputs": [],
   "source": [
    "x: List[str] = []\n",
    "y: List[str] = []\n",
    "for type in types:\n",
    "    pokemon_imgs: List[str] = os.listdir(dir2+\"/\"+type)\n",
    "    for pokemon_img in pokemon_imgs:\n",
    "        x.append(dir2+\"/\"+type+\"/\"+pokemon_img)\n",
    "        y.append(type)"
   ]
  },
  {
   "cell_type": "code",
   "execution_count": 34,
   "metadata": {},
   "outputs": [],
   "source": [
    "class MyDataset(Dataset):\n",
    "      def __init__(self, list_IDs, labels):\n",
    "            self.labels = labels\n",
    "            self.list_IDs = list_IDs\n",
    "\n",
    "      def __len__(self):\n",
    "            return len(self.list_IDs)\n",
    "\n",
    "      def __getitem__(self, index):\n",
    "            # Select sample\n",
    "            ID = self.list_IDs[index]\n",
    "\n",
    "            # Load data and get label\n",
    "            input_image = Image.open(ID)\n",
    "            input_image = input_image.convert('RGB')\n",
    "            preprocess = transforms.Compose([\n",
    "                  transforms.Resize(256),\n",
    "                  transforms.CenterCrop(224),\n",
    "                  transforms.RandomHorizontalFlip(),\n",
    "                  transforms.ToTensor()\n",
    "            ])\n",
    "            X = preprocess(input_image)\n",
    "            y = self.labels[index]\n",
    "            return X, y"
   ]
  },
  {
   "cell_type": "code",
   "execution_count": 35,
   "metadata": {},
   "outputs": [],
   "source": [
    "le = preprocessing.LabelEncoder()\n",
    "tensor_y = le.fit_transform(y)\n",
    "tensor_y = torch.as_tensor(tensor_y)\n",
    "dataset = MyDataset(x, tensor_y)\n"
   ]
  },
  {
   "cell_type": "code",
   "execution_count": 36,
   "metadata": {},
   "outputs": [],
   "source": [
    "data_train, data_val, data_test = random_split(dataset=dataset, lengths=[605, 87, 173])"
   ]
  },
  {
   "cell_type": "code",
   "execution_count": 37,
   "metadata": {},
   "outputs": [],
   "source": [
    "batch_size = 32\n",
    "train_loader = DataLoader(dataset=data_train, batch_size=batch_size, shuffle=True)\n",
    "val_loader = DataLoader(dataset=data_val, batch_size=batch_size, shuffle=False)\n",
    "test_loader = DataLoader(dataset=data_test, batch_size=batch_size, shuffle=False)"
   ]
  },
  {
   "cell_type": "code",
   "execution_count": 38,
   "metadata": {
    "cell_id": "36701edd37294ababa555381dad795f7",
    "deepnote_cell_height": 99,
    "deepnote_cell_type": "code",
    "deepnote_to_be_reexecuted": false,
    "execution_millis": 3,
    "execution_start": 1656113535112,
    "source_hash": "fc1d418",
    "tags": []
   },
   "outputs": [],
   "source": [
    "loss_fn = nn.CrossEntropyLoss()\n",
    "# optimizer = optim.Adam(model.parameters(), lr=0.01)\n",
    "optimizer = optim.SGD(model.parameters(), lr=3e-4, weight_decay=0.005, momentum=0.9)\n",
    "# optimizer = optim.SGD(model.parameters(), lr=0.005)\n",
    "total_step = len(train_loader)\n",
    "num_epochs = 100"
   ]
  },
  {
   "cell_type": "code",
   "execution_count": 17,
   "metadata": {},
   "outputs": [],
   "source": [
    "from PIL import ImageFile\n",
    "ImageFile.LOAD_TRUNCATED_IMAGES = True"
   ]
  },
  {
   "cell_type": "code",
   "execution_count": 39,
   "metadata": {},
   "outputs": [],
   "source": [
    "def train(model, optimizer, loss_fn, num_epochs) -> List[float]:\n",
    "  # train the model\n",
    "  total_step: int = len(train_loader)\n",
    "  print(total_step)\n",
    "\n",
    "  list_train_loss: List[float] = []\n",
    "  list_val_loss: List[float] = []\n",
    "\n",
    "  beg = time.time()\n",
    "  for epoch in range(num_epochs):\n",
    "    for i, (images, labels) in enumerate(train_loader):\n",
    "      images = images.to(device)\n",
    "      labels = labels.to(device)\n",
    "      # forward \n",
    "      output = model(images)\n",
    "      loss   = loss_fn(output, labels)\n",
    "      # change the params\n",
    "      optimizer.zero_grad()\n",
    "      loss.backward()\n",
    "      optimizer.step()\n",
    "      # del images, labels, output\n",
    "    \n",
    "    train_loss: float = loss.item()\n",
    "    list_train_loss.append(train_loss)\n",
    "    with torch.no_grad():\n",
    "        model.eval()\n",
    "        for images, labels in val_loader:\n",
    "          correct = 0\n",
    "          total = 0\n",
    "          for images, labels in val_loader:\n",
    "              images = images.to(device)\n",
    "              labels = labels.to(device)\n",
    "              outputs = model(images)\n",
    "              loss = loss_fn(outputs, labels)\n",
    "              _, predicted = torch.max(outputs.data, 1)\n",
    "              total += labels.size(0)\n",
    "              correct += (predicted == labels).sum().item()\n",
    "              del images, labels, outputs\n",
    "\n",
    "        val_loss: float = loss.detach().cpu()\n",
    "        list_val_loss.append(val_loss)\n",
    "        print ('Epoch [{}/{}], Train Loss: {:.4f}, Validation Loss {:.4f},  Accuracy: {:.4f}'\n",
    "              .format(epoch+1, num_epochs, train_loss, val_loss, 100*correct/total))\n",
    "  end = time.time()\n",
    "  print('Finished training trainset in {} seconds'.format(round(end-beg, 2)))\n",
    "\n",
    "  return list_train_loss, list_val_loss"
   ]
  },
  {
   "cell_type": "code",
   "execution_count": 40,
   "metadata": {},
   "outputs": [],
   "source": [
    "def test(model, save_name: str = \"\"):\n",
    "    with torch.no_grad():\n",
    "        all_predicted: list = []\n",
    "        all_labels: list = []\n",
    "        for images, labels in test_loader:\n",
    "            images = images.to(device)\n",
    "            labels = labels.to(device)\n",
    "            outputs = model(images)\n",
    "            _, predicted = torch.max(outputs.data, 1)\n",
    "            all_predicted.extend((predicted).tolist())\n",
    "            all_labels.extend((labels).tolist())\n",
    "        val = (np.unique(le.inverse_transform(all_predicted)))\n",
    "        matrix = confusion_matrix(all_labels, all_predicted)\n",
    "        df = pd.DataFrame(matrix, index=val, columns=val)\n",
    "        sns.heatmap(df, annot=True, cbar=None, cmap=\"Greens\")\n",
    "        plt.title(\"Confusion Matrix\"), plt.tight_layout()\n",
    "        plt.xlabel(\"Predicted\")\n",
    "        plt.ylabel(\"Real\")\n",
    "        if save_name == \"\":\n",
    "            plt.show()\n",
    "        else:\n",
    "            plt.savefig(PATH_RES+save_name)\n",
    "        print('Test of the model on the {} test images'.format(len(data_test)))\n",
    "        print('Acurracy: {:.2f} %'.format(100*accuracy_score(all_labels, all_predicted)))\n",
    "        print('F1-score: {:.2f} %'.format(100*f1_score(all_labels, all_predicted, average='macro')))\n",
    "        print('Recall: {:.2f} %'.format(100*recall_score(all_labels, all_predicted, average='macro')))\n",
    "        print('Precision: {:.2f} %'.format(100*precision_score(all_labels, all_predicted, average='macro')))\n"
   ]
  },
  {
   "cell_type": "code",
   "execution_count": null,
   "metadata": {},
   "outputs": [],
   "source": [
    "# test before train\n",
    "test(model)"
   ]
  },
  {
   "cell_type": "code",
   "execution_count": 42,
   "metadata": {},
   "outputs": [
    {
     "name": "stdout",
     "output_type": "stream",
     "text": [
      "19\n",
      "Epoch [1/100], Train Loss: 1.2784, Validation Loss 1.0289,  Accuracy: 40.2299\n",
      "Epoch [2/100], Train Loss: 0.9726, Validation Loss 0.8642,  Accuracy: 65.5172\n",
      "Epoch [3/100], Train Loss: 1.0034, Validation Loss 0.7331,  Accuracy: 66.6667\n",
      "Epoch [4/100], Train Loss: 0.7636, Validation Loss 0.6581,  Accuracy: 72.4138\n",
      "Epoch [5/100], Train Loss: 0.6071, Validation Loss 0.6402,  Accuracy: 77.0115\n",
      "Epoch [6/100], Train Loss: 0.6836, Validation Loss 0.6189,  Accuracy: 79.3103\n",
      "Epoch [7/100], Train Loss: 0.6069, Validation Loss 0.5600,  Accuracy: 78.1609\n",
      "Epoch [8/100], Train Loss: 0.4259, Validation Loss 0.5149,  Accuracy: 79.3103\n",
      "Epoch [9/100], Train Loss: 0.4595, Validation Loss 0.4773,  Accuracy: 77.0115\n",
      "Epoch [10/100], Train Loss: 0.5540, Validation Loss 0.4741,  Accuracy: 82.7586\n",
      "Epoch [11/100], Train Loss: 0.4635, Validation Loss 0.4984,  Accuracy: 75.8621\n",
      "Epoch [12/100], Train Loss: 0.2627, Validation Loss 0.4916,  Accuracy: 79.3103\n",
      "Epoch [13/100], Train Loss: 0.4429, Validation Loss 0.5388,  Accuracy: 78.1609\n",
      "Epoch [14/100], Train Loss: 0.2872, Validation Loss 0.4779,  Accuracy: 77.0115\n",
      "Epoch [15/100], Train Loss: 0.3083, Validation Loss 0.4406,  Accuracy: 81.6092\n",
      "Epoch [16/100], Train Loss: 0.3246, Validation Loss 0.5020,  Accuracy: 75.8621\n",
      "Epoch [17/100], Train Loss: 0.3166, Validation Loss 0.4443,  Accuracy: 79.3103\n",
      "Epoch [18/100], Train Loss: 0.4663, Validation Loss 0.4049,  Accuracy: 79.3103\n",
      "Epoch [19/100], Train Loss: 0.4709, Validation Loss 0.4491,  Accuracy: 78.1609\n",
      "Epoch [20/100], Train Loss: 0.2666, Validation Loss 0.4037,  Accuracy: 81.6092\n",
      "Epoch [21/100], Train Loss: 0.2971, Validation Loss 0.4036,  Accuracy: 80.4598\n",
      "Epoch [22/100], Train Loss: 0.2417, Validation Loss 0.4138,  Accuracy: 78.1609\n",
      "Epoch [23/100], Train Loss: 0.2439, Validation Loss 0.4335,  Accuracy: 85.0575\n",
      "Epoch [24/100], Train Loss: 0.2318, Validation Loss 0.4715,  Accuracy: 80.4598\n",
      "Epoch [25/100], Train Loss: 0.1814, Validation Loss 0.5245,  Accuracy: 80.4598\n",
      "Epoch [26/100], Train Loss: 0.2066, Validation Loss 0.4084,  Accuracy: 80.4598\n",
      "Epoch [27/100], Train Loss: 0.1884, Validation Loss 0.3548,  Accuracy: 79.3103\n",
      "Epoch [28/100], Train Loss: 0.2915, Validation Loss 0.4254,  Accuracy: 79.3103\n",
      "Epoch [29/100], Train Loss: 0.2131, Validation Loss 0.4322,  Accuracy: 78.1609\n",
      "Epoch [30/100], Train Loss: 0.1862, Validation Loss 0.4431,  Accuracy: 80.4598\n",
      "Epoch [31/100], Train Loss: 0.2690, Validation Loss 0.4522,  Accuracy: 81.6092\n",
      "Epoch [32/100], Train Loss: 0.2766, Validation Loss 0.4411,  Accuracy: 80.4598\n",
      "Epoch [33/100], Train Loss: 0.2338, Validation Loss 0.4698,  Accuracy: 78.1609\n",
      "Epoch [34/100], Train Loss: 0.2844, Validation Loss 0.4282,  Accuracy: 79.3103\n",
      "Epoch [35/100], Train Loss: 0.1965, Validation Loss 0.4034,  Accuracy: 80.4598\n",
      "Epoch [36/100], Train Loss: 0.2412, Validation Loss 0.4746,  Accuracy: 81.6092\n",
      "Epoch [37/100], Train Loss: 0.1445, Validation Loss 0.3861,  Accuracy: 79.3103\n",
      "Epoch [38/100], Train Loss: 0.1241, Validation Loss 0.4495,  Accuracy: 81.6092\n",
      "Epoch [39/100], Train Loss: 0.2119, Validation Loss 0.4412,  Accuracy: 82.7586\n",
      "Epoch [40/100], Train Loss: 0.0686, Validation Loss 0.4001,  Accuracy: 78.1609\n",
      "Epoch [41/100], Train Loss: 0.1564, Validation Loss 0.4432,  Accuracy: 78.1609\n",
      "Epoch [42/100], Train Loss: 0.1288, Validation Loss 0.4493,  Accuracy: 81.6092\n",
      "Epoch [43/100], Train Loss: 0.1235, Validation Loss 0.3917,  Accuracy: 79.3103\n",
      "Epoch [44/100], Train Loss: 0.1571, Validation Loss 0.4429,  Accuracy: 81.6092\n",
      "Epoch [45/100], Train Loss: 0.0840, Validation Loss 0.4800,  Accuracy: 80.4598\n",
      "Epoch [46/100], Train Loss: 0.1492, Validation Loss 0.5178,  Accuracy: 82.7586\n",
      "Epoch [47/100], Train Loss: 0.0994, Validation Loss 0.4047,  Accuracy: 79.3103\n",
      "Epoch [48/100], Train Loss: 0.1306, Validation Loss 0.4124,  Accuracy: 80.4598\n",
      "Epoch [49/100], Train Loss: 0.0935, Validation Loss 0.4967,  Accuracy: 81.6092\n",
      "Epoch [50/100], Train Loss: 0.0628, Validation Loss 0.4338,  Accuracy: 81.6092\n",
      "Epoch [51/100], Train Loss: 0.0937, Validation Loss 0.4459,  Accuracy: 79.3103\n",
      "Epoch [52/100], Train Loss: 0.0812, Validation Loss 0.4326,  Accuracy: 80.4598\n",
      "Epoch [53/100], Train Loss: 0.0855, Validation Loss 0.4896,  Accuracy: 80.4598\n",
      "Epoch [54/100], Train Loss: 0.0947, Validation Loss 0.4357,  Accuracy: 80.4598\n",
      "Epoch [55/100], Train Loss: 0.1319, Validation Loss 0.4778,  Accuracy: 79.3103\n",
      "Epoch [56/100], Train Loss: 0.1118, Validation Loss 0.4850,  Accuracy: 80.4598\n",
      "Epoch [57/100], Train Loss: 0.0719, Validation Loss 0.4157,  Accuracy: 79.3103\n",
      "Epoch [58/100], Train Loss: 0.0661, Validation Loss 0.4350,  Accuracy: 80.4598\n",
      "Epoch [59/100], Train Loss: 0.0778, Validation Loss 0.5123,  Accuracy: 80.4598\n",
      "Epoch [60/100], Train Loss: 0.1126, Validation Loss 0.4353,  Accuracy: 79.3103\n",
      "Epoch [61/100], Train Loss: 0.0544, Validation Loss 0.5192,  Accuracy: 80.4598\n",
      "Epoch [62/100], Train Loss: 0.0868, Validation Loss 0.5025,  Accuracy: 80.4598\n",
      "Epoch [63/100], Train Loss: 0.0749, Validation Loss 0.4055,  Accuracy: 79.3103\n",
      "Epoch [64/100], Train Loss: 0.1100, Validation Loss 0.5490,  Accuracy: 81.6092\n",
      "Epoch [65/100], Train Loss: 0.0792, Validation Loss 0.4432,  Accuracy: 81.6092\n",
      "Epoch [66/100], Train Loss: 0.0739, Validation Loss 0.5186,  Accuracy: 81.6092\n",
      "Epoch [67/100], Train Loss: 0.0424, Validation Loss 0.4823,  Accuracy: 80.4598\n",
      "Epoch [68/100], Train Loss: 0.0998, Validation Loss 0.4001,  Accuracy: 81.6092\n",
      "Epoch [69/100], Train Loss: 0.0747, Validation Loss 0.4130,  Accuracy: 78.1609\n",
      "Epoch [70/100], Train Loss: 0.0560, Validation Loss 0.5595,  Accuracy: 80.4598\n",
      "Epoch [71/100], Train Loss: 0.0500, Validation Loss 0.5118,  Accuracy: 79.3103\n",
      "Epoch [72/100], Train Loss: 0.0721, Validation Loss 0.4661,  Accuracy: 79.3103\n",
      "Epoch [73/100], Train Loss: 0.0452, Validation Loss 0.4304,  Accuracy: 82.7586\n",
      "Epoch [74/100], Train Loss: 0.0408, Validation Loss 0.4077,  Accuracy: 81.6092\n",
      "Epoch [75/100], Train Loss: 0.0508, Validation Loss 0.4247,  Accuracy: 80.4598\n",
      "Epoch [76/100], Train Loss: 0.0523, Validation Loss 0.5389,  Accuracy: 80.4598\n",
      "Epoch [77/100], Train Loss: 0.0594, Validation Loss 0.5144,  Accuracy: 81.6092\n",
      "Epoch [78/100], Train Loss: 0.0508, Validation Loss 0.5239,  Accuracy: 80.4598\n",
      "Epoch [79/100], Train Loss: 0.0457, Validation Loss 0.4338,  Accuracy: 81.6092\n",
      "Epoch [80/100], Train Loss: 0.0450, Validation Loss 0.4679,  Accuracy: 79.3103\n",
      "Epoch [81/100], Train Loss: 0.0345, Validation Loss 0.5033,  Accuracy: 80.4598\n",
      "Epoch [82/100], Train Loss: 0.0585, Validation Loss 0.5354,  Accuracy: 81.6092\n",
      "Epoch [83/100], Train Loss: 0.0548, Validation Loss 0.5089,  Accuracy: 82.7586\n",
      "Epoch [84/100], Train Loss: 0.0469, Validation Loss 0.5462,  Accuracy: 80.4598\n",
      "Epoch [85/100], Train Loss: 0.0330, Validation Loss 0.4906,  Accuracy: 80.4598\n",
      "Epoch [86/100], Train Loss: 0.0532, Validation Loss 0.5144,  Accuracy: 79.3103\n",
      "Epoch [87/100], Train Loss: 0.0435, Validation Loss 0.5369,  Accuracy: 82.7586\n",
      "Epoch [88/100], Train Loss: 0.0361, Validation Loss 0.4877,  Accuracy: 82.7586\n",
      "Epoch [89/100], Train Loss: 0.0307, Validation Loss 0.4784,  Accuracy: 79.3103\n",
      "Epoch [90/100], Train Loss: 0.0595, Validation Loss 0.5026,  Accuracy: 80.4598\n",
      "Epoch [91/100], Train Loss: 0.0368, Validation Loss 0.4567,  Accuracy: 81.6092\n",
      "Epoch [92/100], Train Loss: 0.0388, Validation Loss 0.5096,  Accuracy: 82.7586\n",
      "Epoch [93/100], Train Loss: 0.0425, Validation Loss 0.5932,  Accuracy: 83.9080\n",
      "Epoch [94/100], Train Loss: 0.0564, Validation Loss 0.4615,  Accuracy: 80.4598\n",
      "Epoch [95/100], Train Loss: 0.0324, Validation Loss 0.4545,  Accuracy: 80.4598\n",
      "Epoch [96/100], Train Loss: 0.0496, Validation Loss 0.5299,  Accuracy: 81.6092\n",
      "Epoch [97/100], Train Loss: 0.0373, Validation Loss 0.5781,  Accuracy: 81.6092\n",
      "Epoch [98/100], Train Loss: 0.0302, Validation Loss 0.4687,  Accuracy: 82.7586\n",
      "Epoch [99/100], Train Loss: 0.0331, Validation Loss 0.4487,  Accuracy: 79.3103\n",
      "Epoch [100/100], Train Loss: 0.0192, Validation Loss 0.5371,  Accuracy: 80.4598\n",
      "Finished training trainset in 553.73 seconds\n"
     ]
    }
   ],
   "source": [
    "train_loss, val_loss = train(model, optimizer, loss_fn, 100)"
   ]
  },
  {
   "cell_type": "code",
   "execution_count": 43,
   "metadata": {},
   "outputs": [],
   "source": [
    "PATH_RES: str = \"results/\""
   ]
  },
  {
   "cell_type": "code",
   "execution_count": 44,
   "metadata": {},
   "outputs": [
    {
     "name": "stdout",
     "output_type": "stream",
     "text": [
      "Test of the model on the 173 test images\n",
      "Acurracy: 76.88 %\n",
      "F1-score: 75.77 %\n",
      "Recall: 77.58 %\n",
      "Precision: 74.63 %\n"
     ]
    },
    {
     "data": {
      "image/png": "[encoded data removed]",
      "text/plain": [
       "<Figure size 432x288 with 1 Axes>"
      ]
     },
     "metadata": {
      "needs_background": "light"
     },
     "output_type": "display_data"
    }
   ],
   "source": [
    "# test after train\n",
    "torch.manual_seed(1)\n",
    "# test(model, \"alexnet confusion matrix batch_size=32 SGD epochs=100 lr=3e-4 weight_decay=0.005 momentum=0.9.png\")\n",
    "# test(model, \"alexnet confusion matrix SGD epochs=100 lr=3e-4 weight_decay=0.005 momentum=0.9.png\")\n",
    "# test(model, \"alexnet confusion matrix Adam epochs=100 lr=0.01.png\")\n",
    "# test(model, \"alexnet confusion (sin modificar classifier alexnet) matrix SGD epochs=100 lr=3e-4 weight_decay=0.005 momentum=0.9.png\")"
   ]
  },
  {
   "cell_type": "code",
   "execution_count": null,
   "metadata": {},
   "outputs": [],
   "source": [
    "plt.plot(train_loss, label=\"train loss\")\n",
    "plt.plot(val_loss, label=\"val loss\")\n",
    "plt.ylabel(\"loss\")\n",
    "plt.xlabel(\"num epochs\")\n",
    "plt.title(\"Loss vs num epochs\")\n",
    "plt.legend()\n",
    "# plt.savefig(PATH_RES+\"alexnet loss batch_size=32 SGD epochs=100 lr=3e-4 weight_decay=0.005 momentum=0.9.png\")\n",
    "# plt.savefig(PATH_RES+\"alexnet loss SGD epochs=100 lr=3e-4 weight_decay=0.005 momentum=0.9.png\")\n",
    "# plt.savefig(PATH_RES+\"alexnet loss Adam epochs=100 lr=0.01.png\")\n",
    "# plt.savefig(PATH_RES+\"alexnet loss (sin modificar classifier alexnet) SGD epochs=100 lr=3e-4 weight_decay=0.005 momentum=0.9.png\")\n",
    "# plt.show()"
   ]
  },
  {
   "cell_type": "markdown",
   "metadata": {},
   "source": [
    "## Resnet"
   ]
  },
  {
   "cell_type": "code",
   "execution_count": null,
   "metadata": {},
   "outputs": [],
   "source": [
    "resnet18 = torchvision.models.resnet18(pretrained=True)\n",
    "for e in resnet18.parameters():\n",
    "   e.requires_grad = False\n",
    "device = torch.device('cuda:0' if torch.cuda.is_available() else 'cpu')\n",
    "resnet18.fc = nn.Linear(in_features=512, out_features=len(types), bias=True)\n",
    "optimizer = optim.SGD(resnet18.parameters(), lr=3e-4, weight_decay=0.005, momentum=0.9)\n",
    "resnet18.to(device)"
   ]
  },
  {
   "cell_type": "code",
   "execution_count": null,
   "metadata": {},
   "outputs": [],
   "source": [
    "train_loss_resnet18, val_loss_resnet18 = train(resnet18, optimizer, loss_fn, 100)"
   ]
  },
  {
   "cell_type": "code",
   "execution_count": null,
   "metadata": {},
   "outputs": [],
   "source": [
    "plt.plot(train_loss_resnet18, label=\"train loss\")\n",
    "plt.plot(val_loss_resnet18, label=\"val loss\")\n",
    "plt.ylabel(\"loss\")\n",
    "plt.xlabel(\"num epochs\")\n",
    "plt.title(\"Loss vs num epochs\")\n",
    "plt.legend()\n",
    "# plt.show()\n",
    "plt.savefig(PATH_RES+\"resnet18 loss SGD epochs=100 lr=3e-4 weight_decay=0.005 momentum=0.9.png\")"
   ]
  },
  {
   "cell_type": "code",
   "execution_count": null,
   "metadata": {},
   "outputs": [],
   "source": [
    "torch.manual_seed(1)\n",
    "test(resnet18, \"resnet18 confusion matrix SGD epochs=100 lr=3e-4 weight_decay=0.005 momentum=0.9.png\")"
   ]
  },
  {
   "cell_type": "code",
   "execution_count": null,
   "metadata": {},
   "outputs": [],
   "source": [
    "resnet34 = torchvision.models.resnet34(pretrained=True)\n",
    "for e in resnet34.parameters():\n",
    "   e.requires_grad = False\n",
    "device = torch.device('cuda:0' if torch.cuda.is_available() else 'cpu')\n",
    "resnet34.fc = nn.Linear(in_features=512, out_features=len(types), bias=True)\n",
    "optimizer = optim.SGD(resnet34.parameters(), lr=3e-4, weight_decay=0.005, momentum=0.9)\n",
    "resnet34.to(device)"
   ]
  },
  {
   "cell_type": "code",
   "execution_count": 49,
   "metadata": {},
   "outputs": [
    {
     "name": "stdout",
     "output_type": "stream",
     "text": [
      "19\n",
      "Epoch [1/100], Train Loss: 1.2646, Validation Loss 1.1421,  Accuracy: 36.7816\n",
      "Epoch [2/100], Train Loss: 1.2313, Validation Loss 1.1486,  Accuracy: 41.3793\n",
      "Epoch [3/100], Train Loss: 1.0815, Validation Loss 1.0757,  Accuracy: 50.5747\n",
      "Epoch [4/100], Train Loss: 1.0304, Validation Loss 1.0112,  Accuracy: 54.0230\n",
      "Epoch [5/100], Train Loss: 0.9779, Validation Loss 1.0049,  Accuracy: 56.3218\n",
      "Epoch [6/100], Train Loss: 1.0017, Validation Loss 0.9509,  Accuracy: 62.0690\n",
      "Epoch [7/100], Train Loss: 0.8490, Validation Loss 0.9273,  Accuracy: 62.0690\n",
      "Epoch [8/100], Train Loss: 0.9094, Validation Loss 0.9122,  Accuracy: 59.7701\n",
      "Epoch [9/100], Train Loss: 0.9830, Validation Loss 0.8961,  Accuracy: 63.2184\n",
      "Epoch [10/100], Train Loss: 0.9615, Validation Loss 0.8425,  Accuracy: 62.0690\n",
      "Epoch [11/100], Train Loss: 0.8071, Validation Loss 0.8597,  Accuracy: 67.8161\n",
      "Epoch [12/100], Train Loss: 0.6696, Validation Loss 0.8497,  Accuracy: 68.9655\n",
      "Epoch [13/100], Train Loss: 0.9540, Validation Loss 0.8420,  Accuracy: 66.6667\n",
      "Epoch [14/100], Train Loss: 0.6413, Validation Loss 0.8505,  Accuracy: 71.2644\n",
      "Epoch [15/100], Train Loss: 0.7076, Validation Loss 0.7868,  Accuracy: 72.4138\n",
      "Epoch [16/100], Train Loss: 0.6243, Validation Loss 0.8047,  Accuracy: 72.4138\n",
      "Epoch [17/100], Train Loss: 0.6988, Validation Loss 0.8351,  Accuracy: 71.2644\n",
      "Epoch [18/100], Train Loss: 0.7858, Validation Loss 0.8265,  Accuracy: 73.5632\n",
      "Epoch [19/100], Train Loss: 0.5444, Validation Loss 0.8081,  Accuracy: 75.8621\n",
      "Epoch [20/100], Train Loss: 0.6042, Validation Loss 0.8370,  Accuracy: 74.7126\n",
      "Epoch [21/100], Train Loss: 0.7177, Validation Loss 0.7403,  Accuracy: 75.8621\n",
      "Epoch [22/100], Train Loss: 0.7976, Validation Loss 0.7894,  Accuracy: 71.2644\n",
      "Epoch [23/100], Train Loss: 0.6620, Validation Loss 0.7382,  Accuracy: 74.7126\n",
      "Epoch [24/100], Train Loss: 0.6403, Validation Loss 0.7405,  Accuracy: 73.5632\n",
      "Epoch [25/100], Train Loss: 0.5528, Validation Loss 0.7683,  Accuracy: 74.7126\n",
      "Epoch [26/100], Train Loss: 0.5265, Validation Loss 0.7509,  Accuracy: 78.1609\n",
      "Epoch [27/100], Train Loss: 0.6908, Validation Loss 0.7069,  Accuracy: 74.7126\n",
      "Epoch [28/100], Train Loss: 0.5669, Validation Loss 0.7754,  Accuracy: 75.8621\n",
      "Epoch [29/100], Train Loss: 0.5376, Validation Loss 0.7787,  Accuracy: 75.8621\n",
      "Epoch [30/100], Train Loss: 0.6604, Validation Loss 0.7547,  Accuracy: 72.4138\n",
      "Epoch [31/100], Train Loss: 0.6610, Validation Loss 0.7779,  Accuracy: 74.7126\n",
      "Epoch [32/100], Train Loss: 0.4210, Validation Loss 0.7228,  Accuracy: 75.8621\n",
      "Epoch [33/100], Train Loss: 0.4784, Validation Loss 0.7540,  Accuracy: 74.7126\n",
      "Epoch [34/100], Train Loss: 0.5876, Validation Loss 0.7336,  Accuracy: 74.7126\n",
      "Epoch [35/100], Train Loss: 0.4151, Validation Loss 0.7050,  Accuracy: 75.8621\n",
      "Epoch [36/100], Train Loss: 0.6218, Validation Loss 0.7362,  Accuracy: 78.1609\n",
      "Epoch [37/100], Train Loss: 0.5075, Validation Loss 0.7331,  Accuracy: 78.1609\n",
      "Epoch [38/100], Train Loss: 0.4647, Validation Loss 0.6541,  Accuracy: 78.1609\n",
      "Epoch [39/100], Train Loss: 0.4944, Validation Loss 0.7328,  Accuracy: 74.7126\n",
      "Epoch [40/100], Train Loss: 0.4066, Validation Loss 0.6984,  Accuracy: 77.0115\n",
      "Epoch [41/100], Train Loss: 0.8284, Validation Loss 0.6891,  Accuracy: 77.0115\n",
      "Epoch [42/100], Train Loss: 0.4259, Validation Loss 0.7115,  Accuracy: 75.8621\n",
      "Epoch [43/100], Train Loss: 0.6269, Validation Loss 0.6849,  Accuracy: 77.0115\n",
      "Epoch [44/100], Train Loss: 0.4564, Validation Loss 0.7016,  Accuracy: 75.8621\n",
      "Epoch [45/100], Train Loss: 0.5167, Validation Loss 0.6694,  Accuracy: 77.0115\n",
      "Epoch [46/100], Train Loss: 0.4561, Validation Loss 0.6787,  Accuracy: 77.0115\n",
      "Epoch [47/100], Train Loss: 0.5655, Validation Loss 0.7145,  Accuracy: 73.5632\n",
      "Epoch [48/100], Train Loss: 0.5326, Validation Loss 0.6912,  Accuracy: 75.8621\n",
      "Epoch [49/100], Train Loss: 0.3714, Validation Loss 0.6884,  Accuracy: 78.1609\n",
      "Epoch [50/100], Train Loss: 0.4060, Validation Loss 0.6911,  Accuracy: 72.4138\n",
      "Epoch [51/100], Train Loss: 0.3026, Validation Loss 0.7299,  Accuracy: 73.5632\n",
      "Epoch [52/100], Train Loss: 0.4039, Validation Loss 0.6757,  Accuracy: 74.7126\n",
      "Epoch [53/100], Train Loss: 0.3954, Validation Loss 0.7060,  Accuracy: 74.7126\n",
      "Epoch [54/100], Train Loss: 0.4538, Validation Loss 0.6362,  Accuracy: 73.5632\n",
      "Epoch [55/100], Train Loss: 0.4333, Validation Loss 0.5887,  Accuracy: 79.3103\n",
      "Epoch [56/100], Train Loss: 0.3883, Validation Loss 0.7000,  Accuracy: 74.7126\n",
      "Epoch [57/100], Train Loss: 0.4441, Validation Loss 0.7066,  Accuracy: 74.7126\n",
      "Epoch [58/100], Train Loss: 0.6143, Validation Loss 0.6850,  Accuracy: 71.2644\n",
      "Epoch [59/100], Train Loss: 0.3776, Validation Loss 0.6730,  Accuracy: 74.7126\n",
      "Epoch [60/100], Train Loss: 0.4982, Validation Loss 0.7018,  Accuracy: 75.8621\n",
      "Epoch [61/100], Train Loss: 0.4032, Validation Loss 0.7331,  Accuracy: 74.7126\n",
      "Epoch [62/100], Train Loss: 0.5813, Validation Loss 0.7338,  Accuracy: 72.4138\n",
      "Epoch [63/100], Train Loss: 0.5403, Validation Loss 0.6486,  Accuracy: 73.5632\n",
      "Epoch [64/100], Train Loss: 0.4375, Validation Loss 0.6758,  Accuracy: 75.8621\n",
      "Epoch [65/100], Train Loss: 0.4984, Validation Loss 0.6612,  Accuracy: 74.7126\n",
      "Epoch [66/100], Train Loss: 0.5036, Validation Loss 0.6555,  Accuracy: 78.1609\n",
      "Epoch [67/100], Train Loss: 0.4917, Validation Loss 0.7041,  Accuracy: 75.8621\n",
      "Epoch [68/100], Train Loss: 0.4192, Validation Loss 0.6512,  Accuracy: 73.5632\n",
      "Epoch [69/100], Train Loss: 0.3474, Validation Loss 0.6624,  Accuracy: 75.8621\n",
      "Epoch [70/100], Train Loss: 0.3705, Validation Loss 0.6144,  Accuracy: 79.3103\n",
      "Epoch [71/100], Train Loss: 0.5033, Validation Loss 0.6666,  Accuracy: 77.0115\n",
      "Epoch [72/100], Train Loss: 0.3405, Validation Loss 0.6299,  Accuracy: 75.8621\n",
      "Epoch [73/100], Train Loss: 0.3680, Validation Loss 0.6450,  Accuracy: 78.1609\n",
      "Epoch [74/100], Train Loss: 0.3091, Validation Loss 0.6395,  Accuracy: 75.8621\n",
      "Epoch [75/100], Train Loss: 0.4100, Validation Loss 0.6770,  Accuracy: 72.4138\n",
      "Epoch [76/100], Train Loss: 0.5748, Validation Loss 0.6751,  Accuracy: 74.7126\n",
      "Epoch [77/100], Train Loss: 0.4553, Validation Loss 0.7301,  Accuracy: 75.8621\n",
      "Epoch [78/100], Train Loss: 0.3981, Validation Loss 0.6060,  Accuracy: 77.0115\n",
      "Epoch [79/100], Train Loss: 0.3558, Validation Loss 0.7348,  Accuracy: 77.0115\n",
      "Epoch [80/100], Train Loss: 0.4072, Validation Loss 0.6836,  Accuracy: 74.7126\n",
      "Epoch [81/100], Train Loss: 0.4497, Validation Loss 0.7260,  Accuracy: 73.5632\n",
      "Epoch [82/100], Train Loss: 0.3660, Validation Loss 0.6248,  Accuracy: 79.3103\n",
      "Epoch [83/100], Train Loss: 0.5656, Validation Loss 0.6672,  Accuracy: 75.8621\n",
      "Epoch [84/100], Train Loss: 0.4417, Validation Loss 0.6606,  Accuracy: 78.1609\n",
      "Epoch [85/100], Train Loss: 0.3640, Validation Loss 0.6958,  Accuracy: 75.8621\n",
      "Epoch [86/100], Train Loss: 0.3089, Validation Loss 0.6116,  Accuracy: 74.7126\n",
      "Epoch [87/100], Train Loss: 0.4173, Validation Loss 0.6512,  Accuracy: 78.1609\n",
      "Epoch [88/100], Train Loss: 0.4083, Validation Loss 0.6794,  Accuracy: 77.0115\n",
      "Epoch [89/100], Train Loss: 0.2228, Validation Loss 0.7047,  Accuracy: 75.8621\n",
      "Epoch [90/100], Train Loss: 0.3574, Validation Loss 0.7162,  Accuracy: 75.8621\n",
      "Epoch [91/100], Train Loss: 0.3907, Validation Loss 0.6791,  Accuracy: 75.8621\n",
      "Epoch [92/100], Train Loss: 0.3478, Validation Loss 0.6721,  Accuracy: 78.1609\n",
      "Epoch [93/100], Train Loss: 0.4340, Validation Loss 0.6777,  Accuracy: 74.7126\n",
      "Epoch [94/100], Train Loss: 0.3427, Validation Loss 0.6235,  Accuracy: 73.5632\n",
      "Epoch [95/100], Train Loss: 0.3909, Validation Loss 0.7129,  Accuracy: 75.8621\n",
      "Epoch [96/100], Train Loss: 0.4158, Validation Loss 0.6641,  Accuracy: 78.1609\n",
      "Epoch [97/100], Train Loss: 0.3465, Validation Loss 0.6592,  Accuracy: 75.8621\n",
      "Epoch [98/100], Train Loss: 0.3164, Validation Loss 0.6750,  Accuracy: 77.0115\n",
      "Epoch [99/100], Train Loss: 0.4322, Validation Loss 0.6497,  Accuracy: 73.5632\n",
      "Epoch [100/100], Train Loss: 0.4377, Validation Loss 0.6796,  Accuracy: 74.7126\n",
      "Finished training trainset in 536.98 seconds\n"
     ]
    }
   ],
   "source": [
    "train_loss_resnet34, val_loss_resnet34 = train(resnet34, optimizer, loss_fn, 100)"
   ]
  },
  {
   "cell_type": "code",
   "execution_count": 51,
   "metadata": {},
   "outputs": [
    {
     "data": {
      "image/png": "[encoded data removed]",
      "text/plain": [
       "<Figure size 432x288 with 1 Axes>"
      ]
     },
     "metadata": {
      "needs_background": "light"
     },
     "output_type": "display_data"
    }
   ],
   "source": [
    "plt.plot(train_loss_resnet34, label=\"train loss\")\n",
    "plt.plot(val_loss_resnet34, label=\"val loss\")\n",
    "plt.ylabel(\"loss\")\n",
    "plt.xlabel(\"num epochs\")\n",
    "plt.title(\"Loss vs num epochs\")\n",
    "plt.legend()\n",
    "plt.savefig(PATH_RES+\"resnet34 loss SGD epochs=100 lr=3e-4 weight_decay=0.005 momentum=0.9.png\")"
   ]
  },
  {
   "cell_type": "code",
   "execution_count": null,
   "metadata": {},
   "outputs": [],
   "source": [
    "torch.manual_seed(1)\n",
    "test(resnet34, \"resnet34 confusion matrix SGD epochs=100 lr=3e-4 weight_decay=0.005 momentum=0.9.png\")"
   ]
  },
  {
   "cell_type": "markdown",
   "metadata": {},
   "source": [
    "## VGG"
   ]
  },
  {
   "cell_type": "code",
   "execution_count": null,
   "metadata": {},
   "outputs": [],
   "source": [
    "vgg13 = torchvision.models.vgg13(pretrained=True)\n",
    "for e in vgg13.parameters():\n",
    "   e.requires_grad = False\n",
    "device = torch.device('cuda:0' if torch.cuda.is_available() else 'cpu')\n",
    "vgg13.classifier[3] = nn.Linear(in_features=4096, out_features=1024, bias=True)\n",
    "vgg13.classifier[6] = nn.Linear(in_features=1024, out_features=len(types), bias=True)\n",
    "optimizer = optim.SGD(vgg13.parameters(), lr=3e-4, weight_decay=0.005, momentum=0.9)\n",
    "vgg13.to(device)"
   ]
  },
  {
   "cell_type": "code",
   "execution_count": 65,
   "metadata": {},
   "outputs": [
    {
     "name": "stdout",
     "output_type": "stream",
     "text": [
      "19\n",
      "Epoch [1/100], Train Loss: 1.4033, Validation Loss 1.2025,  Accuracy: 37.9310\n",
      "Epoch [2/100], Train Loss: 1.3099, Validation Loss 1.1459,  Accuracy: 41.3793\n",
      "Epoch [3/100], Train Loss: 1.2252, Validation Loss 1.1248,  Accuracy: 42.5287\n",
      "Epoch [4/100], Train Loss: 1.1650, Validation Loss 1.0808,  Accuracy: 47.1264\n",
      "Epoch [5/100], Train Loss: 1.1186, Validation Loss 1.0328,  Accuracy: 50.5747\n",
      "Epoch [6/100], Train Loss: 1.1353, Validation Loss 0.9919,  Accuracy: 54.0230\n",
      "Epoch [7/100], Train Loss: 1.0921, Validation Loss 0.9767,  Accuracy: 54.0230\n",
      "Epoch [8/100], Train Loss: 1.0075, Validation Loss 0.9585,  Accuracy: 56.3218\n",
      "Epoch [9/100], Train Loss: 1.0489, Validation Loss 0.9546,  Accuracy: 62.0690\n",
      "Epoch [10/100], Train Loss: 0.9520, Validation Loss 0.9339,  Accuracy: 60.9195\n",
      "Epoch [11/100], Train Loss: 0.9351, Validation Loss 0.9075,  Accuracy: 58.6207\n",
      "Epoch [12/100], Train Loss: 1.0341, Validation Loss 0.9351,  Accuracy: 64.3678\n",
      "Epoch [13/100], Train Loss: 0.9011, Validation Loss 0.8568,  Accuracy: 60.9195\n",
      "Epoch [14/100], Train Loss: 0.8584, Validation Loss 0.8658,  Accuracy: 62.0690\n",
      "Epoch [15/100], Train Loss: 0.9507, Validation Loss 0.8757,  Accuracy: 65.5172\n",
      "Epoch [16/100], Train Loss: 1.0053, Validation Loss 0.8617,  Accuracy: 70.1149\n",
      "Epoch [17/100], Train Loss: 0.7724, Validation Loss 0.8464,  Accuracy: 65.5172\n",
      "Epoch [18/100], Train Loss: 0.8067, Validation Loss 0.8767,  Accuracy: 66.6667\n",
      "Epoch [19/100], Train Loss: 0.7373, Validation Loss 0.8527,  Accuracy: 70.1149\n",
      "Epoch [20/100], Train Loss: 0.9055, Validation Loss 0.8528,  Accuracy: 66.6667\n",
      "Epoch [21/100], Train Loss: 0.8097, Validation Loss 0.8385,  Accuracy: 70.1149\n",
      "Epoch [22/100], Train Loss: 0.5688, Validation Loss 0.8244,  Accuracy: 67.8161\n",
      "Epoch [23/100], Train Loss: 0.6067, Validation Loss 0.8366,  Accuracy: 71.2644\n",
      "Epoch [24/100], Train Loss: 0.6979, Validation Loss 0.8030,  Accuracy: 68.9655\n",
      "Epoch [25/100], Train Loss: 0.6530, Validation Loss 0.8456,  Accuracy: 68.9655\n",
      "Epoch [26/100], Train Loss: 0.7644, Validation Loss 0.7465,  Accuracy: 67.8161\n",
      "Epoch [27/100], Train Loss: 0.5002, Validation Loss 0.7922,  Accuracy: 68.9655\n",
      "Epoch [28/100], Train Loss: 0.6793, Validation Loss 0.7766,  Accuracy: 73.5632\n",
      "Epoch [29/100], Train Loss: 0.5254, Validation Loss 0.8135,  Accuracy: 71.2644\n",
      "Epoch [30/100], Train Loss: 0.6387, Validation Loss 0.8537,  Accuracy: 72.4138\n",
      "Epoch [31/100], Train Loss: 0.4116, Validation Loss 0.7992,  Accuracy: 77.0115\n",
      "Epoch [32/100], Train Loss: 0.5931, Validation Loss 0.8090,  Accuracy: 74.7126\n",
      "Epoch [33/100], Train Loss: 0.4913, Validation Loss 0.7329,  Accuracy: 73.5632\n",
      "Epoch [34/100], Train Loss: 0.4492, Validation Loss 0.8151,  Accuracy: 70.1149\n",
      "Epoch [35/100], Train Loss: 0.5808, Validation Loss 0.8084,  Accuracy: 67.8161\n",
      "Epoch [36/100], Train Loss: 0.5693, Validation Loss 0.8480,  Accuracy: 78.1609\n",
      "Epoch [37/100], Train Loss: 0.4464, Validation Loss 0.8222,  Accuracy: 73.5632\n",
      "Epoch [38/100], Train Loss: 0.5915, Validation Loss 0.7911,  Accuracy: 73.5632\n",
      "Epoch [39/100], Train Loss: 0.3634, Validation Loss 0.8013,  Accuracy: 72.4138\n",
      "Epoch [40/100], Train Loss: 0.3621, Validation Loss 0.7910,  Accuracy: 74.7126\n",
      "Epoch [41/100], Train Loss: 0.4365, Validation Loss 0.7718,  Accuracy: 75.8621\n",
      "Epoch [42/100], Train Loss: 0.5210, Validation Loss 0.8041,  Accuracy: 72.4138\n",
      "Epoch [43/100], Train Loss: 0.5115, Validation Loss 0.7732,  Accuracy: 77.0115\n",
      "Epoch [44/100], Train Loss: 0.4017, Validation Loss 0.7739,  Accuracy: 72.4138\n",
      "Epoch [45/100], Train Loss: 0.5178, Validation Loss 0.8539,  Accuracy: 78.1609\n",
      "Epoch [46/100], Train Loss: 0.3835, Validation Loss 0.8349,  Accuracy: 71.2644\n",
      "Epoch [47/100], Train Loss: 0.3589, Validation Loss 0.8286,  Accuracy: 75.8621\n",
      "Epoch [48/100], Train Loss: 0.3782, Validation Loss 0.7257,  Accuracy: 75.8621\n",
      "Epoch [49/100], Train Loss: 0.3923, Validation Loss 0.8607,  Accuracy: 72.4138\n",
      "Epoch [50/100], Train Loss: 0.3775, Validation Loss 0.8663,  Accuracy: 74.7126\n",
      "Epoch [51/100], Train Loss: 0.2666, Validation Loss 0.7650,  Accuracy: 74.7126\n",
      "Epoch [52/100], Train Loss: 0.2759, Validation Loss 0.7933,  Accuracy: 75.8621\n",
      "Epoch [53/100], Train Loss: 0.2876, Validation Loss 0.8487,  Accuracy: 72.4138\n",
      "Epoch [54/100], Train Loss: 0.2653, Validation Loss 0.9148,  Accuracy: 74.7126\n",
      "Epoch [55/100], Train Loss: 0.3348, Validation Loss 0.8360,  Accuracy: 72.4138\n",
      "Epoch [56/100], Train Loss: 0.3609, Validation Loss 0.7838,  Accuracy: 73.5632\n",
      "Epoch [57/100], Train Loss: 0.2944, Validation Loss 0.9084,  Accuracy: 73.5632\n",
      "Epoch [58/100], Train Loss: 0.2646, Validation Loss 0.6855,  Accuracy: 74.7126\n",
      "Epoch [59/100], Train Loss: 0.3328, Validation Loss 0.9151,  Accuracy: 75.8621\n",
      "Epoch [60/100], Train Loss: 0.2531, Validation Loss 0.8256,  Accuracy: 74.7126\n",
      "Epoch [61/100], Train Loss: 0.2840, Validation Loss 0.8172,  Accuracy: 73.5632\n",
      "Epoch [62/100], Train Loss: 0.2810, Validation Loss 0.8598,  Accuracy: 72.4138\n",
      "Epoch [63/100], Train Loss: 0.2470, Validation Loss 0.8246,  Accuracy: 74.7126\n",
      "Epoch [64/100], Train Loss: 0.2309, Validation Loss 0.8102,  Accuracy: 75.8621\n",
      "Epoch [65/100], Train Loss: 0.2050, Validation Loss 0.7825,  Accuracy: 74.7126\n",
      "Epoch [66/100], Train Loss: 0.3018, Validation Loss 0.8905,  Accuracy: 74.7126\n",
      "Epoch [67/100], Train Loss: 0.2324, Validation Loss 0.9149,  Accuracy: 70.1149\n",
      "Epoch [68/100], Train Loss: 0.1826, Validation Loss 0.7141,  Accuracy: 74.7126\n",
      "Epoch [69/100], Train Loss: 0.2255, Validation Loss 0.8598,  Accuracy: 75.8621\n",
      "Epoch [70/100], Train Loss: 0.2449, Validation Loss 0.9684,  Accuracy: 75.8621\n",
      "Epoch [71/100], Train Loss: 0.2580, Validation Loss 0.9046,  Accuracy: 78.1609\n",
      "Epoch [72/100], Train Loss: 0.1903, Validation Loss 0.8122,  Accuracy: 77.0115\n",
      "Epoch [73/100], Train Loss: 0.2090, Validation Loss 0.8188,  Accuracy: 77.0115\n",
      "Epoch [74/100], Train Loss: 0.2793, Validation Loss 0.8150,  Accuracy: 75.8621\n",
      "Epoch [75/100], Train Loss: 0.2092, Validation Loss 0.8387,  Accuracy: 73.5632\n",
      "Epoch [76/100], Train Loss: 0.2027, Validation Loss 0.8659,  Accuracy: 74.7126\n",
      "Epoch [77/100], Train Loss: 0.2025, Validation Loss 0.8064,  Accuracy: 73.5632\n",
      "Epoch [78/100], Train Loss: 0.1289, Validation Loss 0.8144,  Accuracy: 75.8621\n",
      "Epoch [79/100], Train Loss: 0.1821, Validation Loss 0.7937,  Accuracy: 75.8621\n",
      "Epoch [80/100], Train Loss: 0.1655, Validation Loss 0.9805,  Accuracy: 73.5632\n",
      "Epoch [81/100], Train Loss: 0.1821, Validation Loss 0.9352,  Accuracy: 77.0115\n",
      "Epoch [82/100], Train Loss: 0.1625, Validation Loss 0.7825,  Accuracy: 79.3103\n",
      "Epoch [83/100], Train Loss: 0.2023, Validation Loss 0.9958,  Accuracy: 77.0115\n",
      "Epoch [84/100], Train Loss: 0.1732, Validation Loss 0.8146,  Accuracy: 75.8621\n",
      "Epoch [85/100], Train Loss: 0.2019, Validation Loss 0.9013,  Accuracy: 74.7126\n",
      "Epoch [86/100], Train Loss: 0.1461, Validation Loss 0.8267,  Accuracy: 74.7126\n",
      "Epoch [87/100], Train Loss: 0.2261, Validation Loss 0.8060,  Accuracy: 73.5632\n",
      "Epoch [88/100], Train Loss: 0.1782, Validation Loss 0.8313,  Accuracy: 78.1609\n",
      "Epoch [89/100], Train Loss: 0.1710, Validation Loss 0.8652,  Accuracy: 75.8621\n",
      "Epoch [90/100], Train Loss: 0.1270, Validation Loss 0.8319,  Accuracy: 73.5632\n",
      "Epoch [91/100], Train Loss: 0.1527, Validation Loss 0.8464,  Accuracy: 70.1149\n",
      "Epoch [92/100], Train Loss: 0.1986, Validation Loss 0.9053,  Accuracy: 73.5632\n",
      "Epoch [93/100], Train Loss: 0.1506, Validation Loss 0.8930,  Accuracy: 73.5632\n",
      "Epoch [94/100], Train Loss: 0.1017, Validation Loss 0.9568,  Accuracy: 73.5632\n",
      "Epoch [95/100], Train Loss: 0.1199, Validation Loss 0.6854,  Accuracy: 74.7126\n",
      "Epoch [96/100], Train Loss: 0.1496, Validation Loss 0.9239,  Accuracy: 71.2644\n",
      "Epoch [97/100], Train Loss: 0.1485, Validation Loss 0.8365,  Accuracy: 77.0115\n",
      "Epoch [98/100], Train Loss: 0.1717, Validation Loss 0.8641,  Accuracy: 71.2644\n",
      "Epoch [99/100], Train Loss: 0.0891, Validation Loss 0.9888,  Accuracy: 71.2644\n",
      "Epoch [100/100], Train Loss: 0.1024, Validation Loss 0.8586,  Accuracy: 75.8621\n",
      "Finished training trainset in 683.13 seconds\n"
     ]
    }
   ],
   "source": [
    "train_loss_vgg13, val_loss_vgg13 = train(vgg13, optimizer, loss_fn, 100)"
   ]
  },
  {
   "cell_type": "code",
   "execution_count": 67,
   "metadata": {},
   "outputs": [
    {
     "name": "stdout",
     "output_type": "stream",
     "text": [
      "Test of the model on the 173 test images\n",
      "Acurracy: 75.14 %\n",
      "F1-score: 74.14 %\n",
      "Recall: 72.97 %\n",
      "Precision: 76.55 %\n"
     ]
    },
    {
     "data": {
      "image/png": "[encoded data removed]",
      "text/plain": [
       "<Figure size 432x288 with 1 Axes>"
      ]
     },
     "metadata": {
      "needs_background": "light"
     },
     "output_type": "display_data"
    }
   ],
   "source": [
    "# test after train\n",
    "torch.manual_seed(1)\n",
    "test(vgg13, \"vgg13 confusion matrix SGD epochs=100 lr=3e-4 weight_decay=0.005 momentum=0.9.png\")"
   ]
  },
  {
   "cell_type": "code",
   "execution_count": 68,
   "metadata": {},
   "outputs": [
    {
     "data": {
      "text/plain": [
       "<matplotlib.legend.Legend at 0x2705315abf0>"
      ]
     },
     "execution_count": 68,
     "metadata": {},
     "output_type": "execute_result"
    },
    {
     "data": {
      "image/png": "[encoded data removed]",
      "text/plain": [
       "<Figure size 432x288 with 1 Axes>"
      ]
     },
     "metadata": {
      "needs_background": "light"
     },
     "output_type": "display_data"
    }
   ],
   "source": [
    "plt.plot(train_loss_vgg13, label=\"train loss\")\n",
    "plt.plot(val_loss_vgg13, label=\"val loss\")\n",
    "plt.ylabel(\"loss\")\n",
    "plt.xlabel(\"num epochs\")\n",
    "plt.title(\"Loss vs num epochs\")\n",
    "plt.legend()\n",
    "plt.savefig(PATH_RES+\"vgg13 loss SGD epochs=100 lr=3e-4 weight_decay=0.005 momentum=0.9.png\")\n",
    "# plt.show()"
   ]
  }
 ],
 "metadata": {
  "deepnote": {},
  "deepnote_execution_queue": [],
  "deepnote_notebook_id": "9899d9c7-2c90-4677-8138-4c8c81fa9231",
  "kernelspec": {
   "display_name": "Python 3.10.2 64-bit",
   "language": "python",
   "name": "python3"
  },
  "language_info": {
   "codemirror_mode": {
    "name": "ipython",
    "version": 3
   },
   "file_extension": ".py",
   "mimetype": "text/x-python",
   "name": "python",
   "nbconvert_exporter": "python",
   "pygments_lexer": "ipython3",
   "version": "3.10.2"
  },
  "orig_nbformat": 2,
  "vscode": {
   "interpreter": {
    "hash": "341268af697f69dd1ffdcdac7af840419ecb88f390bc16e46c3586102df69d04"
   }
  }
 },
 "nbformat": 4,
 "nbformat_minor": 2
}
