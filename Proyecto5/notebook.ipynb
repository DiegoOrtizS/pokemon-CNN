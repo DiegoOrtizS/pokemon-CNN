{
 "cells": [
  {
   "cell_type": "markdown",
   "metadata": {
    "cell_id": "4ae14676daf9464d8ce41c00f7067385",
    "deepnote_cell_height": 82,
    "deepnote_cell_type": "markdown",
    "tags": []
   },
   "source": [
    "# Librerías"
   ]
  },
  {
   "cell_type": "code",
   "execution_count": 1,
   "metadata": {
    "cell_id": "dca0b91c68df4f6ba8f4ae66fd2d4638",
    "deepnote_cell_height": 495,
    "deepnote_cell_type": "code",
    "deepnote_to_be_reexecuted": false,
    "execution_millis": 6,
    "execution_start": 1656113514131,
    "source_hash": "c29ad971",
    "tags": []
   },
   "outputs": [],
   "source": [
    "import torch\n",
    "import torch.nn as nn\n",
    "import torch.optim as optim\n",
    "import torchvision\n",
    "import torchvision.transforms as transform\n",
    "import torch.nn.functional as F\n",
    "import seaborn as sns\n",
    "\n",
    "import matplotlib.pyplot as plt\n",
    "import numpy as np\n",
    "import math\n",
    "import pandas as pd\n",
    "import sys\n",
    "import json\n",
    "import os\n",
    "import random\n",
    "import time\n",
    "\n",
    "from urllib.request import Request, urlopen, urlretrieve\n",
    "from typing import List\n",
    "from pprint import pprint\n",
    "from PIL import Image\n",
    "from typing_extensions import Required\n",
    "from torchvision import transforms\n",
    "from sklearn.model_selection import train_test_split\n",
    "from torch.utils.data import TensorDataset, DataLoader, Dataset\n",
    "from torch.utils.data.dataset import random_split\n",
    "from sklearn import preprocessing\n",
    "from sklearn.metrics import confusion_matrix\n",
    "from svglib.svglib import svg2rlg\n",
    "from reportlab.graphics import renderPM"
   ]
  },
  {
   "cell_type": "markdown",
   "metadata": {
    "cell_id": "c371cb3d7f6048e1a5dfe620c157b225",
    "deepnote_cell_height": 134,
    "deepnote_cell_type": "markdown",
    "tags": []
   },
   "source": [
    "# Extracción de datos con web scrapping\n"
   ]
  },
  {
   "cell_type": "code",
   "execution_count": 2,
   "metadata": {
    "cell_id": "81c208ada4864ecc85c464e87885a67d",
    "deepnote_cell_height": 99,
    "deepnote_cell_type": "code",
    "deepnote_to_be_reexecuted": false,
    "execution_millis": 5,
    "execution_start": 1656112784191,
    "source_hash": "f913a6e2",
    "tags": []
   },
   "outputs": [],
   "source": [
    "# son 905, pero los últimos no tienen data\n",
    "max_pokemon: int = 898"
   ]
  },
  {
   "cell_type": "code",
   "execution_count": 3,
   "metadata": {},
   "outputs": [],
   "source": [
    "types = [\"grass\", \"fire\", \"water\", \"electric\"]"
   ]
  },
  {
   "cell_type": "code",
   "execution_count": 4,
   "metadata": {
    "cell_id": "1faf299810584c6a8b5973511feceff5",
    "deepnote_cell_height": 117,
    "deepnote_cell_type": "code",
    "deepnote_to_be_reexecuted": false,
    "execution_millis": 2,
    "execution_start": 1656112784205,
    "source_hash": "5c166d96",
    "tags": []
   },
   "outputs": [],
   "source": [
    "dir1: str = \"official-artwork\"\n",
    "if os.path.exists(dir1) == False:\n",
    "    os.mkdir(dir1)"
   ]
  },
  {
   "cell_type": "code",
   "execution_count": 5,
   "metadata": {},
   "outputs": [],
   "source": [
    "dir2: str = \"all\"\n",
    "if os.path.exists(dir2) == False:\n",
    "    os.mkdir(dir2)"
   ]
  },
  {
   "cell_type": "code",
   "execution_count": 6,
   "metadata": {
    "cell_id": "409ad1cd53bd41938e258722df74999e",
    "deepnote_cell_height": 333,
    "deepnote_cell_type": "code",
    "deepnote_to_be_reexecuted": false,
    "execution_millis": 38558,
    "execution_start": 1656112784214,
    "source_hash": "3b6ed317",
    "tags": []
   },
   "outputs": [
    {
     "data": {
      "text/plain": [
       "' \\nSOLO PARA DESCARGAR DATOS\\n'"
      ]
     },
     "execution_count": 6,
     "metadata": {},
     "output_type": "execute_result"
    }
   ],
   "source": [
    "\"\"\" \n",
    "SOLO PARA DESCARGAR DATOS\n",
    "\"\"\"\n",
    "# for pokemon_id in range(max_pokemon):\n",
    "#     req: Request = Request(\"https://pokeapi.co/api/v2/pokemon/\"+str(pokemon_id+1), \n",
    "#                     headers={'User-Agent': 'Mozilla/5.0'})\n",
    "#     webpage: bytes = urlopen(req).read()\n",
    "#     json_obj: dict = json.loads(webpage)\n",
    "#     img_url: str = json_obj[\"sprites\"][\"other\"][\"official-artwork\"][\"front_default\"]\n",
    "    \n",
    "#     name: str = json_obj[\"species\"][\"name\"]\n",
    "#     type: str = json_obj[\"types\"][0][\"type\"][\"name\"]\n",
    "\n",
    "#     if os.path.exists(dir1+\"/\"+type) == False:\n",
    "#         os.mkdir(dir1+\"/\"+type)\n",
    "    \n",
    "#     img: str = img_url.split(\"/\")[-1]\n",
    "#     urlretrieve(img_url, dir1+\"/\"+type+\"/\"+name+\".png\")"
   ]
  },
  {
   "cell_type": "code",
   "execution_count": 7,
   "metadata": {},
   "outputs": [],
   "source": [
    "imgs_category: list = [\"official-artwork\", \"home\", \"dream_world\"]"
   ]
  },
  {
   "cell_type": "code",
   "execution_count": 8,
   "metadata": {},
   "outputs": [],
   "source": [
    "for type in types:\n",
    "    if os.path.exists(dir2+\"/\"+type) == False:\n",
    "        os.mkdir(dir2+\"/\"+type)\n",
    "    # if os.path.exists(\"svg/\"+type) == False:\n",
    "    #     os.mkdir(\"svg/\"+type)"
   ]
  },
  {
   "cell_type": "code",
   "execution_count": 9,
   "metadata": {},
   "outputs": [
    {
     "data": {
      "text/plain": [
       "' \\nSOLO PARA DESCARGAR DATOS\\n'"
      ]
     },
     "execution_count": 9,
     "metadata": {},
     "output_type": "execute_result"
    }
   ],
   "source": [
    "\"\"\" \n",
    "SOLO PARA DESCARGAR DATOS\n",
    "\"\"\"\n",
    "# for pokemon_id in range(max_pokemon):\n",
    "#     print(pokemon_id+1)\n",
    "#     req: Request = Request(\"https://pokeapi.co/api/v2/pokemon/\"+str(pokemon_id+1), \n",
    "#                     headers={'User-Agent': 'Mozilla/5.0'})\n",
    "#     webpage: bytes = urlopen(req).read()\n",
    "#     json_obj: dict = json.loads(webpage)\n",
    "#     type: str = json_obj[\"types\"][0][\"type\"][\"name\"]\n",
    "#     if type not in types:\n",
    "#         continue\n",
    "#     name: str = json_obj[\"species\"][\"name\"]\n",
    "\n",
    "#     for img_category in imgs_category:\n",
    "#         img_url: str = json_obj[\"sprites\"][\"other\"][img_category][\"front_default\"]\n",
    "#         if img_url == None:\n",
    "#             continue\n",
    "#         save_route: str = \"/\"+type+\"/\"+name+\"_\"+img_category+\".\"\n",
    "#         format: str = img_url[-3:]\n",
    "#         if format == \"svg\":\n",
    "#             urlretrieve(img_url, \"svg\"+save_route+format)\n",
    "#             drawing = svg2rlg(\"svg\"+save_route+format)\n",
    "#             renderPM.drawToFile(drawing, dir2+save_route+\"png\", fmt=\"PNG\")\n",
    "#         else:\n",
    "#             urlretrieve(img_url, dir2+save_route+format)"
   ]
  },
  {
   "cell_type": "code",
   "execution_count": 10,
   "metadata": {},
   "outputs": [
    {
     "name": "stdout",
     "output_type": "stream",
     "text": [
      "grass 86\n",
      "fire 58\n",
      "water 123\n",
      "electric 49\n",
      "['grass', 'fire', 'water', 'electric']\n"
     ]
    }
   ],
   "source": [
    "# Distribución de los datos\n",
    "for type in types:\n",
    "    print(type, len(os.listdir(dir1+\"/\"+type)))\n",
    "# types.remove(\"flying\")\n",
    "print(types)\n"
   ]
  },
  {
   "cell_type": "code",
   "execution_count": 11,
   "metadata": {},
   "outputs": [
    {
     "name": "stdout",
     "output_type": "stream",
     "text": [
      "grass 233\n",
      "fire 155\n",
      "water 346\n",
      "electric 131\n",
      "865\n"
     ]
    }
   ],
   "source": [
    "# Distribución de los datos\n",
    "sum: int = 0\n",
    "for type in types:\n",
    "    freq: int = len(os.listdir(dir2+\"/\"+type))\n",
    "    sum += freq\n",
    "    print(type, freq)\n",
    "# types.remove(\"flying\")\n",
    "print(sum)"
   ]
  },
  {
   "cell_type": "markdown",
   "metadata": {
    "cell_id": "896da40b711a4f8888ab27620132e8d7",
    "deepnote_cell_height": 82,
    "deepnote_cell_type": "markdown",
    "tags": []
   },
   "source": [
    "# CNN"
   ]
  },
  {
   "cell_type": "markdown",
   "metadata": {
    "cell_id": "5c307bb8ebb544d2bc70ddd752aba283",
    "deepnote_cell_height": 70,
    "deepnote_cell_type": "markdown",
    "tags": []
   },
   "source": [
    "## Alexnet"
   ]
  },
  {
   "cell_type": "code",
   "execution_count": 12,
   "metadata": {
    "cell_id": "c159bd33463a49e687f206ca20f7e0ae",
    "deepnote_cell_height": 538.203125,
    "deepnote_cell_type": "code",
    "deepnote_to_be_reexecuted": false,
    "execution_millis": 728,
    "execution_start": 1656112822774,
    "owner_user_id": "32a19c20-c19c-4be0-b488-d37ed4f5b741",
    "source_hash": "7195c826",
    "tags": []
   },
   "outputs": [
    {
     "name": "stderr",
     "output_type": "stream",
     "text": [
      "c:\\Users\\Diego\\AppData\\Local\\Programs\\Python\\Python310\\lib\\site-packages\\torchvision\\models\\_utils.py:208: UserWarning: The parameter 'pretrained' is deprecated since 0.13 and will be removed in 0.15, please use 'weights' instead.\n",
      "  warnings.warn(\n",
      "c:\\Users\\Diego\\AppData\\Local\\Programs\\Python\\Python310\\lib\\site-packages\\torchvision\\models\\_utils.py:223: UserWarning: Arguments other than a weight enum or `None` for 'weights' are deprecated since 0.13 and will be removed in 0.15. The current behavior is equivalent to passing `weights=AlexNet_Weights.IMAGENET1K_V1`. You can also use `weights=AlexNet_Weights.DEFAULT` to get the most up-to-date weights.\n",
      "  warnings.warn(msg)\n"
     ]
    },
    {
     "name": "stdout",
     "output_type": "stream",
     "text": [
      "AlexNet(\n",
      "  (features): Sequential(\n",
      "    (0): Conv2d(3, 64, kernel_size=(11, 11), stride=(4, 4), padding=(2, 2))\n",
      "    (1): ReLU(inplace=True)\n",
      "    (2): MaxPool2d(kernel_size=3, stride=2, padding=0, dilation=1, ceil_mode=False)\n",
      "    (3): Conv2d(64, 192, kernel_size=(5, 5), stride=(1, 1), padding=(2, 2))\n",
      "    (4): ReLU(inplace=True)\n",
      "    (5): MaxPool2d(kernel_size=3, stride=2, padding=0, dilation=1, ceil_mode=False)\n",
      "    (6): Conv2d(192, 384, kernel_size=(3, 3), stride=(1, 1), padding=(1, 1))\n",
      "    (7): ReLU(inplace=True)\n",
      "    (8): Conv2d(384, 256, kernel_size=(3, 3), stride=(1, 1), padding=(1, 1))\n",
      "    (9): ReLU(inplace=True)\n",
      "    (10): Conv2d(256, 256, kernel_size=(3, 3), stride=(1, 1), padding=(1, 1))\n",
      "    (11): ReLU(inplace=True)\n",
      "    (12): MaxPool2d(kernel_size=3, stride=2, padding=0, dilation=1, ceil_mode=False)\n",
      "  )\n",
      "  (avgpool): AdaptiveAvgPool2d(output_size=(6, 6))\n",
      "  (classifier): Sequential(\n",
      "    (0): Dropout(p=0.5, inplace=False)\n",
      "    (1): Linear(in_features=9216, out_features=4096, bias=True)\n",
      "    (2): ReLU(inplace=True)\n",
      "    (3): Dropout(p=0.5, inplace=False)\n",
      "    (4): Linear(in_features=4096, out_features=1024, bias=True)\n",
      "    (5): ReLU(inplace=True)\n",
      "    (6): Linear(in_features=1024, out_features=4, bias=True)\n",
      "  )\n",
      ")\n"
     ]
    }
   ],
   "source": [
    "model = torchvision.models.alexnet(pretrained=True)\n",
    "for e  in model.parameters():\n",
    "   e.requires_grad = False\n",
    "model.classifier[4] = nn.Linear(4096, 1024)\n",
    "model.classifier[6] = nn.Linear(1024, len(types))\n",
    "device = torch.device('cuda:0' if torch.cuda.is_available() else 'cpu')\n",
    "model.to(device)\n",
    "print(model)"
   ]
  },
  {
   "cell_type": "code",
   "execution_count": 13,
   "metadata": {},
   "outputs": [],
   "source": [
    "x: List[str] = []\n",
    "y: List[str] = []\n",
    "for type in types:\n",
    "    pokemon_imgs: List[str] = os.listdir(dir2+\"/\"+type)\n",
    "    for pokemon_img in pokemon_imgs:\n",
    "        x.append(dir2+\"/\"+type+\"/\"+pokemon_img)\n",
    "        y.append(type)"
   ]
  },
  {
   "cell_type": "code",
   "execution_count": 14,
   "metadata": {},
   "outputs": [],
   "source": [
    "class MyDataset(Dataset):\n",
    "      def __init__(self, list_IDs, labels):\n",
    "            self.labels = labels\n",
    "            self.list_IDs = list_IDs\n",
    "\n",
    "      def __len__(self):\n",
    "            return len(self.list_IDs)\n",
    "\n",
    "      def __getitem__(self, index):\n",
    "            # Select sample\n",
    "            ID = self.list_IDs[index]\n",
    "\n",
    "            # Load data and get label\n",
    "            input_image = Image.open(ID)\n",
    "            input_image = input_image.convert('RGB')\n",
    "            preprocess = transforms.Compose([\n",
    "                  transforms.Resize(256),\n",
    "                  transforms.CenterCrop(224),\n",
    "                  transforms.ToTensor()\n",
    "            ])\n",
    "            X = preprocess(input_image)\n",
    "            y = self.labels[index]\n",
    "            return X, y"
   ]
  },
  {
   "cell_type": "code",
   "execution_count": 15,
   "metadata": {},
   "outputs": [],
   "source": [
    "le = preprocessing.LabelEncoder()\n",
    "tensor_y = le.fit_transform(y)\n",
    "tensor_y = torch.as_tensor(tensor_y)\n",
    "dataset = MyDataset(x, tensor_y)\n"
   ]
  },
  {
   "cell_type": "code",
   "execution_count": 16,
   "metadata": {},
   "outputs": [],
   "source": [
    "data_train, data_val, data_test = random_split(dataset=dataset, lengths=[605, 87, 173])"
   ]
  },
  {
   "cell_type": "code",
   "execution_count": 17,
   "metadata": {},
   "outputs": [],
   "source": [
    "batch_size = 64\n",
    "train_loader = DataLoader(dataset=data_train, batch_size=batch_size, shuffle=True)\n",
    "val_loader = DataLoader(dataset=data_val, batch_size=batch_size, shuffle=False)\n",
    "test_loader = DataLoader(dataset=data_test, batch_size=batch_size, shuffle=False)"
   ]
  },
  {
   "cell_type": "code",
   "execution_count": 18,
   "metadata": {
    "cell_id": "36701edd37294ababa555381dad795f7",
    "deepnote_cell_height": 99,
    "deepnote_cell_type": "code",
    "deepnote_to_be_reexecuted": false,
    "execution_millis": 3,
    "execution_start": 1656113535112,
    "source_hash": "fc1d418",
    "tags": []
   },
   "outputs": [],
   "source": [
    "loss_fn = nn.CrossEntropyLoss()\n",
    "optimizer = optim.Adam(model.parameters(), lr=0.001)\n",
    "# optimizer = optim.SGD(model.parameters(), lr=0.005, weight_decay=0.005, momentum=0.9)\n",
    "# optimizer = optim.SGD(model.parameters(), lr=0.005)\n",
    "total_step = len(train_loader)\n",
    "num_epochs = 100"
   ]
  },
  {
   "cell_type": "code",
   "execution_count": 19,
   "metadata": {},
   "outputs": [],
   "source": [
    "from PIL import ImageFile\n",
    "ImageFile.LOAD_TRUNCATED_IMAGES = True"
   ]
  },
  {
   "cell_type": "code",
   "execution_count": 20,
   "metadata": {},
   "outputs": [],
   "source": [
    "def train(model, optimizer, loss_fn, num_epochs) -> List[float]:\n",
    "  # train the model\n",
    "  total_step: int = len(train_loader)\n",
    "  print(total_step)\n",
    "\n",
    "  list_loss: List[float] = []\n",
    "\n",
    "  beg = time.time()\n",
    "  for epoch in range(num_epochs):\n",
    "    for i, (images, labels) in enumerate(train_loader):\n",
    "      images = images.to(device)\n",
    "      labels = labels.to(device)\n",
    "      # forward \n",
    "      output = model(images)\n",
    "      loss   = loss_fn(output, labels)\n",
    "      # change the params\n",
    "      optimizer.zero_grad()\n",
    "      loss.backward()\n",
    "      optimizer.step()\n",
    "              \n",
    "      # if (i+1) % 100 == 0:\n",
    "        # print ('Epoch [{}/{}], Step [{}/{}], Loss: {:.4f}' \n",
    "        #       .format(epoch+1, num_epochs, i+1, total_step, loss.item()))\n",
    "    list_loss.append(loss.item())\n",
    "    print ('Epoch [{}/{}], Loss: {:.4f}' \n",
    "          .format(epoch+1, num_epochs, loss.item()))\n",
    "  end = time.time()\n",
    "  print('Finished training trainset in {} seconds'.format(round(end-beg, 2)))\n",
    "\n",
    "  return list_loss"
   ]
  },
  {
   "cell_type": "code",
   "execution_count": 21,
   "metadata": {},
   "outputs": [],
   "source": [
    "def validate(model, loss_fn):\n",
    "    model.eval()\n",
    "    res = {\n",
    "        \"loss_val\": [],\n",
    "        \"acc\": []\n",
    "    }\n",
    "    for images, labels in val_loader:\n",
    "        images = images.to(device)\n",
    "        labels = labels.to(device)\n",
    "        outputs = model(images)\n",
    "        loss = F.cross_entropy(outputs, labels)\n",
    "        _, predicted = torch.max(outputs.data, 1)\n",
    "        acc = (predicted == labels).sum().item()/labels.size(0)\n",
    "        res[\"loss_val\"].append(loss.detach().cpu().data.numpy())\n",
    "        res[\"acc\"].append(acc)\n",
    "    return res\n"
   ]
  },
  {
   "cell_type": "code",
   "execution_count": 22,
   "metadata": {},
   "outputs": [],
   "source": [
    "def train2(model, optimizer, loss_fn, num_epochs) -> List[float]:\n",
    "  # train the model\n",
    "  total_step: int = len(train_loader)\n",
    "  print(total_step)\n",
    "  log = []\n",
    "  beg = time.time()\n",
    "  for epoch in range(num_epochs):\n",
    "    model.train()\n",
    "    list_loss: List[float] = []\n",
    "    for i, (images, labels) in enumerate(train_loader):\n",
    "      images = images.to(device)\n",
    "      labels = labels.to(device)\n",
    "      # forward \n",
    "      output = model(images)\n",
    "      loss   = loss_fn(output, labels)\n",
    "      list_loss.append(loss)\n",
    "      # change the params\n",
    "      optimizer.zero_grad()\n",
    "      loss.backward()\n",
    "      optimizer.step()\n",
    "    result = validate(model, loss_fn)\n",
    "    result['loss_train'] = torch.stack(list_loss).mean().item\n",
    "    result['loss_train'] = result['loss_train'].cpu().data.numpy()\n",
    "    log.append(result)\n",
    "    print(result)\n",
    "    # list_loss.append(loss.item())\n",
    "    print ('Epoch [{}/{}], Train loss: {:.4f}, Val loss: {:.4f}, Accuracy: {:.4f}' \n",
    "          .format(epoch+1, num_epochs, result['loss_train'], result['loss_val'], result['acc']))\n",
    "  end = time.time()\n",
    "  print('Finished training trainset in {} seconds'.format(round(end-beg, 2)))\n",
    "\n",
    "  return log"
   ]
  },
  {
   "cell_type": "code",
   "execution_count": 23,
   "metadata": {},
   "outputs": [],
   "source": [
    "def test(model):\n",
    "    with torch.no_grad():\n",
    "        correct: int = 0\n",
    "        total: int = 0\n",
    "        all_predicted: list = []\n",
    "        all_labels: list = []\n",
    "        for images, labels in test_loader:\n",
    "            images = images.to(device)\n",
    "            labels = labels.to(device)\n",
    "            outputs = model(images)\n",
    "            _, predicted = torch.max(outputs.data, 1)\n",
    "            total += labels.size(0)\n",
    "            correct += (predicted == labels).sum().item()\n",
    "            all_predicted.extend((predicted).tolist())\n",
    "            all_labels.extend((labels).tolist())\n",
    "        accuracy: float = 100*correct/total\n",
    "        val = (np.unique(le.inverse_transform(all_predicted)))\n",
    "        matrix = confusion_matrix(all_labels, all_predicted)\n",
    "        df = pd.DataFrame(matrix, index=val, columns=val)\n",
    "        sns.heatmap(df, annot=True, cbar=None, cmap=\"Greens\")\n",
    "        plt.title(\"Confusion Matrix\"), plt.tight_layout()\n",
    "        plt.xlabel(\"Predicted\")\n",
    "        plt.ylabel(\"Real\")\n",
    "        plt.show()\n",
    "        print('Test accuracy of the model on the {} test images: {} %'.format(len(data_test), round(accuracy, 2)))\n"
   ]
  },
  {
   "cell_type": "code",
   "execution_count": 24,
   "metadata": {},
   "outputs": [
    {
     "data": {
      "image/png": "[encoded data removed]",
      "text/plain": [
       "<Figure size 432x288 with 1 Axes>"
      ]
     },
     "metadata": {
      "needs_background": "light"
     },
     "output_type": "display_data"
    },
    {
     "name": "stdout",
     "output_type": "stream",
     "text": [
      "Test accuracy of the model on the 173 test images: 29.48 %\n"
     ]
    }
   ],
   "source": [
    "# test before train\n",
    "test(model)"
   ]
  },
  {
   "cell_type": "code",
   "execution_count": 25,
   "metadata": {},
   "outputs": [
    {
     "name": "stdout",
     "output_type": "stream",
     "text": [
      "10\n",
      "Epoch [1/10], Loss: 1.4784\n",
      "Epoch [2/10], Loss: 0.9472\n",
      "Epoch [3/10], Loss: 0.7834\n",
      "Epoch [4/10], Loss: 0.5235\n",
      "Epoch [5/10], Loss: 0.6311\n",
      "Epoch [6/10], Loss: 0.4964\n",
      "Epoch [7/10], Loss: 0.4928\n",
      "Epoch [8/10], Loss: 0.3609\n",
      "Epoch [9/10], Loss: 0.3635\n",
      "Epoch [10/10], Loss: 0.2452\n",
      "Finished training trainset in 30.26 seconds\n"
     ]
    }
   ],
   "source": [
    "loss = train(model, optimizer, loss_fn, 10)"
   ]
  },
  {
   "cell_type": "code",
   "execution_count": 26,
   "metadata": {},
   "outputs": [
    {
     "data": {
      "image/png": "[encoded data removed]",
      "text/plain": [
       "<Figure size 432x288 with 1 Axes>"
      ]
     },
     "metadata": {
      "needs_background": "light"
     },
     "output_type": "display_data"
    },
    {
     "name": "stdout",
     "output_type": "stream",
     "text": [
      "Test accuracy of the model on the 173 test images: 67.63 %\n"
     ]
    }
   ],
   "source": [
    "# test after train\n",
    "torch.manual_seed(1)\n",
    "test(model)"
   ]
  },
  {
   "cell_type": "code",
   "execution_count": 27,
   "metadata": {},
   "outputs": [
    {
     "data": {
      "text/plain": [
       "[<matplotlib.lines.Line2D at 0x1c2ae2e8f40>]"
      ]
     },
     "execution_count": 27,
     "metadata": {},
     "output_type": "execute_result"
    },
    {
     "data": {
      "image/png": "[encoded data removed]",
      "text/plain": [
       "<Figure size 432x288 with 1 Axes>"
      ]
     },
     "metadata": {
      "needs_background": "light"
     },
     "output_type": "display_data"
    }
   ],
   "source": [
    "plt.plot(loss)"
   ]
  },
  {
   "cell_type": "markdown",
   "metadata": {},
   "source": [
    "# Resnet"
   ]
  },
  {
   "cell_type": "code",
   "execution_count": null,
   "metadata": {},
   "outputs": [],
   "source": [
    "# resnet50 = torchvision.models.resnet50(pretrained=True)\n",
    "# for e in resnet50.parameters():\n",
    "#    e.requires_grad = False\n",
    "# device = torch.device('cuda:0' if torch.cuda.is_available() else 'cpu')\n",
    "# resnet50.fc = nn.Linear(in_features=2048, out_features=len(types), bias=True)\n",
    "# resnet50.to(device)\n",
    "# # Adaptar el classifier a las clases\n",
    "# optimizer = optim.Adam(resnet50.parameters(), lr=3e-4)\n",
    "# # optimizer = torch.optim.SGD(resnet50.parameters(), lr=0.01, weight_decay = 0.005, momentum = 0.9)  \n",
    "# loss_arr = train(resnet50, optimizer, loss_fn, 100)"
   ]
  }
 ],
 "metadata": {
  "deepnote": {},
  "deepnote_execution_queue": [],
  "deepnote_notebook_id": "9899d9c7-2c90-4677-8138-4c8c81fa9231",
  "kernelspec": {
   "display_name": "Python 3.10.2 64-bit",
   "language": "python",
   "name": "python3"
  },
  "language_info": {
   "codemirror_mode": {
    "name": "ipython",
    "version": 3
   },
   "file_extension": ".py",
   "mimetype": "text/x-python",
   "name": "python",
   "nbconvert_exporter": "python",
   "pygments_lexer": "ipython3",
   "version": "3.10.2"
  },
  "orig_nbformat": 2,
  "vscode": {
   "interpreter": {
    "hash": "341268af697f69dd1ffdcdac7af840419ecb88f390bc16e46c3586102df69d04"
   }
  }
 },
 "nbformat": 4,
 "nbformat_minor": 2
}
