{
 "cells": [
  {
   "cell_type": "markdown",
   "metadata": {
    "cell_id": "4ae14676daf9464d8ce41c00f7067385",
    "deepnote_cell_height": 82,
    "deepnote_cell_type": "markdown",
    "tags": []
   },
   "source": [
    "# Librerías"
   ]
  },
  {
   "cell_type": "code",
   "execution_count": 1,
   "metadata": {
    "cell_id": "dca0b91c68df4f6ba8f4ae66fd2d4638",
    "deepnote_cell_height": 495,
    "deepnote_cell_type": "code",
    "deepnote_to_be_reexecuted": false,
    "execution_millis": 6,
    "execution_start": 1656113514131,
    "source_hash": "c29ad971",
    "tags": []
   },
   "outputs": [],
   "source": [
    "import torch\n",
    "import torch.nn as nn\n",
    "import torch.optim as optim\n",
    "import torchvision\n",
    "import torchvision.transforms as transform\n",
    "import torch.nn.functional as F\n",
    "import seaborn as sns\n",
    "\n",
    "import matplotlib.pyplot as plt\n",
    "import numpy as np\n",
    "import math\n",
    "import pandas as pd\n",
    "import sys\n",
    "import json\n",
    "import os\n",
    "import random\n",
    "import time\n",
    "\n",
    "from urllib.request import Request, urlopen, urlretrieve\n",
    "from typing import List\n",
    "from pprint import pprint\n",
    "from PIL import Image\n",
    "from typing_extensions import Required\n",
    "from torchvision import transforms\n",
    "from sklearn.model_selection import train_test_split\n",
    "from torch.utils.data import TensorDataset, DataLoader, Dataset\n",
    "from torch.utils.data.dataset import random_split\n",
    "from sklearn import preprocessing\n",
    "from sklearn.metrics import confusion_matrix, accuracy_score, f1_score, recall_score, precision_score\n",
    "from svglib.svglib import svg2rlg\n",
    "from reportlab.graphics import renderPM"
   ]
  },
  {
   "cell_type": "markdown",
   "metadata": {
    "cell_id": "c371cb3d7f6048e1a5dfe620c157b225",
    "deepnote_cell_height": 134,
    "deepnote_cell_type": "markdown",
    "tags": []
   },
   "source": [
    "# Extracción de datos con web scrapping\n"
   ]
  },
  {
   "cell_type": "code",
   "execution_count": 2,
   "metadata": {
    "cell_id": "81c208ada4864ecc85c464e87885a67d",
    "deepnote_cell_height": 99,
    "deepnote_cell_type": "code",
    "deepnote_to_be_reexecuted": false,
    "execution_millis": 5,
    "execution_start": 1656112784191,
    "source_hash": "f913a6e2",
    "tags": []
   },
   "outputs": [],
   "source": [
    "# son 905, pero los últimos no tienen data\n",
    "max_pokemon: int = 898"
   ]
  },
  {
   "cell_type": "code",
   "execution_count": 3,
   "metadata": {},
   "outputs": [],
   "source": [
    "types = [\"grass\", \"fire\", \"water\", \"electric\"]"
   ]
  },
  {
   "cell_type": "code",
   "execution_count": 4,
   "metadata": {
    "cell_id": "1faf299810584c6a8b5973511feceff5",
    "deepnote_cell_height": 117,
    "deepnote_cell_type": "code",
    "deepnote_to_be_reexecuted": false,
    "execution_millis": 2,
    "execution_start": 1656112784205,
    "source_hash": "5c166d96",
    "tags": []
   },
   "outputs": [],
   "source": [
    "dir1: str = \"official-artwork\"\n",
    "if os.path.exists(dir1) == False:\n",
    "    os.mkdir(dir1)"
   ]
  },
  {
   "cell_type": "code",
   "execution_count": 7,
   "metadata": {},
   "outputs": [],
   "source": [
    "dir2: str = \"all\"\n",
    "if os.path.exists(dir2) == False:\n",
    "    os.mkdir(dir2)"
   ]
  },
  {
   "cell_type": "code",
   "execution_count": null,
   "metadata": {
    "cell_id": "409ad1cd53bd41938e258722df74999e",
    "deepnote_cell_height": 333,
    "deepnote_cell_type": "code",
    "deepnote_to_be_reexecuted": false,
    "execution_millis": 38558,
    "execution_start": 1656112784214,
    "source_hash": "3b6ed317",
    "tags": []
   },
   "outputs": [],
   "source": [
    "\"\"\" \n",
    "SOLO PARA DESCARGAR DATOS\n",
    "\"\"\"\n",
    "# for pokemon_id in range(max_pokemon):\n",
    "#     req: Request = Request(\"https://pokeapi.co/api/v2/pokemon/\"+str(pokemon_id+1), \n",
    "#                     headers={'User-Agent': 'Mozilla/5.0'})\n",
    "#     webpage: bytes = urlopen(req).read()\n",
    "#     json_obj: dict = json.loads(webpage)\n",
    "#     img_url: str = json_obj[\"sprites\"][\"other\"][\"official-artwork\"][\"front_default\"]\n",
    "    \n",
    "#     name: str = json_obj[\"species\"][\"name\"]\n",
    "#     type: str = json_obj[\"types\"][0][\"type\"][\"name\"]\n",
    "\n",
    "#     if os.path.exists(dir1+\"/\"+type) == False:\n",
    "#         os.mkdir(dir1+\"/\"+type)\n",
    "    \n",
    "#     img: str = img_url.split(\"/\")[-1]\n",
    "#     urlretrieve(img_url, dir1+\"/\"+type+\"/\"+name+\".png\")"
   ]
  },
  {
   "cell_type": "code",
   "execution_count": 5,
   "metadata": {},
   "outputs": [],
   "source": [
    "imgs_category: list = [\"official-artwork\", \"home\", \"dream_world\"]"
   ]
  },
  {
   "cell_type": "code",
   "execution_count": 8,
   "metadata": {},
   "outputs": [],
   "source": [
    "for type in types:\n",
    "    if os.path.exists(dir2+\"/\"+type) == False:\n",
    "        os.mkdir(dir2+\"/\"+type)\n",
    "    # if os.path.exists(\"svg/\"+type) == False:\n",
    "    #     os.mkdir(\"svg/\"+type)"
   ]
  },
  {
   "cell_type": "code",
   "execution_count": null,
   "metadata": {},
   "outputs": [],
   "source": [
    "\"\"\" \n",
    "SOLO PARA DESCARGAR DATOS\n",
    "\"\"\"\n",
    "# for pokemon_id in range(max_pokemon):\n",
    "#     print(pokemon_id+1)\n",
    "#     req: Request = Request(\"https://pokeapi.co/api/v2/pokemon/\"+str(pokemon_id+1), \n",
    "#                     headers={'User-Agent': 'Mozilla/5.0'})\n",
    "#     webpage: bytes = urlopen(req).read()\n",
    "#     json_obj: dict = json.loads(webpage)\n",
    "#     type: str = json_obj[\"types\"][0][\"type\"][\"name\"]\n",
    "#     if type not in types:\n",
    "#         continue\n",
    "#     name: str = json_obj[\"species\"][\"name\"]\n",
    "\n",
    "#     for img_category in imgs_category:\n",
    "#         img_url: str = json_obj[\"sprites\"][\"other\"][img_category][\"front_default\"]\n",
    "#         if img_url == None:\n",
    "#             continue\n",
    "#         save_route: str = \"/\"+type+\"/\"+name+\"_\"+img_category+\".\"\n",
    "#         format: str = img_url[-3:]\n",
    "#         if format == \"svg\":\n",
    "#             urlretrieve(img_url, \"svg\"+save_route+format)\n",
    "#             drawing = svg2rlg(\"svg\"+save_route+format)\n",
    "#             renderPM.drawToFile(drawing, dir2+save_route+\"png\", fmt=\"PNG\")\n",
    "#         else:\n",
    "#             urlretrieve(img_url, dir2+save_route+format)"
   ]
  },
  {
   "cell_type": "code",
   "execution_count": 9,
   "metadata": {},
   "outputs": [
    {
     "name": "stdout",
     "output_type": "stream",
     "text": [
      "grass 86\n",
      "fire 58\n",
      "water 123\n",
      "electric 49\n",
      "['grass', 'fire', 'water', 'electric']\n"
     ]
    }
   ],
   "source": [
    "# Distribución de los datos\n",
    "for type in types:\n",
    "    print(type, len(os.listdir(dir1+\"/\"+type)))\n",
    "# types.remove(\"flying\")\n",
    "print(types)\n"
   ]
  },
  {
   "cell_type": "code",
   "execution_count": 10,
   "metadata": {},
   "outputs": [
    {
     "name": "stdout",
     "output_type": "stream",
     "text": [
      "grass 233\n",
      "fire 155\n",
      "water 346\n",
      "electric 131\n",
      "865\n"
     ]
    }
   ],
   "source": [
    "# Distribución de los datos\n",
    "sum: int = 0\n",
    "for type in types:\n",
    "    freq: int = len(os.listdir(dir2+\"/\"+type))\n",
    "    sum += freq\n",
    "    print(type, freq)\n",
    "# types.remove(\"flying\")\n",
    "print(sum)"
   ]
  },
  {
   "cell_type": "markdown",
   "metadata": {
    "cell_id": "896da40b711a4f8888ab27620132e8d7",
    "deepnote_cell_height": 82,
    "deepnote_cell_type": "markdown",
    "tags": []
   },
   "source": [
    "# CNN"
   ]
  },
  {
   "cell_type": "markdown",
   "metadata": {
    "cell_id": "5c307bb8ebb544d2bc70ddd752aba283",
    "deepnote_cell_height": 70,
    "deepnote_cell_type": "markdown",
    "tags": []
   },
   "source": [
    "## Alexnet"
   ]
  },
  {
   "cell_type": "code",
   "execution_count": null,
   "metadata": {
    "cell_id": "c159bd33463a49e687f206ca20f7e0ae",
    "deepnote_cell_height": 538.203125,
    "deepnote_cell_type": "code",
    "deepnote_to_be_reexecuted": false,
    "execution_millis": 728,
    "execution_start": 1656112822774,
    "owner_user_id": "32a19c20-c19c-4be0-b488-d37ed4f5b741",
    "source_hash": "7195c826",
    "tags": []
   },
   "outputs": [],
   "source": [
    "model = torchvision.models.alexnet(pretrained=True)\n",
    "for e in model.parameters():\n",
    "   e.requires_grad = False\n",
    "model.classifier[4] = nn.Linear(4096, 1024)\n",
    "model.classifier[6] = nn.Linear(1024, len(types))\n",
    "# model.classifier[6] = nn.Linear(4096, len(types))\n",
    "device = torch.device('cuda:0' if torch.cuda.is_available() else 'cpu')\n",
    "model.to(device)\n",
    "print(model)"
   ]
  },
  {
   "cell_type": "code",
   "execution_count": 88,
   "metadata": {},
   "outputs": [],
   "source": [
    "x: List[str] = []\n",
    "y: List[str] = []\n",
    "for type in types:\n",
    "    pokemon_imgs: List[str] = os.listdir(dir1+\"/\"+type)\n",
    "    for pokemon_img in pokemon_imgs:\n",
    "        x.append(dir1+\"/\"+type+\"/\"+pokemon_img)\n",
    "        y.append(type)"
   ]
  },
  {
   "cell_type": "code",
   "execution_count": 13,
   "metadata": {},
   "outputs": [],
   "source": [
    "class MyDataset(Dataset):\n",
    "      def __init__(self, list_IDs, labels):\n",
    "            self.labels = labels\n",
    "            self.list_IDs = list_IDs\n",
    "\n",
    "      def __len__(self):\n",
    "            return len(self.list_IDs)\n",
    "\n",
    "      def __getitem__(self, index):\n",
    "            # Select sample\n",
    "            ID = self.list_IDs[index]\n",
    "\n",
    "            # Load data and get label\n",
    "            input_image = Image.open(ID)\n",
    "            input_image = input_image.convert('RGB')\n",
    "            preprocess = transforms.Compose([\n",
    "                  transforms.Resize(256),\n",
    "                  transforms.CenterCrop(224),\n",
    "                  transforms.RandomHorizontalFlip(),\n",
    "                  transforms.ToTensor()\n",
    "            ])\n",
    "            X = preprocess(input_image)\n",
    "            y = self.labels[index]\n",
    "            return X, y"
   ]
  },
  {
   "cell_type": "code",
   "execution_count": 105,
   "metadata": {},
   "outputs": [],
   "source": [
    "le = preprocessing.LabelEncoder()\n",
    "tensor_y = le.fit_transform(y)\n",
    "tensor_y = torch.as_tensor(tensor_y)\n",
    "dataset = MyDataset(x, tensor_y)\n"
   ]
  },
  {
   "cell_type": "code",
   "execution_count": 111,
   "metadata": {},
   "outputs": [],
   "source": [
    "# bd_1\n",
    "# data_train, data_val, data_test = random_split(dataset=dataset, lengths=[605, 87, 173])\n",
    "# bd_2\n",
    "data_train, data_val, data_test = random_split(dataset=dataset, lengths=[221, 32, 63])"
   ]
  },
  {
   "cell_type": "code",
   "execution_count": 112,
   "metadata": {},
   "outputs": [],
   "source": [
    "batch_size = 32\n",
    "train_loader = DataLoader(dataset=data_train, batch_size=batch_size, shuffle=True)\n",
    "val_loader = DataLoader(dataset=data_val, batch_size=batch_size, shuffle=False)\n",
    "test_loader = DataLoader(dataset=data_test, batch_size=batch_size, shuffle=False)"
   ]
  },
  {
   "cell_type": "code",
   "execution_count": 113,
   "metadata": {
    "cell_id": "36701edd37294ababa555381dad795f7",
    "deepnote_cell_height": 99,
    "deepnote_cell_type": "code",
    "deepnote_to_be_reexecuted": false,
    "execution_millis": 3,
    "execution_start": 1656113535112,
    "source_hash": "fc1d418",
    "tags": []
   },
   "outputs": [],
   "source": [
    "loss_fn = nn.CrossEntropyLoss()\n",
    "# optimizer = optim.Adam(model.parameters(), lr=0.01)\n",
    "optimizer = optim.SGD(model.parameters(), lr=1e-4, weight_decay=0.005, momentum=0.9)\n",
    "# optimizer = optim.SGD(model.parameters(), lr=0.005)\n",
    "total_step = len(train_loader)\n",
    "num_epochs = 100"
   ]
  },
  {
   "cell_type": "code",
   "execution_count": 22,
   "metadata": {},
   "outputs": [],
   "source": [
    "from PIL import ImageFile\n",
    "ImageFile.LOAD_TRUNCATED_IMAGES = True"
   ]
  },
  {
   "cell_type": "code",
   "execution_count": 35,
   "metadata": {},
   "outputs": [],
   "source": [
    "def train(model, optimizer, loss_fn, num_epochs) -> List[float]:\n",
    "  # train the model\n",
    "  total_step: int = len(train_loader)\n",
    "  # print(total_step)\n",
    "\n",
    "  list_train_loss: List[float] = []\n",
    "  list_val_loss: List[float] = []\n",
    "\n",
    "  beg = time.time()\n",
    "  for epoch in range(num_epochs):\n",
    "    for i, (images, labels) in enumerate(train_loader):\n",
    "      images = images.to(device)\n",
    "      labels = labels.to(device)\n",
    "      # forward \n",
    "      output = model(images)\n",
    "      loss   = loss_fn(output, labels)\n",
    "      # change the params\n",
    "      optimizer.zero_grad()\n",
    "      loss.backward()\n",
    "      optimizer.step()\n",
    "      # del images, labels, output\n",
    "    \n",
    "    train_loss: float = loss.item()\n",
    "    list_train_loss.append(train_loss)\n",
    "    with torch.no_grad():\n",
    "        model.eval()\n",
    "        for images, labels in val_loader:\n",
    "          correct = 0\n",
    "          total = 0\n",
    "          for images, labels in val_loader:\n",
    "              images = images.to(device)\n",
    "              labels = labels.to(device)\n",
    "              outputs = model(images)\n",
    "              loss = loss_fn(outputs, labels)\n",
    "              _, predicted = torch.max(outputs.data, 1)\n",
    "              total += labels.size(0)\n",
    "              correct += (predicted == labels).sum().item()\n",
    "              del images, labels, outputs\n",
    "\n",
    "        val_loss: float = loss.detach().cpu()\n",
    "        list_val_loss.append(val_loss)\n",
    "        print ('Epoch [{}/{}], Train Loss: {:.4f}, Validation Loss {:.4f},  Accuracy: {:.4f}'\n",
    "              .format(epoch+1, num_epochs, train_loss, val_loss, 100*correct/total))\n",
    "  end = time.time()\n",
    "  print('Finished training trainset in {} seconds'.format(round(end-beg, 2)))\n",
    "\n",
    "  return list_train_loss, list_val_loss"
   ]
  },
  {
   "cell_type": "code",
   "execution_count": 166,
   "metadata": {},
   "outputs": [],
   "source": [
    "def test(model, save_name: str = \"\"):\n",
    "    with torch.no_grad():\n",
    "        all_predicted: list = []\n",
    "        all_labels: list = []\n",
    "        for images, labels in test_loader:\n",
    "            images = images.to(device)\n",
    "            labels = labels.to(device)\n",
    "            outputs = model(images)\n",
    "            _, predicted = torch.max(outputs.data, 1)\n",
    "            all_predicted.extend((predicted).tolist())\n",
    "            all_labels.extend((labels).tolist())\n",
    "        # val = (np.unique(le.inverse_transform(all_predicted)))\n",
    "        val = (np.unique(le.inverse_transform(all_labels)))\n",
    "        matrix = confusion_matrix(all_labels, all_predicted)\n",
    "        df = pd.DataFrame(matrix, index=val, columns=val)\n",
    "        sns.heatmap(df, annot=True, cbar=None, cmap=\"Greens\")\n",
    "        plt.title(\"Confusion Matrix\"), plt.tight_layout()\n",
    "        plt.xlabel(\"Predicted\")\n",
    "        plt.ylabel(\"Real\")\n",
    "        if save_name == \"\":\n",
    "            plt.show()\n",
    "        else:\n",
    "            plt.savefig(PATH_RES+save_name)\n",
    "        print('Test of the model on the {} test images'.format(len(data_test)))\n",
    "        print('Acurracy: {:.2f} %'.format(100*accuracy_score(all_labels, all_predicted)))\n",
    "        print('F1-score: {:.2f} %'.format(100*f1_score(all_labels, all_predicted, average='macro')))\n",
    "        print('Recall: {:.2f} %'.format(100*recall_score(all_labels, all_predicted, average='macro')))\n",
    "        print('Precision: {:.2f} %'.format(100*precision_score(all_labels, all_predicted, average='macro')))\n"
   ]
  },
  {
   "cell_type": "code",
   "execution_count": 114,
   "metadata": {},
   "outputs": [
    {
     "name": "stdout",
     "output_type": "stream",
     "text": [
      "Epoch [1/30], Train Loss: 1.7068, Validation Loss 1.3674,  Accuracy: 28.1250\n",
      "Epoch [2/30], Train Loss: 1.2724, Validation Loss 1.2958,  Accuracy: 40.6250\n",
      "Epoch [3/30], Train Loss: 1.2381, Validation Loss 1.2538,  Accuracy: 40.6250\n",
      "Epoch [4/30], Train Loss: 1.0710, Validation Loss 1.1751,  Accuracy: 40.6250\n",
      "Epoch [5/30], Train Loss: 1.0020, Validation Loss 1.1410,  Accuracy: 56.2500\n",
      "Epoch [6/30], Train Loss: 1.1765, Validation Loss 1.1011,  Accuracy: 59.3750\n",
      "Epoch [7/30], Train Loss: 0.9427, Validation Loss 1.0606,  Accuracy: 50.0000\n",
      "Epoch [8/30], Train Loss: 1.0138, Validation Loss 1.0225,  Accuracy: 56.2500\n",
      "Epoch [9/30], Train Loss: 0.8632, Validation Loss 0.9909,  Accuracy: 65.6250\n",
      "Epoch [10/30], Train Loss: 0.7945, Validation Loss 0.9804,  Accuracy: 65.6250\n",
      "Epoch [11/30], Train Loss: 0.8203, Validation Loss 0.9743,  Accuracy: 56.2500\n",
      "Epoch [12/30], Train Loss: 0.6568, Validation Loss 0.9472,  Accuracy: 56.2500\n",
      "Epoch [13/30], Train Loss: 0.7853, Validation Loss 0.9107,  Accuracy: 65.6250\n",
      "Epoch [14/30], Train Loss: 0.7162, Validation Loss 0.8778,  Accuracy: 62.5000\n",
      "Epoch [15/30], Train Loss: 0.7110, Validation Loss 0.8950,  Accuracy: 59.3750\n",
      "Epoch [16/30], Train Loss: 0.6007, Validation Loss 0.8801,  Accuracy: 59.3750\n",
      "Epoch [17/30], Train Loss: 0.7627, Validation Loss 0.8730,  Accuracy: 59.3750\n",
      "Epoch [18/30], Train Loss: 0.7313, Validation Loss 0.8529,  Accuracy: 59.3750\n",
      "Epoch [19/30], Train Loss: 0.6159, Validation Loss 0.8527,  Accuracy: 62.5000\n",
      "Epoch [20/30], Train Loss: 0.7344, Validation Loss 0.8570,  Accuracy: 59.3750\n",
      "Epoch [21/30], Train Loss: 0.6577, Validation Loss 0.8154,  Accuracy: 62.5000\n",
      "Epoch [22/30], Train Loss: 0.7296, Validation Loss 0.8430,  Accuracy: 59.3750\n",
      "Epoch [23/30], Train Loss: 0.6368, Validation Loss 0.8000,  Accuracy: 65.6250\n",
      "Epoch [24/30], Train Loss: 0.5946, Validation Loss 0.8254,  Accuracy: 65.6250\n",
      "Epoch [25/30], Train Loss: 0.4816, Validation Loss 0.8128,  Accuracy: 56.2500\n",
      "Epoch [26/30], Train Loss: 0.5911, Validation Loss 0.8079,  Accuracy: 65.6250\n",
      "Epoch [27/30], Train Loss: 0.5860, Validation Loss 0.8042,  Accuracy: 62.5000\n",
      "Epoch [28/30], Train Loss: 0.7110, Validation Loss 0.7903,  Accuracy: 65.6250\n",
      "Epoch [29/30], Train Loss: 0.5842, Validation Loss 0.7808,  Accuracy: 62.5000\n",
      "Epoch [30/30], Train Loss: 0.5931, Validation Loss 0.7774,  Accuracy: 65.6250\n",
      "Finished training trainset in 51.79 seconds\n"
     ]
    }
   ],
   "source": [
    "train_loss, val_loss = train(model, optimizer, loss_fn, 30)"
   ]
  },
  {
   "cell_type": "code",
   "execution_count": 102,
   "metadata": {},
   "outputs": [],
   "source": [
    "PATH_RES: str = \"bd_2/\""
   ]
  },
  {
   "cell_type": "code",
   "execution_count": 120,
   "metadata": {},
   "outputs": [
    {
     "name": "stdout",
     "output_type": "stream",
     "text": [
      "Test of the model on the 63 test images\n",
      "Acurracy: 77.78 %\n",
      "F1-score: 74.38 %\n",
      "Recall: 73.38 %\n",
      "Precision: 76.77 %\n"
     ]
    },
    {
     "data": {
      "image/png": "[encoded data removed]",
      "text/plain": [
       "<Figure size 432x288 with 1 Axes>"
      ]
     },
     "metadata": {
      "needs_background": "light"
     },
     "output_type": "display_data"
    }
   ],
   "source": [
    "# test after train\n",
    "torch.manual_seed(1)\n",
    "test(model, \"alexnet confusion matrix batch_size=32 SGD epochs=30 lr=1e-4 weight_decay=0.005 momentum=0.9.png\")\n",
    "# test(model, \"alexnet confusion matrix batch_size=32 SGD epochs=100 lr=3e-4 weight_decay=0.005 momentum=0.9.png\")\n",
    "# test(model, \"alexnet confusion matrix SGD epochs=100 lr=3e-4 weight_decay=0.005 momentum=0.9.png\")\n",
    "# test(model, \"alexnet confusion matrix Adam epochs=100 lr=0.01.png\")\n",
    "# test(model, \"alexnet confusion (sin modificar classifier alexnet) matrix SGD epochs=100 lr=3e-4 weight_decay=0.005 momentum=0.9.png\")"
   ]
  },
  {
   "cell_type": "code",
   "execution_count": 121,
   "metadata": {},
   "outputs": [
    {
     "data": {
      "image/png": "[encoded data removed]",
      "text/plain": [
       "<Figure size 432x288 with 1 Axes>"
      ]
     },
     "metadata": {
      "needs_background": "light"
     },
     "output_type": "display_data"
    }
   ],
   "source": [
    "plt.plot(train_loss, label=\"train loss\")\n",
    "plt.plot(val_loss, label=\"val loss\")\n",
    "plt.ylabel(\"loss\")\n",
    "plt.xlabel(\"num epochs\")\n",
    "plt.title(\"Loss vs num epochs\")\n",
    "plt.legend()\n",
    "plt.savefig(PATH_RES+\"alexnet loss batch_size=32 SGD epochs=30 lr=1e-4 weight_decay=0.005 momentum=0.9.png\")\n",
    "# plt.savefig(PATH_RES+\"alexnet loss SGD epochs=100 lr=3e-4 weight_decay=0.005 momentum=0.9.png\")\n",
    "# plt.savefig(PATH_RES+\"alexnet loss Adam epochs=100 lr=0.01.png\")\n",
    "# plt.savefig(PATH_RES+\"alexnet loss (sin modificar classifier alexnet) SGD epochs=100 lr=3e-4 weight_decay=0.005 momentum=0.9.png\")\n",
    "# plt.show()"
   ]
  },
  {
   "cell_type": "markdown",
   "metadata": {},
   "source": [
    "## Resnet"
   ]
  },
  {
   "cell_type": "code",
   "execution_count": null,
   "metadata": {},
   "outputs": [],
   "source": [
    "resnet18 = torchvision.models.resnet18(pretrained=True)\n",
    "for e in resnet18.parameters():\n",
    "   e.requires_grad = False\n",
    "device = torch.device('cuda:0' if torch.cuda.is_available() else 'cpu')\n",
    "resnet18.fc = nn.Linear(in_features=512, out_features=len(types), bias=True)\n",
    "optimizer = optim.SGD(resnet18.parameters(), lr=1e-4, weight_decay=0.005, momentum=0.9)\n",
    "resnet18.to(device)"
   ]
  },
  {
   "cell_type": "code",
   "execution_count": 138,
   "metadata": {},
   "outputs": [
    {
     "name": "stdout",
     "output_type": "stream",
     "text": [
      "Epoch [1/50], Train Loss: 1.5138, Validation Loss 1.4566,  Accuracy: 25.0000\n",
      "Epoch [2/50], Train Loss: 1.3451, Validation Loss 1.3784,  Accuracy: 25.0000\n",
      "Epoch [3/50], Train Loss: 1.3649, Validation Loss 1.3906,  Accuracy: 34.3750\n",
      "Epoch [4/50], Train Loss: 1.5115, Validation Loss 1.4047,  Accuracy: 46.8750\n",
      "Epoch [5/50], Train Loss: 1.3747, Validation Loss 1.4052,  Accuracy: 43.7500\n",
      "Epoch [6/50], Train Loss: 1.4287, Validation Loss 1.3503,  Accuracy: 40.6250\n",
      "Epoch [7/50], Train Loss: 1.3206, Validation Loss 1.3760,  Accuracy: 43.7500\n",
      "Epoch [8/50], Train Loss: 1.3496, Validation Loss 1.3509,  Accuracy: 37.5000\n",
      "Epoch [9/50], Train Loss: 1.1566, Validation Loss 1.3303,  Accuracy: 43.7500\n",
      "Epoch [10/50], Train Loss: 1.2578, Validation Loss 1.3191,  Accuracy: 50.0000\n",
      "Epoch [11/50], Train Loss: 1.3335, Validation Loss 1.3236,  Accuracy: 50.0000\n",
      "Epoch [12/50], Train Loss: 1.2541, Validation Loss 1.2647,  Accuracy: 50.0000\n",
      "Epoch [13/50], Train Loss: 1.2573, Validation Loss 1.2925,  Accuracy: 50.0000\n",
      "Epoch [14/50], Train Loss: 1.2279, Validation Loss 1.3007,  Accuracy: 43.7500\n",
      "Epoch [15/50], Train Loss: 1.2335, Validation Loss 1.2510,  Accuracy: 46.8750\n",
      "Epoch [16/50], Train Loss: 1.0754, Validation Loss 1.2266,  Accuracy: 50.0000\n",
      "Epoch [17/50], Train Loss: 1.1489, Validation Loss 1.2469,  Accuracy: 50.0000\n",
      "Epoch [18/50], Train Loss: 1.1008, Validation Loss 1.2233,  Accuracy: 50.0000\n",
      "Epoch [19/50], Train Loss: 1.1580, Validation Loss 1.2340,  Accuracy: 46.8750\n",
      "Epoch [20/50], Train Loss: 1.1464, Validation Loss 1.2133,  Accuracy: 50.0000\n",
      "Epoch [21/50], Train Loss: 0.9459, Validation Loss 1.1961,  Accuracy: 50.0000\n",
      "Epoch [22/50], Train Loss: 1.1732, Validation Loss 1.2171,  Accuracy: 50.0000\n",
      "Epoch [23/50], Train Loss: 1.0239, Validation Loss 1.2196,  Accuracy: 46.8750\n",
      "Epoch [24/50], Train Loss: 1.1305, Validation Loss 1.1834,  Accuracy: 50.0000\n",
      "Epoch [25/50], Train Loss: 1.0578, Validation Loss 1.1746,  Accuracy: 46.8750\n",
      "Epoch [26/50], Train Loss: 1.1477, Validation Loss 1.2161,  Accuracy: 50.0000\n",
      "Epoch [27/50], Train Loss: 1.0528, Validation Loss 1.1616,  Accuracy: 50.0000\n",
      "Epoch [28/50], Train Loss: 0.9804, Validation Loss 1.1584,  Accuracy: 46.8750\n",
      "Epoch [29/50], Train Loss: 1.0036, Validation Loss 1.1748,  Accuracy: 50.0000\n",
      "Epoch [30/50], Train Loss: 1.1987, Validation Loss 1.1851,  Accuracy: 50.0000\n",
      "Epoch [31/50], Train Loss: 1.2348, Validation Loss 1.1696,  Accuracy: 50.0000\n",
      "Epoch [32/50], Train Loss: 0.9860, Validation Loss 1.1817,  Accuracy: 46.8750\n",
      "Epoch [33/50], Train Loss: 0.9717, Validation Loss 1.1360,  Accuracy: 53.1250\n",
      "Epoch [34/50], Train Loss: 0.9518, Validation Loss 1.1488,  Accuracy: 56.2500\n",
      "Epoch [35/50], Train Loss: 1.0960, Validation Loss 1.1237,  Accuracy: 56.2500\n",
      "Epoch [36/50], Train Loss: 1.0162, Validation Loss 1.1263,  Accuracy: 50.0000\n",
      "Epoch [37/50], Train Loss: 0.9293, Validation Loss 1.1225,  Accuracy: 56.2500\n",
      "Epoch [38/50], Train Loss: 0.9790, Validation Loss 1.1187,  Accuracy: 56.2500\n",
      "Epoch [39/50], Train Loss: 0.9572, Validation Loss 1.1173,  Accuracy: 56.2500\n",
      "Epoch [40/50], Train Loss: 0.9532, Validation Loss 1.1108,  Accuracy: 50.0000\n",
      "Epoch [41/50], Train Loss: 0.9802, Validation Loss 1.1546,  Accuracy: 50.0000\n",
      "Epoch [42/50], Train Loss: 0.8856, Validation Loss 1.1068,  Accuracy: 56.2500\n",
      "Epoch [43/50], Train Loss: 1.0581, Validation Loss 1.1159,  Accuracy: 50.0000\n",
      "Epoch [44/50], Train Loss: 1.0151, Validation Loss 1.0856,  Accuracy: 56.2500\n",
      "Epoch [45/50], Train Loss: 0.9509, Validation Loss 1.1101,  Accuracy: 53.1250\n",
      "Epoch [46/50], Train Loss: 0.8233, Validation Loss 1.1032,  Accuracy: 56.2500\n",
      "Epoch [47/50], Train Loss: 0.7947, Validation Loss 1.0786,  Accuracy: 56.2500\n",
      "Epoch [48/50], Train Loss: 0.8719, Validation Loss 1.0930,  Accuracy: 56.2500\n",
      "Epoch [49/50], Train Loss: 0.9834, Validation Loss 1.0444,  Accuracy: 56.2500\n",
      "Epoch [50/50], Train Loss: 0.7449, Validation Loss 1.1073,  Accuracy: 53.1250\n",
      "Finished training trainset in 86.17 seconds\n"
     ]
    }
   ],
   "source": [
    "train_loss_resnet18, val_loss_resnet18 = train(resnet18, optimizer, loss_fn, 50)"
   ]
  },
  {
   "cell_type": "code",
   "execution_count": 141,
   "metadata": {},
   "outputs": [
    {
     "data": {
      "image/png": "[encoded data removed]",
      "text/plain": [
       "<Figure size 432x288 with 1 Axes>"
      ]
     },
     "metadata": {
      "needs_background": "light"
     },
     "output_type": "display_data"
    }
   ],
   "source": [
    "plt.plot(train_loss_resnet18, label=\"train loss\")\n",
    "plt.plot(val_loss_resnet18, label=\"val loss\")\n",
    "plt.ylabel(\"loss\")\n",
    "plt.xlabel(\"num epochs\")\n",
    "plt.title(\"Loss vs num epochs\")\n",
    "plt.legend()\n",
    "# plt.show()\n",
    "plt.savefig(PATH_RES+\"resnet18 loss SGD epochs=50 lr=1e-4 weight_decay=0.005 momentum=0.9.png\")"
   ]
  },
  {
   "cell_type": "code",
   "execution_count": 142,
   "metadata": {},
   "outputs": [
    {
     "name": "stdout",
     "output_type": "stream",
     "text": [
      "Test of the model on the 63 test images\n",
      "Acurracy: 68.25 %\n",
      "F1-score: 61.59 %\n",
      "Recall: 61.52 %\n",
      "Precision: 78.01 %\n"
     ]
    },
    {
     "data": {
      "image/png": "[encoded data removed]",
      "text/plain": [
       "<Figure size 432x288 with 1 Axes>"
      ]
     },
     "metadata": {
      "needs_background": "light"
     },
     "output_type": "display_data"
    }
   ],
   "source": [
    "torch.manual_seed(1)\n",
    "test(resnet18, \"resnet18 confusion matrix SGD epochs=50 lr=1e-4 weight_decay=0.005 momentum=0.9.png\")"
   ]
  },
  {
   "cell_type": "code",
   "execution_count": null,
   "metadata": {},
   "outputs": [],
   "source": [
    "resnet34 = torchvision.models.resnet34(pretrained=True)\n",
    "for e in resnet34.parameters():\n",
    "   e.requires_grad = False\n",
    "device = torch.device('cuda:0' if torch.cuda.is_available() else 'cpu')\n",
    "resnet34.fc = nn.Linear(in_features=512, out_features=len(types), bias=True)\n",
    "optimizer = optim.SGD(resnet34.parameters(), lr=1e-4, weight_decay=0.005, momentum=0.9)\n",
    "resnet34.to(device)"
   ]
  },
  {
   "cell_type": "code",
   "execution_count": 147,
   "metadata": {},
   "outputs": [
    {
     "name": "stdout",
     "output_type": "stream",
     "text": [
      "Epoch [1/50], Train Loss: 1.4980, Validation Loss 1.4260,  Accuracy: 31.2500\n",
      "Epoch [2/50], Train Loss: 1.3990, Validation Loss 1.3517,  Accuracy: 25.0000\n",
      "Epoch [3/50], Train Loss: 1.3897, Validation Loss 1.3288,  Accuracy: 28.1250\n",
      "Epoch [4/50], Train Loss: 1.3056, Validation Loss 1.2915,  Accuracy: 40.6250\n",
      "Epoch [5/50], Train Loss: 1.2216, Validation Loss 1.3071,  Accuracy: 34.3750\n",
      "Epoch [6/50], Train Loss: 1.2748, Validation Loss 1.3086,  Accuracy: 37.5000\n",
      "Epoch [7/50], Train Loss: 1.2645, Validation Loss 1.2781,  Accuracy: 40.6250\n",
      "Epoch [8/50], Train Loss: 1.2209, Validation Loss 1.2447,  Accuracy: 40.6250\n",
      "Epoch [9/50], Train Loss: 1.1298, Validation Loss 1.2503,  Accuracy: 40.6250\n",
      "Epoch [10/50], Train Loss: 1.2933, Validation Loss 1.2006,  Accuracy: 50.0000\n",
      "Epoch [11/50], Train Loss: 1.1555, Validation Loss 1.2412,  Accuracy: 46.8750\n",
      "Epoch [12/50], Train Loss: 1.1642, Validation Loss 1.2088,  Accuracy: 50.0000\n",
      "Epoch [13/50], Train Loss: 1.1680, Validation Loss 1.1969,  Accuracy: 46.8750\n",
      "Epoch [14/50], Train Loss: 1.1273, Validation Loss 1.1983,  Accuracy: 46.8750\n",
      "Epoch [15/50], Train Loss: 1.1377, Validation Loss 1.1948,  Accuracy: 50.0000\n",
      "Epoch [16/50], Train Loss: 1.2455, Validation Loss 1.1763,  Accuracy: 56.2500\n",
      "Epoch [17/50], Train Loss: 1.1058, Validation Loss 1.1879,  Accuracy: 53.1250\n",
      "Epoch [18/50], Train Loss: 1.2415, Validation Loss 1.1946,  Accuracy: 53.1250\n",
      "Epoch [19/50], Train Loss: 1.0849, Validation Loss 1.1386,  Accuracy: 53.1250\n",
      "Epoch [20/50], Train Loss: 1.1114, Validation Loss 1.1408,  Accuracy: 56.2500\n",
      "Epoch [21/50], Train Loss: 1.2933, Validation Loss 1.1265,  Accuracy: 56.2500\n",
      "Epoch [22/50], Train Loss: 1.1536, Validation Loss 1.1776,  Accuracy: 59.3750\n",
      "Epoch [23/50], Train Loss: 1.1482, Validation Loss 1.1365,  Accuracy: 59.3750\n",
      "Epoch [24/50], Train Loss: 0.9401, Validation Loss 1.1548,  Accuracy: 59.3750\n",
      "Epoch [25/50], Train Loss: 1.1035, Validation Loss 1.1108,  Accuracy: 59.3750\n",
      "Epoch [26/50], Train Loss: 0.9729, Validation Loss 1.1245,  Accuracy: 62.5000\n",
      "Epoch [27/50], Train Loss: 1.0329, Validation Loss 1.1171,  Accuracy: 62.5000\n",
      "Epoch [28/50], Train Loss: 0.9480, Validation Loss 1.0632,  Accuracy: 62.5000\n",
      "Epoch [29/50], Train Loss: 1.0411, Validation Loss 1.1028,  Accuracy: 59.3750\n",
      "Epoch [30/50], Train Loss: 0.9660, Validation Loss 1.1270,  Accuracy: 56.2500\n",
      "Epoch [31/50], Train Loss: 0.8285, Validation Loss 1.1060,  Accuracy: 59.3750\n",
      "Epoch [32/50], Train Loss: 0.9678, Validation Loss 1.0826,  Accuracy: 59.3750\n",
      "Epoch [33/50], Train Loss: 0.9728, Validation Loss 1.0629,  Accuracy: 65.6250\n",
      "Epoch [34/50], Train Loss: 1.1002, Validation Loss 1.0663,  Accuracy: 59.3750\n",
      "Epoch [35/50], Train Loss: 1.0761, Validation Loss 1.0527,  Accuracy: 59.3750\n",
      "Epoch [36/50], Train Loss: 1.0155, Validation Loss 1.0797,  Accuracy: 56.2500\n",
      "Epoch [37/50], Train Loss: 0.8910, Validation Loss 1.0787,  Accuracy: 56.2500\n",
      "Epoch [38/50], Train Loss: 0.8870, Validation Loss 1.0771,  Accuracy: 59.3750\n",
      "Epoch [39/50], Train Loss: 0.9356, Validation Loss 1.0313,  Accuracy: 62.5000\n",
      "Epoch [40/50], Train Loss: 0.8881, Validation Loss 1.0435,  Accuracy: 56.2500\n",
      "Epoch [41/50], Train Loss: 0.8795, Validation Loss 1.0194,  Accuracy: 62.5000\n",
      "Epoch [42/50], Train Loss: 0.8199, Validation Loss 1.0191,  Accuracy: 56.2500\n",
      "Epoch [43/50], Train Loss: 0.8592, Validation Loss 1.0284,  Accuracy: 59.3750\n",
      "Epoch [44/50], Train Loss: 1.0513, Validation Loss 1.0033,  Accuracy: 62.5000\n",
      "Epoch [45/50], Train Loss: 0.9643, Validation Loss 1.0065,  Accuracy: 62.5000\n",
      "Epoch [46/50], Train Loss: 0.9625, Validation Loss 1.0129,  Accuracy: 59.3750\n",
      "Epoch [47/50], Train Loss: 0.8564, Validation Loss 1.0060,  Accuracy: 59.3750\n",
      "Epoch [48/50], Train Loss: 0.9250, Validation Loss 1.0243,  Accuracy: 62.5000\n",
      "Epoch [49/50], Train Loss: 0.8730, Validation Loss 0.9934,  Accuracy: 59.3750\n",
      "Epoch [50/50], Train Loss: 0.9046, Validation Loss 0.9751,  Accuracy: 59.3750\n",
      "Finished training trainset in 94.72 seconds\n"
     ]
    }
   ],
   "source": [
    "train_loss_resnet34, val_loss_resnet34 = train(resnet34, optimizer, loss_fn, 50)"
   ]
  },
  {
   "cell_type": "code",
   "execution_count": 150,
   "metadata": {},
   "outputs": [
    {
     "data": {
      "image/png": "[encoded data removed]",
      "text/plain": [
       "<Figure size 432x288 with 1 Axes>"
      ]
     },
     "metadata": {
      "needs_background": "light"
     },
     "output_type": "display_data"
    }
   ],
   "source": [
    "plt.plot(train_loss_resnet34, label=\"train loss\")\n",
    "plt.plot(val_loss_resnet34, label=\"val loss\")\n",
    "plt.ylabel(\"loss\")\n",
    "plt.xlabel(\"num epochs\")\n",
    "plt.title(\"Loss vs num epochs\")\n",
    "plt.legend()\n",
    "plt.savefig(PATH_RES+\"resnet34 loss SGD epochs=100 lr=1e-4 weight_decay=0.005 momentum=0.9.png\")"
   ]
  },
  {
   "cell_type": "code",
   "execution_count": 149,
   "metadata": {},
   "outputs": [
    {
     "name": "stdout",
     "output_type": "stream",
     "text": [
      "Test of the model on the 63 test images\n",
      "Acurracy: 61.90 %\n",
      "F1-score: 53.50 %\n",
      "Recall: 54.98 %\n",
      "Precision: 65.04 %\n"
     ]
    },
    {
     "data": {
      "image/png": "[encoded data removed]",
      "text/plain": [
       "<Figure size 432x288 with 1 Axes>"
      ]
     },
     "metadata": {
      "needs_background": "light"
     },
     "output_type": "display_data"
    }
   ],
   "source": [
    "torch.manual_seed(1)\n",
    "test(resnet34, \"resnet34 confusion matrix SGD epochs=50 lr=1e-4 weight_decay=0.005 momentum=0.9.png\")"
   ]
  },
  {
   "cell_type": "markdown",
   "metadata": {},
   "source": [
    "## VGG"
   ]
  },
  {
   "cell_type": "code",
   "execution_count": null,
   "metadata": {},
   "outputs": [],
   "source": [
    "vgg13 = torchvision.models.vgg13(pretrained=True)\n",
    "for e in vgg13.parameters():\n",
    "   e.requires_grad = False\n",
    "device = torch.device('cuda:0' if torch.cuda.is_available() else 'cpu')\n",
    "vgg13.classifier[3] = nn.Linear(in_features=4096, out_features=1024, bias=True)\n",
    "vgg13.classifier[6] = nn.Linear(in_features=1024, out_features=len(types), bias=True)\n",
    "optimizer = optim.SGD(vgg13.parameters(), lr=1e-4, weight_decay=0.005, momentum=0.9)\n",
    "vgg13.to(device)"
   ]
  },
  {
   "cell_type": "code",
   "execution_count": 160,
   "metadata": {},
   "outputs": [
    {
     "name": "stdout",
     "output_type": "stream",
     "text": [
      "Epoch [1/50], Train Loss: 1.3401, Validation Loss 1.3529,  Accuracy: 40.6250\n",
      "Epoch [2/50], Train Loss: 1.3119, Validation Loss 1.3279,  Accuracy: 34.3750\n",
      "Epoch [3/50], Train Loss: 1.3713, Validation Loss 1.2995,  Accuracy: 37.5000\n",
      "Epoch [4/50], Train Loss: 1.2641, Validation Loss 1.3041,  Accuracy: 34.3750\n",
      "Epoch [5/50], Train Loss: 1.1997, Validation Loss 1.2986,  Accuracy: 37.5000\n",
      "Epoch [6/50], Train Loss: 1.2415, Validation Loss 1.2793,  Accuracy: 40.6250\n",
      "Epoch [7/50], Train Loss: 1.3038, Validation Loss 1.2874,  Accuracy: 40.6250\n",
      "Epoch [8/50], Train Loss: 1.3134, Validation Loss 1.2595,  Accuracy: 40.6250\n",
      "Epoch [9/50], Train Loss: 1.2546, Validation Loss 1.2707,  Accuracy: 43.7500\n",
      "Epoch [10/50], Train Loss: 1.1880, Validation Loss 1.2524,  Accuracy: 46.8750\n",
      "Epoch [11/50], Train Loss: 1.2137, Validation Loss 1.2568,  Accuracy: 46.8750\n",
      "Epoch [12/50], Train Loss: 1.1386, Validation Loss 1.2417,  Accuracy: 43.7500\n",
      "Epoch [13/50], Train Loss: 1.1126, Validation Loss 1.2431,  Accuracy: 43.7500\n",
      "Epoch [14/50], Train Loss: 1.1593, Validation Loss 1.2368,  Accuracy: 43.7500\n",
      "Epoch [15/50], Train Loss: 1.0614, Validation Loss 1.2303,  Accuracy: 43.7500\n",
      "Epoch [16/50], Train Loss: 1.1019, Validation Loss 1.2110,  Accuracy: 43.7500\n",
      "Epoch [17/50], Train Loss: 1.2335, Validation Loss 1.2109,  Accuracy: 43.7500\n",
      "Epoch [18/50], Train Loss: 1.1390, Validation Loss 1.2061,  Accuracy: 50.0000\n",
      "Epoch [19/50], Train Loss: 1.1794, Validation Loss 1.1945,  Accuracy: 53.1250\n",
      "Epoch [20/50], Train Loss: 1.1671, Validation Loss 1.1916,  Accuracy: 46.8750\n",
      "Epoch [21/50], Train Loss: 1.1346, Validation Loss 1.1800,  Accuracy: 46.8750\n",
      "Epoch [22/50], Train Loss: 1.0857, Validation Loss 1.1831,  Accuracy: 53.1250\n",
      "Epoch [23/50], Train Loss: 1.1652, Validation Loss 1.1811,  Accuracy: 50.0000\n",
      "Epoch [24/50], Train Loss: 0.9312, Validation Loss 1.1715,  Accuracy: 53.1250\n",
      "Epoch [25/50], Train Loss: 1.1571, Validation Loss 1.1708,  Accuracy: 50.0000\n",
      "Epoch [26/50], Train Loss: 1.0333, Validation Loss 1.1617,  Accuracy: 56.2500\n",
      "Epoch [27/50], Train Loss: 0.9678, Validation Loss 1.1593,  Accuracy: 56.2500\n",
      "Epoch [28/50], Train Loss: 1.0143, Validation Loss 1.1616,  Accuracy: 46.8750\n",
      "Epoch [29/50], Train Loss: 1.0377, Validation Loss 1.1345,  Accuracy: 53.1250\n",
      "Epoch [30/50], Train Loss: 0.9805, Validation Loss 1.1498,  Accuracy: 53.1250\n",
      "Epoch [31/50], Train Loss: 1.1169, Validation Loss 1.1320,  Accuracy: 53.1250\n",
      "Epoch [32/50], Train Loss: 0.8361, Validation Loss 1.1445,  Accuracy: 46.8750\n",
      "Epoch [33/50], Train Loss: 0.9097, Validation Loss 1.1296,  Accuracy: 50.0000\n",
      "Epoch [34/50], Train Loss: 1.0263, Validation Loss 1.1171,  Accuracy: 56.2500\n",
      "Epoch [35/50], Train Loss: 1.0266, Validation Loss 1.1271,  Accuracy: 50.0000\n",
      "Epoch [36/50], Train Loss: 1.1337, Validation Loss 1.1108,  Accuracy: 53.1250\n",
      "Epoch [37/50], Train Loss: 0.9329, Validation Loss 1.1109,  Accuracy: 56.2500\n",
      "Epoch [38/50], Train Loss: 0.9978, Validation Loss 1.1262,  Accuracy: 50.0000\n",
      "Epoch [39/50], Train Loss: 0.9414, Validation Loss 1.0883,  Accuracy: 56.2500\n",
      "Epoch [40/50], Train Loss: 0.9454, Validation Loss 1.1118,  Accuracy: 50.0000\n",
      "Epoch [41/50], Train Loss: 1.0348, Validation Loss 1.1027,  Accuracy: 50.0000\n",
      "Epoch [42/50], Train Loss: 0.8245, Validation Loss 1.0985,  Accuracy: 56.2500\n",
      "Epoch [43/50], Train Loss: 1.0218, Validation Loss 1.0830,  Accuracy: 56.2500\n",
      "Epoch [44/50], Train Loss: 0.8285, Validation Loss 1.0808,  Accuracy: 59.3750\n",
      "Epoch [45/50], Train Loss: 0.9193, Validation Loss 1.0706,  Accuracy: 56.2500\n",
      "Epoch [46/50], Train Loss: 1.0020, Validation Loss 1.0816,  Accuracy: 56.2500\n",
      "Epoch [47/50], Train Loss: 0.8971, Validation Loss 1.0695,  Accuracy: 62.5000\n",
      "Epoch [48/50], Train Loss: 0.9300, Validation Loss 1.1041,  Accuracy: 50.0000\n",
      "Epoch [49/50], Train Loss: 0.8795, Validation Loss 1.0801,  Accuracy: 53.1250\n",
      "Epoch [50/50], Train Loss: 0.9338, Validation Loss 1.0495,  Accuracy: 62.5000\n",
      "Finished training trainset in 113.0 seconds\n"
     ]
    }
   ],
   "source": [
    "train_loss_vgg13, val_loss_vgg13 = train(vgg13, optimizer, loss_fn, 50)"
   ]
  },
  {
   "cell_type": "code",
   "execution_count": null,
   "metadata": {},
   "outputs": [],
   "source": [
    "# test after train\n",
    "torch.manual_seed(1)\n",
    "test(vgg13, \"vgg13 confusion matrix SGD epochs=50 lr=1e-4 weight_decay=0.005 momentum=0.9.png\")"
   ]
  },
  {
   "cell_type": "code",
   "execution_count": 169,
   "metadata": {},
   "outputs": [
    {
     "data": {
      "image/png": "[encoded data removed]",
      "text/plain": [
       "<Figure size 432x288 with 1 Axes>"
      ]
     },
     "metadata": {
      "needs_background": "light"
     },
     "output_type": "display_data"
    }
   ],
   "source": [
    "plt.plot(train_loss_vgg13, label=\"train loss\")\n",
    "plt.plot(val_loss_vgg13, label=\"val loss\")\n",
    "plt.ylabel(\"loss\")\n",
    "plt.xlabel(\"num epochs\")\n",
    "plt.title(\"Loss vs num epochs\")\n",
    "plt.legend()\n",
    "plt.savefig(PATH_RES+\"vgg13 loss SGD epochs=50 lr=1e-4 weight_decay=0.005 momentum=0.9.png\")\n",
    "# plt.show()"
   ]
  }
 ],
 "metadata": {
  "deepnote": {},
  "deepnote_execution_queue": [],
  "deepnote_notebook_id": "9899d9c7-2c90-4677-8138-4c8c81fa9231",
  "kernelspec": {
   "display_name": "Python 3.10.2 64-bit",
   "language": "python",
   "name": "python3"
  },
  "language_info": {
   "codemirror_mode": {
    "name": "ipython",
    "version": 3
   },
   "file_extension": ".py",
   "mimetype": "text/x-python",
   "name": "python",
   "nbconvert_exporter": "python",
   "pygments_lexer": "ipython3",
   "version": "3.10.2"
  },
  "orig_nbformat": 2,
  "vscode": {
   "interpreter": {
    "hash": "341268af697f69dd1ffdcdac7af840419ecb88f390bc16e46c3586102df69d04"
   }
  }
 },
 "nbformat": 4,
 "nbformat_minor": 2
}
