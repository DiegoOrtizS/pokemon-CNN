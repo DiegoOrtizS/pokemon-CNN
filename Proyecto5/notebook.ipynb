{
 "cells": [
  {
   "cell_type": "markdown",
   "metadata": {
    "cell_id": "4ae14676daf9464d8ce41c00f7067385",
    "deepnote_cell_height": 82,
    "deepnote_cell_type": "markdown",
    "tags": []
   },
   "source": [
    "# Librerías"
   ]
  },
  {
   "cell_type": "code",
   "execution_count": 31,
   "metadata": {
    "cell_id": "dca0b91c68df4f6ba8f4ae66fd2d4638",
    "deepnote_cell_height": 495,
    "deepnote_cell_type": "code",
    "deepnote_to_be_reexecuted": false,
    "execution_millis": 6,
    "execution_start": 1656113514131,
    "source_hash": "c29ad971",
    "tags": []
   },
   "outputs": [],
   "source": [
    "import torch\n",
    "import torch.nn as nn\n",
    "import torch.optim as optim\n",
    "import torchvision\n",
    "import torchvision.transforms as transform\n",
    "import torch.nn.functional as F\n",
    "import seaborn as sns\n",
    "\n",
    "import matplotlib.pyplot as plt\n",
    "import numpy as np\n",
    "import math\n",
    "import pandas as pd\n",
    "import sys\n",
    "import json\n",
    "import os\n",
    "import random\n",
    "import time\n",
    "\n",
    "from urllib.request import Request, urlopen, urlretrieve\n",
    "from typing import List\n",
    "from pprint import pprint\n",
    "from PIL import Image\n",
    "from typing_extensions import Required\n",
    "from torchvision import transforms\n",
    "from sklearn.model_selection import train_test_split\n",
    "from torch.utils.data import TensorDataset, DataLoader, Dataset\n",
    "from torch.utils.data.dataset import random_split\n",
    "from sklearn import preprocessing\n",
    "from sklearn.metrics import confusion_matrix\n",
    "from svglib.svglib import svg2rlg\n",
    "from reportlab.graphics import renderPM"
   ]
  },
  {
   "cell_type": "markdown",
   "metadata": {
    "cell_id": "c371cb3d7f6048e1a5dfe620c157b225",
    "deepnote_cell_height": 134,
    "deepnote_cell_type": "markdown",
    "tags": []
   },
   "source": [
    "# Extracción de datos con web scrapping\n"
   ]
  },
  {
   "cell_type": "code",
   "execution_count": 2,
   "metadata": {
    "cell_id": "81c208ada4864ecc85c464e87885a67d",
    "deepnote_cell_height": 99,
    "deepnote_cell_type": "code",
    "deepnote_to_be_reexecuted": false,
    "execution_millis": 5,
    "execution_start": 1656112784191,
    "source_hash": "f913a6e2",
    "tags": []
   },
   "outputs": [],
   "source": [
    "# son 905, pero los últimos no tienen data\n",
    "max_pokemon: int = 898"
   ]
  },
  {
   "cell_type": "code",
   "execution_count": 3,
   "metadata": {},
   "outputs": [],
   "source": [
    "types = [\"grass\", \"fire\", \"water\", \"electric\"]"
   ]
  },
  {
   "cell_type": "code",
   "execution_count": 4,
   "metadata": {
    "cell_id": "1faf299810584c6a8b5973511feceff5",
    "deepnote_cell_height": 117,
    "deepnote_cell_type": "code",
    "deepnote_to_be_reexecuted": false,
    "execution_millis": 2,
    "execution_start": 1656112784205,
    "source_hash": "5c166d96",
    "tags": []
   },
   "outputs": [],
   "source": [
    "dir1: str = \"official-artwork\"\n",
    "if os.path.exists(dir1) == False:\n",
    "    os.mkdir(dir1)"
   ]
  },
  {
   "cell_type": "code",
   "execution_count": 5,
   "metadata": {},
   "outputs": [],
   "source": [
    "dir2: str = \"all\"\n",
    "if os.path.exists(dir2) == False:\n",
    "    os.mkdir(dir2)"
   ]
  },
  {
   "cell_type": "code",
   "execution_count": 6,
   "metadata": {
    "cell_id": "409ad1cd53bd41938e258722df74999e",
    "deepnote_cell_height": 333,
    "deepnote_cell_type": "code",
    "deepnote_to_be_reexecuted": false,
    "execution_millis": 38558,
    "execution_start": 1656112784214,
    "source_hash": "3b6ed317",
    "tags": []
   },
   "outputs": [
    {
     "data": {
      "text/plain": [
       "' \\nSOLO PARA DESCARGAR DATOS\\n'"
      ]
     },
     "execution_count": 6,
     "metadata": {},
     "output_type": "execute_result"
    }
   ],
   "source": [
    "\"\"\" \n",
    "SOLO PARA DESCARGAR DATOS\n",
    "\"\"\"\n",
    "# for pokemon_id in range(max_pokemon):\n",
    "#     req: Request = Request(\"https://pokeapi.co/api/v2/pokemon/\"+str(pokemon_id+1), \n",
    "#                     headers={'User-Agent': 'Mozilla/5.0'})\n",
    "#     webpage: bytes = urlopen(req).read()\n",
    "#     json_obj: dict = json.loads(webpage)\n",
    "#     img_url: str = json_obj[\"sprites\"][\"other\"][\"official-artwork\"][\"front_default\"]\n",
    "    \n",
    "#     name: str = json_obj[\"species\"][\"name\"]\n",
    "#     type: str = json_obj[\"types\"][0][\"type\"][\"name\"]\n",
    "\n",
    "#     if os.path.exists(dir1+\"/\"+type) == False:\n",
    "#         os.mkdir(dir1+\"/\"+type)\n",
    "    \n",
    "#     img: str = img_url.split(\"/\")[-1]\n",
    "#     urlretrieve(img_url, dir1+\"/\"+type+\"/\"+name+\".png\")"
   ]
  },
  {
   "cell_type": "code",
   "execution_count": 7,
   "metadata": {},
   "outputs": [],
   "source": [
    "imgs_category: list = [\"official-artwork\", \"home\", \"dream_world\"]"
   ]
  },
  {
   "cell_type": "code",
   "execution_count": 8,
   "metadata": {},
   "outputs": [],
   "source": [
    "for type in types:\n",
    "    if os.path.exists(dir2+\"/\"+type) == False:\n",
    "        os.mkdir(dir2+\"/\"+type)\n",
    "    # if os.path.exists(\"svg/\"+type) == False:\n",
    "    #     os.mkdir(\"svg/\"+type)"
   ]
  },
  {
   "cell_type": "code",
   "execution_count": 9,
   "metadata": {},
   "outputs": [
    {
     "data": {
      "text/plain": [
       "' \\nSOLO PARA DESCARGAR DATOS\\n'"
      ]
     },
     "execution_count": 9,
     "metadata": {},
     "output_type": "execute_result"
    }
   ],
   "source": [
    "\"\"\" \n",
    "SOLO PARA DESCARGAR DATOS\n",
    "\"\"\"\n",
    "# for pokemon_id in range(max_pokemon):\n",
    "#     print(pokemon_id+1)\n",
    "#     req: Request = Request(\"https://pokeapi.co/api/v2/pokemon/\"+str(pokemon_id+1), \n",
    "#                     headers={'User-Agent': 'Mozilla/5.0'})\n",
    "#     webpage: bytes = urlopen(req).read()\n",
    "#     json_obj: dict = json.loads(webpage)\n",
    "#     type: str = json_obj[\"types\"][0][\"type\"][\"name\"]\n",
    "#     if type not in types:\n",
    "#         continue\n",
    "#     name: str = json_obj[\"species\"][\"name\"]\n",
    "\n",
    "#     for img_category in imgs_category:\n",
    "#         img_url: str = json_obj[\"sprites\"][\"other\"][img_category][\"front_default\"]\n",
    "#         if img_url == None:\n",
    "#             continue\n",
    "#         save_route: str = \"/\"+type+\"/\"+name+\"_\"+img_category+\".\"\n",
    "#         format: str = img_url[-3:]\n",
    "#         if format == \"svg\":\n",
    "#             urlretrieve(img_url, \"svg\"+save_route+format)\n",
    "#             drawing = svg2rlg(\"svg\"+save_route+format)\n",
    "#             renderPM.drawToFile(drawing, dir2+save_route+\"png\", fmt=\"PNG\")\n",
    "#         else:\n",
    "#             urlretrieve(img_url, dir2+save_route+format)"
   ]
  },
  {
   "cell_type": "code",
   "execution_count": 10,
   "metadata": {},
   "outputs": [
    {
     "name": "stdout",
     "output_type": "stream",
     "text": [
      "grass 86\n",
      "fire 58\n",
      "water 123\n",
      "electric 49\n",
      "['grass', 'fire', 'water', 'electric']\n"
     ]
    }
   ],
   "source": [
    "# Distribución de los datos\n",
    "for type in types:\n",
    "    print(type, len(os.listdir(dir1+\"/\"+type)))\n",
    "# types.remove(\"flying\")\n",
    "print(types)\n"
   ]
  },
  {
   "cell_type": "code",
   "execution_count": 11,
   "metadata": {},
   "outputs": [
    {
     "name": "stdout",
     "output_type": "stream",
     "text": [
      "grass 233\n",
      "fire 155\n",
      "water 346\n",
      "electric 131\n",
      "865\n"
     ]
    }
   ],
   "source": [
    "# Distribución de los datos\n",
    "sum: int = 0\n",
    "for type in types:\n",
    "    freq: int = len(os.listdir(dir2+\"/\"+type))\n",
    "    sum += freq\n",
    "    print(type, freq)\n",
    "# types.remove(\"flying\")\n",
    "print(sum)"
   ]
  },
  {
   "cell_type": "markdown",
   "metadata": {
    "cell_id": "896da40b711a4f8888ab27620132e8d7",
    "deepnote_cell_height": 82,
    "deepnote_cell_type": "markdown",
    "tags": []
   },
   "source": [
    "# CNN"
   ]
  },
  {
   "cell_type": "markdown",
   "metadata": {
    "cell_id": "5c307bb8ebb544d2bc70ddd752aba283",
    "deepnote_cell_height": 70,
    "deepnote_cell_type": "markdown",
    "tags": []
   },
   "source": [
    "## Alexnet"
   ]
  },
  {
   "cell_type": "code",
   "execution_count": 12,
   "metadata": {
    "cell_id": "c159bd33463a49e687f206ca20f7e0ae",
    "deepnote_cell_height": 538.203125,
    "deepnote_cell_type": "code",
    "deepnote_to_be_reexecuted": false,
    "execution_millis": 728,
    "execution_start": 1656112822774,
    "owner_user_id": "32a19c20-c19c-4be0-b488-d37ed4f5b741",
    "source_hash": "7195c826",
    "tags": []
   },
   "outputs": [
    {
     "name": "stderr",
     "output_type": "stream",
     "text": [
      "c:\\Users\\Diego\\AppData\\Local\\Programs\\Python\\Python310\\lib\\site-packages\\torchvision\\models\\_utils.py:208: UserWarning: The parameter 'pretrained' is deprecated since 0.13 and will be removed in 0.15, please use 'weights' instead.\n",
      "  warnings.warn(\n",
      "c:\\Users\\Diego\\AppData\\Local\\Programs\\Python\\Python310\\lib\\site-packages\\torchvision\\models\\_utils.py:223: UserWarning: Arguments other than a weight enum or `None` for 'weights' are deprecated since 0.13 and will be removed in 0.15. The current behavior is equivalent to passing `weights=AlexNet_Weights.IMAGENET1K_V1`. You can also use `weights=AlexNet_Weights.DEFAULT` to get the most up-to-date weights.\n",
      "  warnings.warn(msg)\n"
     ]
    },
    {
     "name": "stdout",
     "output_type": "stream",
     "text": [
      "AlexNet(\n",
      "  (features): Sequential(\n",
      "    (0): Conv2d(3, 64, kernel_size=(11, 11), stride=(4, 4), padding=(2, 2))\n",
      "    (1): ReLU(inplace=True)\n",
      "    (2): MaxPool2d(kernel_size=3, stride=2, padding=0, dilation=1, ceil_mode=False)\n",
      "    (3): Conv2d(64, 192, kernel_size=(5, 5), stride=(1, 1), padding=(2, 2))\n",
      "    (4): ReLU(inplace=True)\n",
      "    (5): MaxPool2d(kernel_size=3, stride=2, padding=0, dilation=1, ceil_mode=False)\n",
      "    (6): Conv2d(192, 384, kernel_size=(3, 3), stride=(1, 1), padding=(1, 1))\n",
      "    (7): ReLU(inplace=True)\n",
      "    (8): Conv2d(384, 256, kernel_size=(3, 3), stride=(1, 1), padding=(1, 1))\n",
      "    (9): ReLU(inplace=True)\n",
      "    (10): Conv2d(256, 256, kernel_size=(3, 3), stride=(1, 1), padding=(1, 1))\n",
      "    (11): ReLU(inplace=True)\n",
      "    (12): MaxPool2d(kernel_size=3, stride=2, padding=0, dilation=1, ceil_mode=False)\n",
      "  )\n",
      "  (avgpool): AdaptiveAvgPool2d(output_size=(6, 6))\n",
      "  (classifier): Sequential(\n",
      "    (0): Dropout(p=0.5, inplace=False)\n",
      "    (1): Linear(in_features=9216, out_features=4096, bias=True)\n",
      "    (2): ReLU(inplace=True)\n",
      "    (3): Dropout(p=0.5, inplace=False)\n",
      "    (4): Linear(in_features=4096, out_features=1024, bias=True)\n",
      "    (5): ReLU(inplace=True)\n",
      "    (6): Linear(in_features=1024, out_features=4, bias=True)\n",
      "  )\n",
      ")\n"
     ]
    }
   ],
   "source": [
    "model = torchvision.models.alexnet(pretrained=True)\n",
    "for e  in model.parameters():\n",
    "   e.requires_grad = False\n",
    "model.classifier[4] = nn.Linear(4096, 1024)\n",
    "model.classifier[6] = nn.Linear(1024, len(types))\n",
    "device = torch.device('cuda:0' if torch.cuda.is_available() else 'cpu')\n",
    "model.to(device)\n",
    "print(model)"
   ]
  },
  {
   "cell_type": "code",
   "execution_count": 13,
   "metadata": {},
   "outputs": [],
   "source": [
    "x: List[str] = []\n",
    "y: List[str] = []\n",
    "for type in types:\n",
    "    pokemon_imgs: List[str] = os.listdir(dir2+\"/\"+type)\n",
    "    for pokemon_img in pokemon_imgs:\n",
    "        x.append(dir2+\"/\"+type+\"/\"+pokemon_img)\n",
    "        y.append(type)"
   ]
  },
  {
   "cell_type": "code",
   "execution_count": 14,
   "metadata": {},
   "outputs": [],
   "source": [
    "class MyDataset(Dataset):\n",
    "      def __init__(self, list_IDs, labels):\n",
    "            self.labels = labels\n",
    "            self.list_IDs = list_IDs\n",
    "\n",
    "      def __len__(self):\n",
    "            return len(self.list_IDs)\n",
    "\n",
    "      def __getitem__(self, index):\n",
    "            # Select sample\n",
    "            ID = self.list_IDs[index]\n",
    "\n",
    "            # Load data and get label\n",
    "            input_image = Image.open(ID)\n",
    "            input_image = input_image.convert('RGB')\n",
    "            preprocess = transforms.Compose([\n",
    "                  transforms.Resize(256),\n",
    "                  transforms.CenterCrop(224),\n",
    "                  transforms.RandomHorizontalFlip(),\n",
    "                  transforms.ToTensor()\n",
    "            ])\n",
    "            X = preprocess(input_image)\n",
    "            y = self.labels[index]\n",
    "            return X, y"
   ]
  },
  {
   "cell_type": "code",
   "execution_count": 15,
   "metadata": {},
   "outputs": [],
   "source": [
    "le = preprocessing.LabelEncoder()\n",
    "tensor_y = le.fit_transform(y)\n",
    "tensor_y = torch.as_tensor(tensor_y)\n",
    "dataset = MyDataset(x, tensor_y)\n"
   ]
  },
  {
   "cell_type": "code",
   "execution_count": 16,
   "metadata": {},
   "outputs": [],
   "source": [
    "data_train, data_val, data_test = random_split(dataset=dataset, lengths=[605, 87, 173])"
   ]
  },
  {
   "cell_type": "code",
   "execution_count": 17,
   "metadata": {},
   "outputs": [],
   "source": [
    "batch_size = 64\n",
    "train_loader = DataLoader(dataset=data_train, batch_size=batch_size, shuffle=True)\n",
    "val_loader = DataLoader(dataset=data_val, batch_size=batch_size, shuffle=False)\n",
    "test_loader = DataLoader(dataset=data_test, batch_size=batch_size, shuffle=False)"
   ]
  },
  {
   "cell_type": "code",
   "execution_count": 18,
   "metadata": {
    "cell_id": "36701edd37294ababa555381dad795f7",
    "deepnote_cell_height": 99,
    "deepnote_cell_type": "code",
    "deepnote_to_be_reexecuted": false,
    "execution_millis": 3,
    "execution_start": 1656113535112,
    "source_hash": "fc1d418",
    "tags": []
   },
   "outputs": [],
   "source": [
    "loss_fn = nn.CrossEntropyLoss()\n",
    "# optimizer = optim.Adam(model.parameters(), lr=0.01)\n",
    "optimizer = optim.SGD(model.parameters(), lr=3e-4, weight_decay=0.005, momentum=0.9)\n",
    "# optimizer = optim.SGD(model.parameters(), lr=0.005)\n",
    "total_step = len(train_loader)\n",
    "num_epochs = 100"
   ]
  },
  {
   "cell_type": "code",
   "execution_count": 19,
   "metadata": {},
   "outputs": [],
   "source": [
    "from PIL import ImageFile\n",
    "ImageFile.LOAD_TRUNCATED_IMAGES = True"
   ]
  },
  {
   "cell_type": "code",
   "execution_count": 20,
   "metadata": {},
   "outputs": [],
   "source": [
    "def train(model, optimizer, loss_fn, num_epochs) -> List[float]:\n",
    "  # train the model\n",
    "  total_step: int = len(train_loader)\n",
    "  print(total_step)\n",
    "\n",
    "  list_train_loss: List[float] = []\n",
    "  list_val_loss: List[float] = []\n",
    "\n",
    "  beg = time.time()\n",
    "  for epoch in range(num_epochs):\n",
    "    for i, (images, labels) in enumerate(train_loader):\n",
    "      images = images.to(device)\n",
    "      labels = labels.to(device)\n",
    "      # forward \n",
    "      output = model(images)\n",
    "      loss   = loss_fn(output, labels)\n",
    "      # change the params\n",
    "      optimizer.zero_grad()\n",
    "      loss.backward()\n",
    "      optimizer.step()\n",
    "    \n",
    "    train_loss: float = loss.item()\n",
    "    list_train_loss.append(train_loss)\n",
    "    with torch.no_grad():\n",
    "        model.eval()\n",
    "        for images, labels in val_loader:\n",
    "          correct = 0\n",
    "          total = 0\n",
    "          for images, labels in val_loader:\n",
    "              images = images.to(device)\n",
    "              labels = labels.to(device)\n",
    "              outputs = model(images)\n",
    "              loss = loss_fn(outputs, labels)\n",
    "              _, predicted = torch.max(outputs.data, 1)\n",
    "              total += labels.size(0)\n",
    "              correct += (predicted == labels).sum().item()\n",
    "              del images, labels, outputs\n",
    "\n",
    "        val_loss: float = loss.detach().cpu()\n",
    "        list_val_loss.append(val_loss)\n",
    "        print ('Epoch [{}/{}], Train Loss: {:.4f}, Validation Loss {:.4f},  Accuracy: {:.4f}'\n",
    "              .format(epoch+1, num_epochs, train_loss, val_loss, 100*correct/total))\n",
    "  end = time.time()\n",
    "  print('Finished training trainset in {} seconds'.format(round(end-beg, 2)))\n",
    "\n",
    "  return list_train_loss, list_val_loss"
   ]
  },
  {
   "cell_type": "code",
   "execution_count": 65,
   "metadata": {},
   "outputs": [],
   "source": [
    "def test(model, save_name: str = \"\"):\n",
    "    with torch.no_grad():\n",
    "        correct: int = 0\n",
    "        total: int = 0\n",
    "        all_predicted: list = []\n",
    "        all_labels: list = []\n",
    "        for images, labels in test_loader:\n",
    "            images = images.to(device)\n",
    "            labels = labels.to(device)\n",
    "            outputs = model(images)\n",
    "            _, predicted = torch.max(outputs.data, 1)\n",
    "            total += labels.size(0)\n",
    "            correct += (predicted == labels).sum().item()\n",
    "            all_predicted.extend((predicted).tolist())\n",
    "            all_labels.extend((labels).tolist())\n",
    "        accuracy: float = 100*correct/total\n",
    "        val = (np.unique(le.inverse_transform(all_predicted)))\n",
    "        matrix = confusion_matrix(all_labels, all_predicted)\n",
    "        df = pd.DataFrame(matrix, index=val, columns=val)\n",
    "        sns.heatmap(df, annot=True, cbar=None, cmap=\"Greens\")\n",
    "        plt.title(\"Confusion Matrix\"), plt.tight_layout()\n",
    "        plt.xlabel(\"Predicted\")\n",
    "        plt.ylabel(\"Real\")\n",
    "        if save_name == \"\":\n",
    "            plt.show()\n",
    "        else:\n",
    "            plt.savefig(PATH_RES+save_name)\n",
    "        print('Test accuracy of the model on the {} test images: {} %'.format(len(data_test), round(accuracy, 2)))\n"
   ]
  },
  {
   "cell_type": "code",
   "execution_count": 22,
   "metadata": {},
   "outputs": [
    {
     "data": {
      "image/png": "[encoded data removed]",
      "text/plain": [
       "<Figure size 432x288 with 1 Axes>"
      ]
     },
     "metadata": {
      "needs_background": "light"
     },
     "output_type": "display_data"
    },
    {
     "name": "stdout",
     "output_type": "stream",
     "text": [
      "Test accuracy of the model on the 173 test images: 22.54 %\n"
     ]
    }
   ],
   "source": [
    "# test before train\n",
    "test(model)"
   ]
  },
  {
   "cell_type": "code",
   "execution_count": 23,
   "metadata": {},
   "outputs": [
    {
     "name": "stdout",
     "output_type": "stream",
     "text": [
      "10\n",
      "Epoch [1/100], Train Loss: 1.3295, Validation Loss 1.4603,  Accuracy: 41.3793\n",
      "Epoch [2/100], Train Loss: 1.2125, Validation Loss 1.2193,  Accuracy: 55.1724\n",
      "Epoch [3/100], Train Loss: 0.9628, Validation Loss 1.0864,  Accuracy: 62.0690\n",
      "Epoch [4/100], Train Loss: 0.8931, Validation Loss 0.9538,  Accuracy: 70.1149\n",
      "Epoch [5/100], Train Loss: 0.8851, Validation Loss 0.8930,  Accuracy: 71.2644\n",
      "Epoch [6/100], Train Loss: 0.7702, Validation Loss 0.8384,  Accuracy: 71.2644\n",
      "Epoch [7/100], Train Loss: 0.7719, Validation Loss 0.7573,  Accuracy: 74.7126\n",
      "Epoch [8/100], Train Loss: 0.6952, Validation Loss 0.7201,  Accuracy: 74.7126\n",
      "Epoch [9/100], Train Loss: 0.7925, Validation Loss 0.6673,  Accuracy: 77.0115\n",
      "Epoch [10/100], Train Loss: 0.6173, Validation Loss 0.6598,  Accuracy: 73.5632\n",
      "Epoch [11/100], Train Loss: 0.5667, Validation Loss 0.5990,  Accuracy: 78.1609\n",
      "Epoch [12/100], Train Loss: 0.5842, Validation Loss 0.5813,  Accuracy: 79.3103\n",
      "Epoch [13/100], Train Loss: 0.5378, Validation Loss 0.6178,  Accuracy: 75.8621\n",
      "Epoch [14/100], Train Loss: 0.5429, Validation Loss 0.5546,  Accuracy: 75.8621\n",
      "Epoch [15/100], Train Loss: 0.3766, Validation Loss 0.5577,  Accuracy: 75.8621\n",
      "Epoch [16/100], Train Loss: 0.4611, Validation Loss 0.5025,  Accuracy: 75.8621\n",
      "Epoch [17/100], Train Loss: 0.5255, Validation Loss 0.5088,  Accuracy: 79.3103\n",
      "Epoch [18/100], Train Loss: 0.5455, Validation Loss 0.5164,  Accuracy: 80.4598\n",
      "Epoch [19/100], Train Loss: 0.5280, Validation Loss 0.4612,  Accuracy: 79.3103\n",
      "Epoch [20/100], Train Loss: 0.4740, Validation Loss 0.4692,  Accuracy: 79.3103\n",
      "Epoch [21/100], Train Loss: 0.5132, Validation Loss 0.4476,  Accuracy: 77.0115\n",
      "Epoch [22/100], Train Loss: 0.3881, Validation Loss 0.4300,  Accuracy: 79.3103\n",
      "Epoch [23/100], Train Loss: 0.3847, Validation Loss 0.4227,  Accuracy: 75.8621\n",
      "Epoch [24/100], Train Loss: 0.4462, Validation Loss 0.4479,  Accuracy: 78.1609\n",
      "Epoch [25/100], Train Loss: 0.4437, Validation Loss 0.4099,  Accuracy: 77.0115\n",
      "Epoch [26/100], Train Loss: 0.3365, Validation Loss 0.4060,  Accuracy: 77.0115\n",
      "Epoch [27/100], Train Loss: 0.2528, Validation Loss 0.4023,  Accuracy: 75.8621\n",
      "Epoch [28/100], Train Loss: 0.3597, Validation Loss 0.3893,  Accuracy: 74.7126\n",
      "Epoch [29/100], Train Loss: 0.3936, Validation Loss 0.3949,  Accuracy: 75.8621\n",
      "Epoch [30/100], Train Loss: 0.2786, Validation Loss 0.3598,  Accuracy: 75.8621\n",
      "Epoch [31/100], Train Loss: 0.3753, Validation Loss 0.4107,  Accuracy: 75.8621\n",
      "Epoch [32/100], Train Loss: 0.1957, Validation Loss 0.3739,  Accuracy: 77.0115\n",
      "Epoch [33/100], Train Loss: 0.2950, Validation Loss 0.3558,  Accuracy: 78.1609\n",
      "Epoch [34/100], Train Loss: 0.3605, Validation Loss 0.3829,  Accuracy: 75.8621\n",
      "Epoch [35/100], Train Loss: 0.3132, Validation Loss 0.3685,  Accuracy: 78.1609\n",
      "Epoch [36/100], Train Loss: 0.2616, Validation Loss 0.3405,  Accuracy: 75.8621\n",
      "Epoch [37/100], Train Loss: 0.2955, Validation Loss 0.3629,  Accuracy: 79.3103\n",
      "Epoch [38/100], Train Loss: 0.3493, Validation Loss 0.3444,  Accuracy: 74.7126\n",
      "Epoch [39/100], Train Loss: 0.4849, Validation Loss 0.3794,  Accuracy: 77.0115\n",
      "Epoch [40/100], Train Loss: 0.1816, Validation Loss 0.3554,  Accuracy: 78.1609\n",
      "Epoch [41/100], Train Loss: 0.2893, Validation Loss 0.3236,  Accuracy: 78.1609\n",
      "Epoch [42/100], Train Loss: 0.2489, Validation Loss 0.3468,  Accuracy: 79.3103\n",
      "Epoch [43/100], Train Loss: 0.2654, Validation Loss 0.3420,  Accuracy: 77.0115\n",
      "Epoch [44/100], Train Loss: 0.2356, Validation Loss 0.3260,  Accuracy: 77.0115\n",
      "Epoch [45/100], Train Loss: 0.3342, Validation Loss 0.3380,  Accuracy: 77.0115\n",
      "Epoch [46/100], Train Loss: 0.2368, Validation Loss 0.3399,  Accuracy: 75.8621\n",
      "Epoch [47/100], Train Loss: 0.2186, Validation Loss 0.3443,  Accuracy: 77.0115\n",
      "Epoch [48/100], Train Loss: 0.2134, Validation Loss 0.3116,  Accuracy: 74.7126\n",
      "Epoch [49/100], Train Loss: 0.2587, Validation Loss 0.3151,  Accuracy: 73.5632\n",
      "Epoch [50/100], Train Loss: 0.1296, Validation Loss 0.3326,  Accuracy: 79.3103\n",
      "Epoch [51/100], Train Loss: 0.2415, Validation Loss 0.3565,  Accuracy: 75.8621\n",
      "Epoch [52/100], Train Loss: 0.1999, Validation Loss 0.2959,  Accuracy: 77.0115\n",
      "Epoch [53/100], Train Loss: 0.1470, Validation Loss 0.2996,  Accuracy: 77.0115\n",
      "Epoch [54/100], Train Loss: 0.1519, Validation Loss 0.3268,  Accuracy: 77.0115\n",
      "Epoch [55/100], Train Loss: 0.2469, Validation Loss 0.3191,  Accuracy: 77.0115\n",
      "Epoch [56/100], Train Loss: 0.2309, Validation Loss 0.3499,  Accuracy: 78.1609\n",
      "Epoch [57/100], Train Loss: 0.1063, Validation Loss 0.3039,  Accuracy: 75.8621\n",
      "Epoch [58/100], Train Loss: 0.2444, Validation Loss 0.3502,  Accuracy: 77.0115\n",
      "Epoch [59/100], Train Loss: 0.1696, Validation Loss 0.2828,  Accuracy: 78.1609\n",
      "Epoch [60/100], Train Loss: 0.2885, Validation Loss 0.3291,  Accuracy: 77.0115\n",
      "Epoch [61/100], Train Loss: 0.1558, Validation Loss 0.2985,  Accuracy: 77.0115\n",
      "Epoch [62/100], Train Loss: 0.2375, Validation Loss 0.3271,  Accuracy: 77.0115\n",
      "Epoch [63/100], Train Loss: 0.1927, Validation Loss 0.3154,  Accuracy: 75.8621\n",
      "Epoch [64/100], Train Loss: 0.0849, Validation Loss 0.2934,  Accuracy: 78.1609\n",
      "Epoch [65/100], Train Loss: 0.1021, Validation Loss 0.3126,  Accuracy: 78.1609\n",
      "Epoch [66/100], Train Loss: 0.1533, Validation Loss 0.2763,  Accuracy: 78.1609\n",
      "Epoch [67/100], Train Loss: 0.1419, Validation Loss 0.3067,  Accuracy: 77.0115\n",
      "Epoch [68/100], Train Loss: 0.1745, Validation Loss 0.2782,  Accuracy: 78.1609\n",
      "Epoch [69/100], Train Loss: 0.2002, Validation Loss 0.2641,  Accuracy: 79.3103\n",
      "Epoch [70/100], Train Loss: 0.1712, Validation Loss 0.2782,  Accuracy: 78.1609\n",
      "Epoch [71/100], Train Loss: 0.1286, Validation Loss 0.2905,  Accuracy: 78.1609\n",
      "Epoch [72/100], Train Loss: 0.1526, Validation Loss 0.3247,  Accuracy: 78.1609\n",
      "Epoch [73/100], Train Loss: 0.1303, Validation Loss 0.3131,  Accuracy: 78.1609\n",
      "Epoch [74/100], Train Loss: 0.1263, Validation Loss 0.2920,  Accuracy: 77.0115\n",
      "Epoch [75/100], Train Loss: 0.1532, Validation Loss 0.3024,  Accuracy: 78.1609\n",
      "Epoch [76/100], Train Loss: 0.1739, Validation Loss 0.3010,  Accuracy: 74.7126\n",
      "Epoch [77/100], Train Loss: 0.1489, Validation Loss 0.2614,  Accuracy: 80.4598\n",
      "Epoch [78/100], Train Loss: 0.1063, Validation Loss 0.2795,  Accuracy: 78.1609\n",
      "Epoch [79/100], Train Loss: 0.1368, Validation Loss 0.2684,  Accuracy: 79.3103\n",
      "Epoch [80/100], Train Loss: 0.1086, Validation Loss 0.2955,  Accuracy: 75.8621\n",
      "Epoch [81/100], Train Loss: 0.0850, Validation Loss 0.3178,  Accuracy: 75.8621\n",
      "Epoch [82/100], Train Loss: 0.1399, Validation Loss 0.2689,  Accuracy: 78.1609\n",
      "Epoch [83/100], Train Loss: 0.1260, Validation Loss 0.2638,  Accuracy: 75.8621\n",
      "Epoch [84/100], Train Loss: 0.1668, Validation Loss 0.2817,  Accuracy: 78.1609\n",
      "Epoch [85/100], Train Loss: 0.0610, Validation Loss 0.3141,  Accuracy: 74.7126\n",
      "Epoch [86/100], Train Loss: 0.1016, Validation Loss 0.3295,  Accuracy: 75.8621\n",
      "Epoch [87/100], Train Loss: 0.1704, Validation Loss 0.2628,  Accuracy: 75.8621\n",
      "Epoch [88/100], Train Loss: 0.1542, Validation Loss 0.2771,  Accuracy: 75.8621\n",
      "Epoch [89/100], Train Loss: 0.0959, Validation Loss 0.2724,  Accuracy: 75.8621\n",
      "Epoch [90/100], Train Loss: 0.1003, Validation Loss 0.3001,  Accuracy: 75.8621\n",
      "Epoch [91/100], Train Loss: 0.0758, Validation Loss 0.2756,  Accuracy: 75.8621\n",
      "Epoch [92/100], Train Loss: 0.0842, Validation Loss 0.2251,  Accuracy: 79.3103\n",
      "Epoch [93/100], Train Loss: 0.1138, Validation Loss 0.2745,  Accuracy: 77.0115\n",
      "Epoch [94/100], Train Loss: 0.0903, Validation Loss 0.2776,  Accuracy: 75.8621\n",
      "Epoch [95/100], Train Loss: 0.0866, Validation Loss 0.2816,  Accuracy: 79.3103\n",
      "Epoch [96/100], Train Loss: 0.1454, Validation Loss 0.2886,  Accuracy: 74.7126\n",
      "Epoch [97/100], Train Loss: 0.1242, Validation Loss 0.2501,  Accuracy: 78.1609\n",
      "Epoch [98/100], Train Loss: 0.1134, Validation Loss 0.2677,  Accuracy: 78.1609\n",
      "Epoch [99/100], Train Loss: 0.1128, Validation Loss 0.2736,  Accuracy: 78.1609\n",
      "Epoch [100/100], Train Loss: 0.0889, Validation Loss 0.2426,  Accuracy: 78.1609\n",
      "Finished training trainset in 475.26 seconds\n"
     ]
    }
   ],
   "source": [
    "train_loss, val_loss = train(model, optimizer, loss_fn, num_epochs)"
   ]
  },
  {
   "cell_type": "code",
   "execution_count": 63,
   "metadata": {},
   "outputs": [],
   "source": [
    "PATH_RES: str = \"results/\""
   ]
  },
  {
   "cell_type": "code",
   "execution_count": 66,
   "metadata": {},
   "outputs": [
    {
     "name": "stdout",
     "output_type": "stream",
     "text": [
      "Test accuracy of the model on the 173 test images: 81.5 %\n"
     ]
    },
    {
     "data": {
      "image/png": "[encoded data removed]",
      "text/plain": [
       "<Figure size 432x288 with 1 Axes>"
      ]
     },
     "metadata": {
      "needs_background": "light"
     },
     "output_type": "display_data"
    }
   ],
   "source": [
    "# test after train\n",
    "torch.manual_seed(1)\n",
    "test(model, \"alexnet confusion matrix SGD epochs=100 lr=3e-4 weight_decay=0.005 momentum=0.9.png\")"
   ]
  },
  {
   "cell_type": "code",
   "execution_count": 62,
   "metadata": {},
   "outputs": [
    {
     "data": {
      "image/png": "[encoded data removed]",
      "text/plain": [
       "<Figure size 432x288 with 1 Axes>"
      ]
     },
     "metadata": {
      "needs_background": "light"
     },
     "output_type": "display_data"
    }
   ],
   "source": [
    "plt.plot(train_loss, label=\"train loss\")\n",
    "plt.plot(val_loss, label=\"val loss\")\n",
    "plt.ylabel(\"loss\")\n",
    "plt.xlabel(\"num epochs\")\n",
    "plt.title(\"Loss vs num epochs\")\n",
    "plt.legend()\n",
    "plt.savefig(PATH_RES+\"alexnet loss SGD epochs=100 lr=3e-4 weight_decay=0.005 momentum=0.9.png\")\n",
    "# plt.show()"
   ]
  },
  {
   "cell_type": "markdown",
   "metadata": {},
   "source": [
    "# Resnet"
   ]
  },
  {
   "cell_type": "code",
   "execution_count": 26,
   "metadata": {},
   "outputs": [],
   "source": [
    "# resnet50 = torchvision.models.resnet50(pretrained=True)\n",
    "# for e in resnet50.parameters():\n",
    "#    e.requires_grad = False\n",
    "# device = torch.device('cuda:0' if torch.cuda.is_available() else 'cpu')\n",
    "# resnet50.fc = nn.Linear(in_features=2048, out_features=len(types), bias=True)\n",
    "# resnet50.to(device)\n",
    "# # Adaptar el classifier a las clases\n",
    "# optimizer = optim.Adam(resnet50.parameters(), lr=3e-4)\n",
    "# # optimizer = torch.optim.SGD(resnet50.parameters(), lr=0.01, weight_decay = 0.005, momentum = 0.9)  \n",
    "# loss_arr = train(resnet50, optimizer, loss_fn, 100)"
   ]
  }
 ],
 "metadata": {
  "deepnote": {},
  "deepnote_execution_queue": [],
  "deepnote_notebook_id": "9899d9c7-2c90-4677-8138-4c8c81fa9231",
  "kernelspec": {
   "display_name": "Python 3.10.2 64-bit",
   "language": "python",
   "name": "python3"
  },
  "language_info": {
   "codemirror_mode": {
    "name": "ipython",
    "version": 3
   },
   "file_extension": ".py",
   "mimetype": "text/x-python",
   "name": "python",
   "nbconvert_exporter": "python",
   "pygments_lexer": "ipython3",
   "version": "3.10.2"
  },
  "orig_nbformat": 2,
  "vscode": {
   "interpreter": {
    "hash": "341268af697f69dd1ffdcdac7af840419ecb88f390bc16e46c3586102df69d04"
   }
  }
 },
 "nbformat": 4,
 "nbformat_minor": 2
}
