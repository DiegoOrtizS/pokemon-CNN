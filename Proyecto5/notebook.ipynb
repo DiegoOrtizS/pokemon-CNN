{
 "cells": [
  {
   "cell_type": "markdown",
   "metadata": {
    "cell_id": "4ae14676daf9464d8ce41c00f7067385",
    "deepnote_cell_height": 82,
    "deepnote_cell_type": "markdown",
    "tags": []
   },
   "source": [
    "# Librerías"
   ]
  },
  {
   "cell_type": "code",
   "execution_count": 1,
   "metadata": {
    "cell_id": "dca0b91c68df4f6ba8f4ae66fd2d4638",
    "deepnote_cell_height": 495,
    "deepnote_cell_type": "code",
    "deepnote_to_be_reexecuted": false,
    "execution_millis": 6,
    "execution_start": 1656113514131,
    "source_hash": "c29ad971",
    "tags": []
   },
   "outputs": [],
   "source": [
    "import torch\n",
    "import torch.nn as nn\n",
    "import torch.optim as optim\n",
    "import torchvision\n",
    "import torchvision.transforms as transform\n",
    "import torch.nn.functional as F\n",
    "import seaborn as sns\n",
    "\n",
    "import matplotlib.pyplot as plt\n",
    "import numpy as np\n",
    "import math\n",
    "import pandas as pd\n",
    "import sys\n",
    "import json\n",
    "import os\n",
    "import random\n",
    "import time\n",
    "\n",
    "from urllib.request import Request, urlopen, urlretrieve\n",
    "from typing import List\n",
    "from pprint import pprint\n",
    "from PIL import Image\n",
    "from typing_extensions import Required\n",
    "from torchvision import transforms\n",
    "from sklearn.model_selection import train_test_split\n",
    "from torch.utils.data import TensorDataset, DataLoader, Dataset\n",
    "from sklearn import preprocessing\n",
    "from sklearn.metrics import confusion_matrix"
   ]
  },
  {
   "cell_type": "markdown",
   "metadata": {
    "cell_id": "c371cb3d7f6048e1a5dfe620c157b225",
    "deepnote_cell_height": 134,
    "deepnote_cell_type": "markdown",
    "tags": []
   },
   "source": [
    "# Extracción de datos con web scrapping\n"
   ]
  },
  {
   "cell_type": "code",
   "execution_count": 2,
   "metadata": {
    "cell_id": "81c208ada4864ecc85c464e87885a67d",
    "deepnote_cell_height": 99,
    "deepnote_cell_type": "code",
    "deepnote_to_be_reexecuted": false,
    "execution_millis": 5,
    "execution_start": 1656112784191,
    "source_hash": "f913a6e2",
    "tags": []
   },
   "outputs": [],
   "source": [
    "# son 905, pero los últimos no tienen data\n",
    "max_pokemon: int = 898"
   ]
  },
  {
   "cell_type": "code",
   "execution_count": 3,
   "metadata": {
    "cell_id": "1faf299810584c6a8b5973511feceff5",
    "deepnote_cell_height": 117,
    "deepnote_cell_type": "code",
    "deepnote_to_be_reexecuted": false,
    "execution_millis": 2,
    "execution_start": 1656112784205,
    "source_hash": "5c166d96",
    "tags": []
   },
   "outputs": [],
   "source": [
    "dir1: str = \"official-artwork\"\n",
    "if os.path.exists(dir1) == False:\n",
    "    os.mkdir(dir1)"
   ]
  },
  {
   "cell_type": "code",
   "execution_count": 4,
   "metadata": {
    "cell_id": "409ad1cd53bd41938e258722df74999e",
    "deepnote_cell_height": 333,
    "deepnote_cell_type": "code",
    "deepnote_to_be_reexecuted": false,
    "execution_millis": 38558,
    "execution_start": 1656112784214,
    "source_hash": "3b6ed317",
    "tags": []
   },
   "outputs": [
    {
     "data": {
      "text/plain": [
       "' \\nSOLO PARA DESCARGAR DATOS\\n'"
      ]
     },
     "execution_count": 4,
     "metadata": {},
     "output_type": "execute_result"
    }
   ],
   "source": [
    "\"\"\" \n",
    "SOLO PARA DESCARGAR DATOS\n",
    "\"\"\"\n",
    "# for pokemon_id in range(max_pokemon):\n",
    "#     req: Request = Request(\"https://pokeapi.co/api/v2/pokemon/\"+str(pokemon_id+1), \n",
    "#                     headers={'User-Agent': 'Mozilla/5.0'})\n",
    "#     webpage: bytes = urlopen(req).read()\n",
    "#     json_obj: dict = json.loads(webpage)\n",
    "#     img_url: str = json_obj[\"sprites\"][\"other\"][\"official-artwork\"][\"front_default\"]\n",
    "    \n",
    "#     name: str = json_obj[\"species\"][\"name\"]\n",
    "#     type: str = json_obj[\"types\"][0][\"type\"][\"name\"]\n",
    "\n",
    "#     if os.path.exists(dir1+\"/\"+type) == False:\n",
    "#         os.mkdir(dir1+\"/\"+type)\n",
    "    \n",
    "#     img: str = img_url.split(\"/\")[-1]\n",
    "#     urlretrieve(img_url, dir1+\"/\"+type+\"/\"+name+\".png\")"
   ]
  },
  {
   "cell_type": "code",
   "execution_count": 5,
   "metadata": {},
   "outputs": [
    {
     "name": "stdout",
     "output_type": "stream",
     "text": [
      "bug 75\n",
      "dark 36\n",
      "dragon 31\n",
      "electric 49\n",
      "fairy 21\n",
      "fighting 36\n",
      "fire 58\n",
      "flying 7\n",
      "ghost 31\n",
      "grass 86\n",
      "ground 35\n",
      "ice 28\n",
      "normal 109\n",
      "poison 35\n",
      "psychic 58\n",
      "rock 50\n",
      "steel 30\n",
      "water 123\n",
      "['grass', 'fire', 'water', 'electric']\n"
     ]
    }
   ],
   "source": [
    "# Distribución de los datos\n",
    "types: List[str] = os.listdir(dir1)\n",
    "for type in types:\n",
    "    print(type, len(os.listdir(dir1+\"/\"+type)))\n",
    "# types.remove(\"flying\")\n",
    "types = [\"grass\", \"fire\", \"water\", \"electric\"]\n",
    "print(types)\n"
   ]
  },
  {
   "cell_type": "markdown",
   "metadata": {
    "cell_id": "896da40b711a4f8888ab27620132e8d7",
    "deepnote_cell_height": 82,
    "deepnote_cell_type": "markdown",
    "tags": []
   },
   "source": [
    "# CNN"
   ]
  },
  {
   "cell_type": "markdown",
   "metadata": {
    "cell_id": "5c307bb8ebb544d2bc70ddd752aba283",
    "deepnote_cell_height": 70,
    "deepnote_cell_type": "markdown",
    "tags": []
   },
   "source": [
    "## Alexnet"
   ]
  },
  {
   "cell_type": "code",
   "execution_count": 6,
   "metadata": {
    "cell_id": "c159bd33463a49e687f206ca20f7e0ae",
    "deepnote_cell_height": 538.203125,
    "deepnote_cell_type": "code",
    "deepnote_to_be_reexecuted": false,
    "execution_millis": 728,
    "execution_start": 1656112822774,
    "owner_user_id": "32a19c20-c19c-4be0-b488-d37ed4f5b741",
    "source_hash": "7195c826",
    "tags": []
   },
   "outputs": [
    {
     "name": "stderr",
     "output_type": "stream",
     "text": [
      "c:\\Users\\Diego\\AppData\\Local\\Programs\\Python\\Python310\\lib\\site-packages\\torchvision\\models\\_utils.py:208: UserWarning: The parameter 'pretrained' is deprecated since 0.13 and will be removed in 0.15, please use 'weights' instead.\n",
      "  warnings.warn(\n",
      "c:\\Users\\Diego\\AppData\\Local\\Programs\\Python\\Python310\\lib\\site-packages\\torchvision\\models\\_utils.py:223: UserWarning: Arguments other than a weight enum or `None` for 'weights' are deprecated since 0.13 and will be removed in 0.15. The current behavior is equivalent to passing `weights=AlexNet_Weights.IMAGENET1K_V1`. You can also use `weights=AlexNet_Weights.DEFAULT` to get the most up-to-date weights.\n",
      "  warnings.warn(msg)\n"
     ]
    },
    {
     "name": "stdout",
     "output_type": "stream",
     "text": [
      "AlexNet(\n",
      "  (features): Sequential(\n",
      "    (0): Conv2d(3, 64, kernel_size=(11, 11), stride=(4, 4), padding=(2, 2))\n",
      "    (1): ReLU(inplace=True)\n",
      "    (2): MaxPool2d(kernel_size=3, stride=2, padding=0, dilation=1, ceil_mode=False)\n",
      "    (3): Conv2d(64, 192, kernel_size=(5, 5), stride=(1, 1), padding=(2, 2))\n",
      "    (4): ReLU(inplace=True)\n",
      "    (5): MaxPool2d(kernel_size=3, stride=2, padding=0, dilation=1, ceil_mode=False)\n",
      "    (6): Conv2d(192, 384, kernel_size=(3, 3), stride=(1, 1), padding=(1, 1))\n",
      "    (7): ReLU(inplace=True)\n",
      "    (8): Conv2d(384, 256, kernel_size=(3, 3), stride=(1, 1), padding=(1, 1))\n",
      "    (9): ReLU(inplace=True)\n",
      "    (10): Conv2d(256, 256, kernel_size=(3, 3), stride=(1, 1), padding=(1, 1))\n",
      "    (11): ReLU(inplace=True)\n",
      "    (12): MaxPool2d(kernel_size=3, stride=2, padding=0, dilation=1, ceil_mode=False)\n",
      "  )\n",
      "  (avgpool): AdaptiveAvgPool2d(output_size=(6, 6))\n",
      "  (classifier): Sequential(\n",
      "    (0): Dropout(p=0.5, inplace=False)\n",
      "    (1): Linear(in_features=9216, out_features=4096, bias=True)\n",
      "    (2): ReLU(inplace=True)\n",
      "    (3): Dropout(p=0.5, inplace=False)\n",
      "    (4): Linear(in_features=4096, out_features=1024, bias=True)\n",
      "    (5): ReLU(inplace=True)\n",
      "    (6): Linear(in_features=1024, out_features=4, bias=True)\n",
      "  )\n",
      ")\n"
     ]
    }
   ],
   "source": [
    "model = torchvision.models.alexnet(pretrained=True)\n",
    "for e  in model.parameters():\n",
    "   e.requires_grad = False\n",
    "model.classifier[4] = nn.Linear(4096, 1024)\n",
    "model.classifier[6] = nn.Linear(1024, len(types))\n",
    "device = torch.device('cuda:0' if torch.cuda.is_available() else 'cpu')\n",
    "model.to(device)\n",
    "print(model)"
   ]
  },
  {
   "cell_type": "code",
   "execution_count": 7,
   "metadata": {},
   "outputs": [],
   "source": [
    "x: List[str] = []\n",
    "y: List[str] = []\n",
    "for type in types:\n",
    "    pokemon_imgs: List[str] = os.listdir(dir1+\"/\"+type)\n",
    "    for pokemon_img in pokemon_imgs:\n",
    "        x.append(dir1+\"/\"+type+\"/\"+pokemon_img)\n",
    "        y.append(type)"
   ]
  },
  {
   "cell_type": "code",
   "execution_count": 8,
   "metadata": {
    "cell_id": "120e715f486d4e899225b57fbf20e676",
    "deepnote_cell_height": 81,
    "deepnote_cell_type": "code",
    "deepnote_to_be_reexecuted": false,
    "execution_millis": 0,
    "execution_start": 1656113036988,
    "source_hash": "ff7cb9dd",
    "tags": []
   },
   "outputs": [],
   "source": [
    "x_train, x_test, y_train, y_test = train_test_split(x, y, test_size=0.3, stratify=y)"
   ]
  },
  {
   "cell_type": "code",
   "execution_count": 9,
   "metadata": {},
   "outputs": [],
   "source": [
    "class MyDataset(Dataset):\n",
    "      def __init__(self, list_IDs, labels):\n",
    "            self.labels = labels\n",
    "            self.list_IDs = list_IDs\n",
    "\n",
    "      def __len__(self):\n",
    "            return len(self.list_IDs)\n",
    "\n",
    "      def __getitem__(self, index):\n",
    "            # Select sample\n",
    "            ID = self.list_IDs[index]\n",
    "\n",
    "            # Load data and get label\n",
    "            input_image = Image.open(ID)\n",
    "            input_image = input_image.convert('RGB')\n",
    "            preprocess = transforms.Compose([\n",
    "                  transforms.Resize(256),\n",
    "                  transforms.CenterCrop(224),\n",
    "                  transforms.ToTensor()\n",
    "            ])\n",
    "            X = preprocess(input_image)\n",
    "            y = self.labels[index]\n",
    "            return X, y"
   ]
  },
  {
   "cell_type": "code",
   "execution_count": 10,
   "metadata": {},
   "outputs": [],
   "source": [
    "le = preprocessing.LabelEncoder()\n",
    "tensor_y_train = le.fit_transform(y_train)\n",
    "tensor_y_train = torch.as_tensor(tensor_y_train)\n",
    "tensor_y_test = le.fit_transform(y_test)\n",
    "tensor_y_test = torch.as_tensor(tensor_y_test)"
   ]
  },
  {
   "cell_type": "code",
   "execution_count": 11,
   "metadata": {},
   "outputs": [],
   "source": [
    "batch_size = 64\n",
    "data_train = MyDataset(x_train, tensor_y_train)\n",
    "data_test = MyDataset(x_test, tensor_y_test)\n",
    "train_loader = DataLoader(dataset=data_train, batch_size=batch_size, shuffle=True)\n",
    "test_loader = DataLoader(dataset=data_test, batch_size=batch_size, shuffle=False)"
   ]
  },
  {
   "cell_type": "code",
   "execution_count": 12,
   "metadata": {},
   "outputs": [
    {
     "data": {
      "text/plain": [
       "{'electric': 15, 'fire': 17, 'grass': 26, 'water': 37}"
      ]
     },
     "execution_count": 12,
     "metadata": {},
     "output_type": "execute_result"
    }
   ],
   "source": [
    "types_freq: dict = {}\n",
    "for i in y_test:\n",
    "    if i not in types_freq.keys():\n",
    "        types_freq[i] = 0\n",
    "    types_freq[i] += 1\n",
    "types_freq = dict(sorted(types_freq.items(), key=lambda kv: kv[1]))\n",
    "types_freq"
   ]
  },
  {
   "cell_type": "code",
   "execution_count": 13,
   "metadata": {
    "cell_id": "36701edd37294ababa555381dad795f7",
    "deepnote_cell_height": 99,
    "deepnote_cell_type": "code",
    "deepnote_to_be_reexecuted": false,
    "execution_millis": 3,
    "execution_start": 1656113535112,
    "source_hash": "fc1d418",
    "tags": []
   },
   "outputs": [],
   "source": [
    "loss_fn = nn.CrossEntropyLoss()\n",
    "# optimizer = optim.Adam(model.parameters(), lr=0.001)\n",
    "optimizer = optim.SGD(model.parameters(), lr=0.005, weight_decay=0.005, momentum=0.9)\n",
    "# optimizer = optim.SGD(model.parameters(), lr=0.005)\n",
    "total_step = len(train_loader)\n",
    "num_epochs = 100"
   ]
  },
  {
   "cell_type": "code",
   "execution_count": 14,
   "metadata": {},
   "outputs": [],
   "source": [
    "from PIL import ImageFile\n",
    "ImageFile.LOAD_TRUNCATED_IMAGES = True"
   ]
  },
  {
   "cell_type": "code",
   "execution_count": 15,
   "metadata": {},
   "outputs": [],
   "source": [
    "def train(model, optimizer, loss_fn, num_epochs) -> List[float]:\n",
    "  # train the model\n",
    "  total_step: int = len(train_loader)\n",
    "  print(total_step)\n",
    "\n",
    "  list_loss: List[float] = []\n",
    "\n",
    "  beg = time.time()\n",
    "  for epoch in range(num_epochs):\n",
    "    for i, (images, labels) in enumerate(train_loader):\n",
    "      images = images.to(device)\n",
    "      labels = labels.to(device)\n",
    "      # forward \n",
    "      output = model(images)\n",
    "      loss   = loss_fn(output, labels)\n",
    "      # change the params\n",
    "      optimizer.zero_grad()\n",
    "      loss.backward()\n",
    "      optimizer.step()\n",
    "              \n",
    "      # if (i+1) % 100 == 0:\n",
    "        # print ('Epoch [{}/{}], Step [{}/{}], Loss: {:.4f}' \n",
    "        #       .format(epoch+1, num_epochs, i+1, total_step, loss.item()))\n",
    "    list_loss.append(loss.item())\n",
    "    print ('Epoch [{}/{}], Loss: {:.4f}' \n",
    "          .format(epoch+1, num_epochs, loss.item()))\n",
    "  end = time.time()\n",
    "  print('Finished training trainset in {} seconds'.format(round(end-beg, 2)))\n",
    "\n",
    "  return list_loss"
   ]
  },
  {
   "cell_type": "code",
   "execution_count": 16,
   "metadata": {},
   "outputs": [],
   "source": [
    "def test(model):\n",
    "    with torch.no_grad():\n",
    "        correct: int = 0\n",
    "        total: int = 0\n",
    "        all_predicted: list = []\n",
    "        all_labels: list = []\n",
    "        for images, labels in test_loader:\n",
    "            images = images.to(device)\n",
    "            labels = labels.to(device)\n",
    "            outputs = model(images)\n",
    "            _, predicted = torch.max(outputs.data, 1)\n",
    "            total += labels.size(0)\n",
    "            correct += (predicted == labels).sum().item()\n",
    "            all_predicted.extend((predicted).tolist())\n",
    "            all_labels.extend((labels).tolist())\n",
    "        accuracy: float = 100*correct/total\n",
    "        val = (np.unique(le.inverse_transform(all_predicted)))\n",
    "        matrix = confusion_matrix(all_labels, all_predicted)\n",
    "        df = pd.DataFrame(matrix, index=val, columns=val)\n",
    "        sns.heatmap(df, annot=True, cbar=None, cmap=\"Greens\")\n",
    "        plt.title(\"Confusion Matrix\"), plt.tight_layout()\n",
    "        plt.xlabel(\"Predicted\")\n",
    "        plt.ylabel(\"Real\")\n",
    "        plt.show()\n",
    "        print('Test accuracy of the model on the {} test images: {} %'.format(len(data_test), round(accuracy, 2)))\n"
   ]
  },
  {
   "cell_type": "code",
   "execution_count": 17,
   "metadata": {},
   "outputs": [
    {
     "data": {
      "image/png": "[encoded data removed]",
      "text/plain": [
       "<Figure size 432x288 with 1 Axes>"
      ]
     },
     "metadata": {
      "needs_background": "light"
     },
     "output_type": "display_data"
    },
    {
     "name": "stdout",
     "output_type": "stream",
     "text": [
      "Test accuracy of the model on the 95 test images: 24.21 %\n"
     ]
    }
   ],
   "source": [
    "# test before train\n",
    "test(model)"
   ]
  },
  {
   "cell_type": "code",
   "execution_count": 18,
   "metadata": {},
   "outputs": [
    {
     "name": "stdout",
     "output_type": "stream",
     "text": [
      "4\n",
      "Epoch [1/100], Loss: 1.9996\n",
      "Epoch [2/100], Loss: 1.2157\n",
      "Epoch [3/100], Loss: 0.7567\n",
      "Epoch [4/100], Loss: 0.5421\n",
      "Epoch [5/100], Loss: 0.5793\n",
      "Epoch [6/100], Loss: 0.5973\n",
      "Epoch [7/100], Loss: 0.6978\n",
      "Epoch [8/100], Loss: 0.6289\n",
      "Epoch [9/100], Loss: 0.4619\n",
      "Epoch [10/100], Loss: 0.6813\n",
      "Epoch [11/100], Loss: 0.4171\n",
      "Epoch [12/100], Loss: 0.2719\n",
      "Epoch [13/100], Loss: 0.3776\n",
      "Epoch [14/100], Loss: 0.2689\n",
      "Epoch [15/100], Loss: 0.5126\n",
      "Epoch [16/100], Loss: 0.4740\n",
      "Epoch [17/100], Loss: 0.3713\n",
      "Epoch [18/100], Loss: 0.3467\n",
      "Epoch [19/100], Loss: 0.3809\n",
      "Epoch [20/100], Loss: 0.3647\n",
      "Epoch [21/100], Loss: 0.1770\n",
      "Epoch [22/100], Loss: 0.2521\n",
      "Epoch [23/100], Loss: 0.2663\n",
      "Epoch [24/100], Loss: 0.2840\n",
      "Epoch [25/100], Loss: 0.1461\n",
      "Epoch [26/100], Loss: 0.2952\n",
      "Epoch [27/100], Loss: 0.1164\n",
      "Epoch [28/100], Loss: 0.1996\n",
      "Epoch [29/100], Loss: 0.1198\n",
      "Epoch [30/100], Loss: 0.1407\n",
      "Epoch [31/100], Loss: 0.2696\n",
      "Epoch [32/100], Loss: 0.5685\n",
      "Epoch [33/100], Loss: 0.1580\n",
      "Epoch [34/100], Loss: 0.2022\n",
      "Epoch [35/100], Loss: 0.1536\n",
      "Epoch [36/100], Loss: 0.2230\n",
      "Epoch [37/100], Loss: 0.1669\n",
      "Epoch [38/100], Loss: 0.0464\n",
      "Epoch [39/100], Loss: 0.1767\n",
      "Epoch [40/100], Loss: 0.1263\n",
      "Epoch [41/100], Loss: 0.0712\n",
      "Epoch [42/100], Loss: 0.0617\n",
      "Epoch [43/100], Loss: 0.2134\n",
      "Epoch [44/100], Loss: 0.1063\n",
      "Epoch [45/100], Loss: 0.0398\n",
      "Epoch [46/100], Loss: 0.0117\n",
      "Epoch [47/100], Loss: 0.2177\n",
      "Epoch [48/100], Loss: 0.1747\n",
      "Epoch [49/100], Loss: 0.0924\n",
      "Epoch [50/100], Loss: 0.0419\n",
      "Epoch [51/100], Loss: 0.0453\n",
      "Epoch [52/100], Loss: 0.1358\n",
      "Epoch [53/100], Loss: 0.2661\n",
      "Epoch [54/100], Loss: 0.3458\n",
      "Epoch [55/100], Loss: 0.0704\n",
      "Epoch [56/100], Loss: 0.0630\n",
      "Epoch [57/100], Loss: 0.1264\n",
      "Epoch [58/100], Loss: 0.0498\n",
      "Epoch [59/100], Loss: 0.0357\n",
      "Epoch [60/100], Loss: 0.0934\n",
      "Epoch [61/100], Loss: 0.1809\n",
      "Epoch [62/100], Loss: 0.1527\n",
      "Epoch [63/100], Loss: 0.0368\n",
      "Epoch [64/100], Loss: 0.1571\n",
      "Epoch [65/100], Loss: 0.2089\n",
      "Epoch [66/100], Loss: 0.0805\n",
      "Epoch [67/100], Loss: 0.0566\n",
      "Epoch [68/100], Loss: 0.0206\n",
      "Epoch [69/100], Loss: 0.1243\n",
      "Epoch [70/100], Loss: 0.0911\n",
      "Epoch [71/100], Loss: 0.1284\n",
      "Epoch [72/100], Loss: 0.0752\n",
      "Epoch [73/100], Loss: 0.0381\n",
      "Epoch [74/100], Loss: 0.0302\n",
      "Epoch [75/100], Loss: 0.0751\n",
      "Epoch [76/100], Loss: 0.1439\n",
      "Epoch [77/100], Loss: 0.0714\n",
      "Epoch [78/100], Loss: 0.1368\n",
      "Epoch [79/100], Loss: 0.1519\n",
      "Epoch [80/100], Loss: 0.0874\n",
      "Epoch [81/100], Loss: 0.1090\n",
      "Epoch [82/100], Loss: 0.0763\n",
      "Epoch [83/100], Loss: 0.0371\n",
      "Epoch [84/100], Loss: 0.0209\n",
      "Epoch [85/100], Loss: 0.0077\n",
      "Epoch [86/100], Loss: 0.0141\n",
      "Epoch [87/100], Loss: 0.1042\n",
      "Epoch [88/100], Loss: 0.0150\n",
      "Epoch [89/100], Loss: 0.0917\n",
      "Epoch [90/100], Loss: 0.0332\n",
      "Epoch [91/100], Loss: 0.0374\n",
      "Epoch [92/100], Loss: 0.0103\n",
      "Epoch [93/100], Loss: 0.0071\n",
      "Epoch [94/100], Loss: 0.0263\n",
      "Epoch [95/100], Loss: 0.0381\n",
      "Epoch [96/100], Loss: 0.0187\n",
      "Epoch [97/100], Loss: 0.0376\n",
      "Epoch [98/100], Loss: 0.0218\n",
      "Epoch [99/100], Loss: 0.0626\n",
      "Epoch [100/100], Loss: 0.0350\n",
      "Finished training trainset in 133.48 seconds\n"
     ]
    }
   ],
   "source": [
    "loss_arr = train(model, optimizer, loss_fn, num_epochs)"
   ]
  },
  {
   "cell_type": "code",
   "execution_count": 28,
   "metadata": {},
   "outputs": [
    {
     "data": {
      "image/png": "[encoded data removed]",
      "text/plain": [
       "<Figure size 432x288 with 1 Axes>"
      ]
     },
     "metadata": {
      "needs_background": "light"
     },
     "output_type": "display_data"
    },
    {
     "name": "stdout",
     "output_type": "stream",
     "text": [
      "Test accuracy of the model on the 95 test images: 69.47 %\n"
     ]
    }
   ],
   "source": [
    "# test after train\n",
    "torch.manual_seed(1)\n",
    "test(model)"
   ]
  },
  {
   "cell_type": "code",
   "execution_count": 21,
   "metadata": {},
   "outputs": [
    {
     "data": {
      "text/plain": [
       "[<matplotlib.lines.Line2D at 0x29a45057820>]"
      ]
     },
     "execution_count": 21,
     "metadata": {},
     "output_type": "execute_result"
    },
    {
     "data": {
      "image/png": "[encoded data removed]",
      "text/plain": [
       "<Figure size 432x288 with 1 Axes>"
      ]
     },
     "metadata": {
      "needs_background": "light"
     },
     "output_type": "display_data"
    }
   ],
   "source": [
    "plt.plot(loss_arr)"
   ]
  },
  {
   "cell_type": "markdown",
   "metadata": {
    "created_in_deepnote_cell": true,
    "deepnote_cell_type": "markdown",
    "tags": []
   },
   "source": [
    "<a style='text-decoration:none;line-height:16px;display:flex;color:#5B5B62;padding:10px;justify-content:end;' href='https://deepnote.com?utm_source=created-in-deepnote-cell&projectId=3aacc1cb-5089-4847-a621-d96cb5e11cda' target=\"_blank\">\n",
    "<img alt='Created in deepnote.com' style='display:inline;max-height:16px;margin:0px;margin-right:7.5px;' src='data:image/svg+xml;base64,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' > </img>\n",
    "Created in <span style='font-weight:600;margin-left:4px;'>Deepnote</span></a>"
   ]
  }
 ],
 "metadata": {
  "deepnote": {},
  "deepnote_execution_queue": [],
  "deepnote_notebook_id": "9899d9c7-2c90-4677-8138-4c8c81fa9231",
  "kernelspec": {
   "display_name": "Python 3.10.2 64-bit",
   "language": "python",
   "name": "python3"
  },
  "language_info": {
   "codemirror_mode": {
    "name": "ipython",
    "version": 3
   },
   "file_extension": ".py",
   "mimetype": "text/x-python",
   "name": "python",
   "nbconvert_exporter": "python",
   "pygments_lexer": "ipython3",
   "version": "3.10.2"
  },
  "orig_nbformat": 2,
  "vscode": {
   "interpreter": {
    "hash": "341268af697f69dd1ffdcdac7af840419ecb88f390bc16e46c3586102df69d04"
   }
  }
 },
 "nbformat": 4,
 "nbformat_minor": 2
}
